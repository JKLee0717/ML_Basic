{
 "cells": [
  {
   "cell_type": "markdown",
   "metadata": {},
   "source": [
    "Lab02\n",
    "=====\n"
   ]
  },
  {
   "cell_type": "markdown",
   "metadata": {},
   "source": [
    "# Objective\n",
    "\n",
    "분류기법 중 하나인 Decision Tree를 이해하고 사용하는 것 입니다"
   ]
  },
  {
   "cell_type": "markdown",
   "metadata": {},
   "source": [
    "# Decision Tree\n",
    "Decision Tree(의사 결정 트리)는 feature들(변수)에 기반하여 class를 예측하는 모델을 말하며,\n",
    "\n",
    "어떤 rule에 따라 반복적인 이항 결정을 통해 feature를 나눠가며 모델 생성을 수행하는 방법입니다\n",
    "\n",
    "### 장점\n",
    "1. 데이터 전처리를 조금만 필요로 합니다\n",
    "2. 결과를 해석하고 이해하기 쉽습니다.\n",
    "\n",
    "### 한계\n",
    "1. 탐욕적인 방법이라고 부르며, 항상 최적의 모델을 생성한다고 보장할 수 없습니다.\n",
    "2. 한번에 하나의 변수만을 고려하여 데이터가 수직, 수평적으로 구분되지 못할 때 트리가 굉장히 복잡해집니다.\n",
    "\n",
    "\n",
    "feature의 조건에 따라 모델이 생성되기 때문에 rule을 If-Then rule이라고 부릅니다 \n",
    "\n",
    "모델에서, 최상단의 이항결정된 분기를 Root라고 하며, 더이상 나뉘지 않는 부분을 Leaf라고 합니다"
   ]
  },
  {
   "cell_type": "markdown",
   "metadata": {},
   "source": [
    "![title](Images/DTDesc.png)"
   ]
  },
  {
   "cell_type": "markdown",
   "metadata": {},
   "source": [
    "### If-Then Rule\n",
    "만약 참이면~ 거짓이면~ 의 형태로 분기 기준에 따라 이항결정을 수행합니다\n",
    "\n",
    "If-Then이 2개의 feature에 한해 반복적으로 일어나는 것을 보이는 그림입니다.\n",
    "\n",
    "왼쪽 그림은 위에서 소개한 반복적인 이항결정에 따른 구조를 그린 것이고, 오른쪽 그림은 왼쪽 구조를 평면상에 그린 그림입니다\n",
    "<Br><br>\n",
    "![title](Images/DT_IT.png)\n",
    "\n",
    "<br><br>\n",
    "\n",
    "### 분기점\n",
    "  1. 하나의 분기점엔 하나의 feature만 사용해야 합니다.\n",
    "  \n",
    "  \n",
    "  2. **불순도**를 감소시켜야 합니다.\n",
    "\n",
    "#### 불순도란?\n",
    "현재 분기시키고자 하는 데이터에 서로 다른 클래스가 얼마나 많이 섞여 있는지를 의미하는 값입니다.\n",
    "\n",
    "모든 데이터가 하나의 클래스라면 불순도가 0이며 순수하다고 할 수 있습니다.\n",
    "\n",
    "![title](Images/DT_G.png)\n",
    "<br><br>\n",
    "위 그림은 모델에 사용된 feature의 갯수가 2개에서(왼쪽) 3개로 증가했을 때를 어떻게 표현되는지를 나타낸 그림입니다.\n"
   ]
  },
  {
   "cell_type": "code",
   "execution_count": 19,
   "metadata": {},
   "outputs": [],
   "source": [
    "import numpy as np\n",
    "import pandas as pd\n",
    "import matplotlib.pyplot as plt\n",
    "\n",
    "from os.path import join\n",
    "from sklearn.model_selection import train_test_split\n",
    "from sklearn import datasets\n",
    "from sklearn.tree import DecisionTreeClassifier\n",
    "from sklearn.tree import export_graphviz"
   ]
  },
  {
   "cell_type": "markdown",
   "metadata": {},
   "source": [
    "# 1. 데이터 살펴보기\n",
    "이전 수업인 K-NN과 마찬가지로 붓꽃의 종을 분류하는 데이터를 사용합니다.\n",
    "\n",
    "입력변수로는 꽃받침 길이, 꽃받침 너비, 꽃잎의 길이, 꽃잎의 너비 데이터가 출력 변수로는 붓꽃 종(Species)입니다.\n",
    "\n",
    "그리고 학습용 데이터와 테스트용 데이터를 7:3의 비율로 나눕니다.\n"
   ]
  },
  {
   "cell_type": "code",
   "execution_count": 20,
   "metadata": {},
   "outputs": [
    {
     "data": {
      "text/html": [
       "<div>\n",
       "<style scoped>\n",
       "    .dataframe tbody tr th:only-of-type {\n",
       "        vertical-align: middle;\n",
       "    }\n",
       "\n",
       "    .dataframe tbody tr th {\n",
       "        vertical-align: top;\n",
       "    }\n",
       "\n",
       "    .dataframe thead th {\n",
       "        text-align: right;\n",
       "    }\n",
       "</style>\n",
       "<table border=\"1\" class=\"dataframe\">\n",
       "  <thead>\n",
       "    <tr style=\"text-align: right;\">\n",
       "      <th></th>\n",
       "      <th>Id</th>\n",
       "      <th>SepalLengthCm</th>\n",
       "      <th>SepalWidthCm</th>\n",
       "      <th>PetalLengthCm</th>\n",
       "      <th>PetalWidthCm</th>\n",
       "      <th>Species</th>\n",
       "    </tr>\n",
       "  </thead>\n",
       "  <tbody>\n",
       "    <tr>\n",
       "      <th>0</th>\n",
       "      <td>1</td>\n",
       "      <td>5.1</td>\n",
       "      <td>3.5</td>\n",
       "      <td>1.4</td>\n",
       "      <td>0.2</td>\n",
       "      <td>Iris-setosa</td>\n",
       "    </tr>\n",
       "    <tr>\n",
       "      <th>1</th>\n",
       "      <td>2</td>\n",
       "      <td>4.9</td>\n",
       "      <td>3.0</td>\n",
       "      <td>1.4</td>\n",
       "      <td>0.2</td>\n",
       "      <td>Iris-setosa</td>\n",
       "    </tr>\n",
       "    <tr>\n",
       "      <th>2</th>\n",
       "      <td>3</td>\n",
       "      <td>4.7</td>\n",
       "      <td>3.2</td>\n",
       "      <td>1.3</td>\n",
       "      <td>0.2</td>\n",
       "      <td>Iris-setosa</td>\n",
       "    </tr>\n",
       "    <tr>\n",
       "      <th>3</th>\n",
       "      <td>4</td>\n",
       "      <td>4.6</td>\n",
       "      <td>3.1</td>\n",
       "      <td>1.5</td>\n",
       "      <td>0.2</td>\n",
       "      <td>Iris-setosa</td>\n",
       "    </tr>\n",
       "    <tr>\n",
       "      <th>4</th>\n",
       "      <td>5</td>\n",
       "      <td>5.0</td>\n",
       "      <td>3.6</td>\n",
       "      <td>1.4</td>\n",
       "      <td>0.2</td>\n",
       "      <td>Iris-setosa</td>\n",
       "    </tr>\n",
       "  </tbody>\n",
       "</table>\n",
       "</div>"
      ],
      "text/plain": [
       "   Id  SepalLengthCm  SepalWidthCm  PetalLengthCm  PetalWidthCm      Species\n",
       "0   1            5.1           3.5            1.4           0.2  Iris-setosa\n",
       "1   2            4.9           3.0            1.4           0.2  Iris-setosa\n",
       "2   3            4.7           3.2            1.3           0.2  Iris-setosa\n",
       "3   4            4.6           3.1            1.5           0.2  Iris-setosa\n",
       "4   5            5.0           3.6            1.4           0.2  Iris-setosa"
      ]
     },
     "execution_count": 20,
     "metadata": {},
     "output_type": "execute_result"
    }
   ],
   "source": [
    "iris_analysis = pd.read_csv(join('data', 'Iris.csv'))\n",
    "\n",
    "iris_analysis.head()"
   ]
  },
  {
   "cell_type": "code",
   "execution_count": 21,
   "metadata": {},
   "outputs": [],
   "source": [
    "iris_setosa = iris_analysis.loc[iris_analysis['Species'] == 'Iris-setosa']\n",
    "iris_versicolor = iris_analysis.loc[iris_analysis['Species'] == 'Iris-versicolor']\n",
    "iris_virginica = iris_analysis.loc[iris_analysis['Species'] == 'Iris-virginica']"
   ]
  },
  {
   "cell_type": "code",
   "execution_count": 22,
   "metadata": {},
   "outputs": [
    {
     "data": {
      "image/png": "[encoded data removed]",
      "text/plain": [
       "<Figure size 432x288 with 4 Axes>"
      ]
     },
     "metadata": {
      "needs_background": "light"
     },
     "output_type": "display_data"
    }
   ],
   "source": [
    "fig, axs = plt.subplots(2,2)\n",
    "\n",
    "#꽃받침의 길이\n",
    "axs[0, 0].boxplot([iris_setosa['SepalLengthCm'], iris_versicolor['SepalLengthCm'], iris_virginica['SepalLengthCm']],\n",
    "           labels = ['seotosa', 'versicolor', 'virginica'],\n",
    "           meanline = True,\n",
    "           showmeans = True)\n",
    "axs[0, 0].set_title('Sepal length Boxplot')\n",
    "\n",
    "#꽃받침의 너비\n",
    "axs[0, 1].boxplot([iris_setosa['SepalWidthCm'], iris_versicolor['SepalWidthCm'], iris_virginica['SepalWidthCm']],\n",
    "           labels = ['seotosa', 'versicolor', 'virginica'],\n",
    "           meanline = True,\n",
    "           showmeans = True)\n",
    "axs[0, 1].set_title('Sepal width Boxplot')\n",
    "\n",
    "#꽃잎의 길이\n",
    "axs[1, 0].boxplot([iris_setosa['PetalLengthCm'], iris_versicolor['PetalLengthCm'], iris_virginica['PetalLengthCm']],\n",
    "           labels = ['seotosa', 'versicolor', 'virginica'],\n",
    "           meanline = True,\n",
    "           showmeans = True)\n",
    "axs[1, 0].set_title('Petal length Boxplot')\n",
    "\n",
    "#꽃잎의 너비\n",
    "axs[1, 1].boxplot([iris_setosa['PetalWidthCm'], iris_versicolor['PetalWidthCm'], iris_virginica['PetalWidthCm']],\n",
    "           labels = ['seotosa', 'versicolor', 'virginica'],\n",
    "           meanline = True,\n",
    "           showmeans = True)\n",
    "axs[1, 1].set_title('Petal width Boxplot')\n",
    "\n",
    "fig.subplots_adjust(left = 0.01, right = 2, bottom = 0.05, top = 2, hspace = 0.3, wspace = 0.3)\n",
    "\n",
    "plt.show()"
   ]
  },
  {
   "cell_type": "code",
   "execution_count": 23,
   "metadata": {},
   "outputs": [
    {
     "data": {
      "text/html": [
       "<div>\n",
       "<style scoped>\n",
       "    .dataframe tbody tr th:only-of-type {\n",
       "        vertical-align: middle;\n",
       "    }\n",
       "\n",
       "    .dataframe tbody tr th {\n",
       "        vertical-align: top;\n",
       "    }\n",
       "\n",
       "    .dataframe thead th {\n",
       "        text-align: right;\n",
       "    }\n",
       "</style>\n",
       "<table border=\"1\" class=\"dataframe\">\n",
       "  <thead>\n",
       "    <tr style=\"text-align: right;\">\n",
       "      <th></th>\n",
       "      <th>sepal.length</th>\n",
       "      <th>sepal.width</th>\n",
       "      <th>petal.length</th>\n",
       "      <th>petal.width</th>\n",
       "    </tr>\n",
       "  </thead>\n",
       "  <tbody>\n",
       "    <tr>\n",
       "      <th>0</th>\n",
       "      <td>5.1</td>\n",
       "      <td>3.5</td>\n",
       "      <td>1.4</td>\n",
       "      <td>0.2</td>\n",
       "    </tr>\n",
       "    <tr>\n",
       "      <th>1</th>\n",
       "      <td>4.9</td>\n",
       "      <td>3.0</td>\n",
       "      <td>1.4</td>\n",
       "      <td>0.2</td>\n",
       "    </tr>\n",
       "    <tr>\n",
       "      <th>2</th>\n",
       "      <td>4.7</td>\n",
       "      <td>3.2</td>\n",
       "      <td>1.3</td>\n",
       "      <td>0.2</td>\n",
       "    </tr>\n",
       "    <tr>\n",
       "      <th>3</th>\n",
       "      <td>4.6</td>\n",
       "      <td>3.1</td>\n",
       "      <td>1.5</td>\n",
       "      <td>0.2</td>\n",
       "    </tr>\n",
       "    <tr>\n",
       "      <th>4</th>\n",
       "      <td>5.0</td>\n",
       "      <td>3.6</td>\n",
       "      <td>1.4</td>\n",
       "      <td>0.2</td>\n",
       "    </tr>\n",
       "  </tbody>\n",
       "</table>\n",
       "</div>"
      ],
      "text/plain": [
       "   sepal.length  sepal.width  petal.length  petal.width\n",
       "0           5.1          3.5           1.4          0.2\n",
       "1           4.9          3.0           1.4          0.2\n",
       "2           4.7          3.2           1.3          0.2\n",
       "3           4.6          3.1           1.5          0.2\n",
       "4           5.0          3.6           1.4          0.2"
      ]
     },
     "execution_count": 23,
     "metadata": {},
     "output_type": "execute_result"
    }
   ],
   "source": [
    "iris = datasets.load_iris()\n",
    "\n",
    "pd.DataFrame(iris.data, columns=[\"sepal.length\", \"sepal.width\", \"petal.length\", \"petal.width\"]).head()"
   ]
  },
  {
   "cell_type": "markdown",
   "metadata": {},
   "source": [
    "# 2. 간단한 전처리\n",
    "Decision Tree의 가장 큰 장점 중 하나는 데이터의 전처리가 거의 필요 없다는 점입니다.\n",
    "\n",
    "학습용 데이터와 테스트용 데이터를 7:3으로 나누는 작업만 수행하고 모델을 생성하겠습니다."
   ]
  },
  {
   "cell_type": "code",
   "execution_count": 24,
   "metadata": {},
   "outputs": [],
   "source": [
    "X_train, X_test, y_train, y_test = train_test_split(iris.data, iris.target, test_size=0.3, random_state = 1)"
   ]
  },
  {
   "cell_type": "markdown",
   "metadata": {},
   "source": [
    "# 3. sklearn으로 실습해보기\n",
    "\n",
    "## 3-1. Full-Tree만들어보기"
   ]
  },
  {
   "cell_type": "code",
   "execution_count": 25,
   "metadata": {
    "scrolled": true
   },
   "outputs": [
    {
     "data": {
      "text/plain": [
       "DecisionTreeClassifier(class_weight=None, criterion='gini', max_depth=None,\n",
       "                       max_features=None, max_leaf_nodes=None,\n",
       "                       min_impurity_decrease=0.0, min_impurity_split=None,\n",
       "                       min_samples_leaf=1, min_samples_split=2,\n",
       "                       min_weight_fraction_leaf=0.0, presort=False,\n",
       "                       random_state=None, splitter='best')"
      ]
     },
     "execution_count": 25,
     "metadata": {},
     "output_type": "execute_result"
    }
   ],
   "source": [
    "estimator = DecisionTreeClassifier()\n",
    "estimator.fit(X_train, y_train)"
   ]
  },
  {
   "cell_type": "code",
   "execution_count": 26,
   "metadata": {},
   "outputs": [
    {
     "name": "stdout",
     "output_type": "stream",
     "text": [
      "학습 세트 정확도: 100.000%\n",
      "테스트 세트 정확도: 95.556%\n"
     ]
    }
   ],
   "source": [
    "print(\"학습 세트 정확도: {:.3f}%\".format(estimator.score(X_train, y_train) * 100))\n",
    "print(\"테스트 세트 정확도: {:.3f}%\".format(estimator.score(X_test, y_test) * 100))"
   ]
  },
  {
   "cell_type": "markdown",
   "metadata": {},
   "source": [
    "sklearn의 Decision Tree는 각 입력 변수의 영향력을 설명해주는 함수가 있습니다.\n",
    "\n",
    "이를 통해 각 변수가 Decision Tree를 구성하는데 얼마나 영향을 미쳤는지 확인할 수 있습니다."
   ]
  },
  {
   "cell_type": "code",
   "execution_count": 27,
   "metadata": {},
   "outputs": [
    {
     "data": {
      "text/html": [
       "<div>\n",
       "<style scoped>\n",
       "    .dataframe tbody tr th:only-of-type {\n",
       "        vertical-align: middle;\n",
       "    }\n",
       "\n",
       "    .dataframe tbody tr th {\n",
       "        vertical-align: top;\n",
       "    }\n",
       "\n",
       "    .dataframe thead th {\n",
       "        text-align: right;\n",
       "    }\n",
       "</style>\n",
       "<table border=\"1\" class=\"dataframe\">\n",
       "  <thead>\n",
       "    <tr style=\"text-align: right;\">\n",
       "      <th></th>\n",
       "      <th>importance</th>\n",
       "    </tr>\n",
       "  </thead>\n",
       "  <tbody>\n",
       "    <tr>\n",
       "      <th>sepal.length</th>\n",
       "      <td>0.021469</td>\n",
       "    </tr>\n",
       "    <tr>\n",
       "      <th>sepal.width</th>\n",
       "      <td>0.021469</td>\n",
       "    </tr>\n",
       "    <tr>\n",
       "      <th>petal.length</th>\n",
       "      <td>0.063170</td>\n",
       "    </tr>\n",
       "    <tr>\n",
       "      <th>petal.width</th>\n",
       "      <td>0.893892</td>\n",
       "    </tr>\n",
       "  </tbody>\n",
       "</table>\n",
       "</div>"
      ],
      "text/plain": [
       "              importance\n",
       "sepal.length    0.021469\n",
       "sepal.width     0.021469\n",
       "petal.length    0.063170\n",
       "petal.width     0.893892"
      ]
     },
     "execution_count": 27,
     "metadata": {},
     "output_type": "execute_result"
    }
   ],
   "source": [
    "pd.DataFrame(estimator.feature_importances_, index=[\"sepal.length\", \"sepal.width\", \"petal.length\", \"petal.width\"],columns=['importance'])"
   ]
  },
  {
   "cell_type": "markdown",
   "metadata": {},
   "source": [
    "이 모델의 구조를 Scratch로 탐색해보고, Graphviz를 사용하여 시각화까지 해보겠습니다\n",
    "\n",
    "먼저 최대 깊이와, 몇 개의 Leaf가 존재하는지 찾아봅니다"
   ]
  },
  {
   "cell_type": "code",
   "execution_count": 29,
   "metadata": {},
   "outputs": [
    {
     "name": "stdout",
     "output_type": "stream",
     "text": [
      "최대 깊이\t: 4\n",
      "Leaf의 갯수\t: 7\n"
     ]
    }
   ],
   "source": [
    "#n_nodes = 트리를 이루는 전체 분기의 수\n",
    "#children_left = 트리의 모든 왼쪽 자식 분기\n",
    "#children_right = 트리의 모든 오른쪽 자식 분기\n",
    "#feature = 분기의 분기 기준 변수\n",
    "#threshold = 분기의 분기 기준 값\n",
    "\n",
    "n_nodes = estimator.tree_.node_count\n",
    "children_left = estimator.tree_.children_left\n",
    "children_right = estimator.tree_.children_right\n",
    "feature = estimator.tree_.feature\n",
    "threshold = estimator.tree_.threshold\n",
    "\n",
    "#node_depth = 모든 분기의 깊이\n",
    "#is_leaves = 해당 분기의 잎파리 노드 여부\n",
    "#leaves_count = 잎파리 노드의 수\n",
    "\n",
    "node_depth = np.zeros(shape=n_nodes, dtype=np.int64)\n",
    "is_leaves = np.zeros(shape=n_nodes, dtype=bool)\n",
    "leaves_count = 0\n",
    "#첫번째 분기의 ID는 -1이기 때문에 -1을 가진 stack 생성\n",
    "stack = [(0, -1)]\n",
    "\n",
    "#모든 분기를 순회하며 해당 분기의 깊이, 잎파리 여부를 파악\n",
    "#전체 잎파리 노드의 수 조사\n",
    "while len(stack) > 0:\n",
    "    node_id, parent_depth = stack.pop()\n",
    "    node_depth[node_id] = parent_depth + 1\n",
    "\n",
    "    if (children_left[node_id] != children_right[node_id]):\n",
    "        stack.append((children_left[node_id], parent_depth + 1))\n",
    "        stack.append((children_right[node_id], parent_depth + 1))\n",
    "    else:\n",
    "        is_leaves[node_id] = True\n",
    "        leaves_count += 1\n",
    "        \n",
    "print('최대 깊이\\t: %d'%np.max(node_depth))\n",
    "print('Leaf의 갯수\\t: %d'%leaves_count)"
   ]
  },
  {
   "cell_type": "markdown",
   "metadata": {},
   "source": [
    "이어서, 위에서 찾은 최대 깊이와, Leaf의 갯수를 사용하여 모델의 구조를 텍스트로 출력해보겠습니다"
   ]
  },
  {
   "cell_type": "code",
   "execution_count": 30,
   "metadata": {},
   "outputs": [
    {
     "name": "stdout",
     "output_type": "stream",
     "text": [
      "node=0 test node: go to node 1 if petal.width <= 0.8000 else to node 2.\n",
      "\tnode=1 leaf node.\n",
      "\tnode=2 test node: go to node 3 if petal.width <= 1.6500 else to node 8.\n",
      "\t\tnode=3 test node: go to node 4 if petal.length <= 5.0000 else to node 5.\n",
      "\t\t\tnode=4 leaf node.\n",
      "\t\t\tnode=5 test node: go to node 6 if sepal.length <= 6.0500 else to node 7.\n",
      "\t\t\t\tnode=6 leaf node.\n",
      "\t\t\t\tnode=7 leaf node.\n",
      "\t\tnode=8 test node: go to node 9 if petal.length <= 4.8500 else to node 12.\n",
      "\t\t\tnode=9 test node: go to node 10 if sepal.width <= 3.1000 else to node 11.\n",
      "\t\t\t\tnode=10 leaf node.\n",
      "\t\t\t\tnode=11 leaf node.\n",
      "\t\t\tnode=12 leaf node.\n"
     ]
    }
   ],
   "source": [
    "#모든 분기의 정보를 출력\n",
    "#tab을 활용하여 깊이를 확인할 수 있으며 각 분기가 어떤 변수의 어떤 값을 기준으로 이루어졌는지 확인할 수 있다.\n",
    "cols=[\"sepal.length\", \"sepal.width\", \"petal.length\", \"petal.width\"]\n",
    "for i in range(n_nodes):\n",
    "    if is_leaves[i]:\n",
    "        print(\"%snode=%s leaf node.\" % (node_depth[i] * \"\\t\", i))\n",
    "    else:\n",
    "        print(\"%snode=%s test node: go to node %s if %s <= %.4f else to \"\n",
    "              \"node %s.\"\n",
    "              % (node_depth[i] * \"\\t\",\n",
    "                 i,\n",
    "                 children_left[i],\n",
    "                 cols[feature[i]],\n",
    "                 threshold[i],\n",
    "                 children_right[i],\n",
    "                 ))\n",
    "        "
   ]
  },
  {
   "cell_type": "markdown",
   "metadata": {},
   "source": [
    "## 트리 시각화하기\n",
    "**graphviz** 라는 라이브러리를 통해 시각화 할 수 있습니다.\n",
    "\n",
    "우리는 graphviz의 기능을 웹에서도 수행해주는 **Webgraphviz**를 통해 시각화를 수행해보겠습니다.\n",
    "\n",
    "![title](Images/DT_graphviz.png)\n",
    "\n",
    "![title](Images/DT_fullTree.png)"
   ]
  },
  {
   "cell_type": "code",
   "execution_count": 12,
   "metadata": {},
   "outputs": [],
   "source": [
    "export_graphviz(estimator, out_file='full_tree.dot')"
   ]
  },
  {
   "cell_type": "markdown",
   "metadata": {},
   "source": [
    "## 3-2. Full Tree의 위험성\n",
    "\n",
    "Full Tree는 대부분의 경우 Overfitting되거나, 비슷한 성능임에도 복잡한 구조를 가지게 됩니다.\n",
    "\n",
    "이것을 다른 데이터셋을 사용하여 확인해보겠습니다\n",
    "\n",
    "이번에 사용할 데이터는 전복 데이터 입니다. 이를 활용해 앞의 붓꽃 데이터와 같은 전처리를 진행 한 후 전복의 성별을 분류하는 모델을 Full Tree로 생성하고 확인해봅시다.\n",
    "\n",
    "+ criterion = 분기 기준 설정방법으로 'gini', 'entropy'가 존재합니다.\n",
    "+ max_depth = 트리가 가지는 최대 깊이를 지정하여 해당 수에 도달하면 트리의 성장을 멈춥니다.\n",
    "+ max_leaf_nodes = 최대 leaf node의 수를 지정하여 해당 수에 도달하면 트리의 성장을 멈춥니다."
   ]
  },
  {
   "cell_type": "code",
   "execution_count": 31,
   "metadata": {},
   "outputs": [],
   "source": [
    "columns = list()\n",
    "with open(join('data', 'abalone_attributes.txt'), 'r') as f:\n",
    "    columns = f.read().split('\\n')\n",
    "abalone = pd.read_csv(join('data','abalone.txt'), names=columns)\n",
    "\n",
    "y = abalone['Sex']\n",
    "\n",
    "X = abalone\n",
    "del X['Sex']"
   ]
  },
  {
   "cell_type": "code",
   "execution_count": 32,
   "metadata": {},
   "outputs": [
    {
     "name": "stdout",
     "output_type": "stream",
     "text": [
      "학습 세트 정확도  : 1.000\n",
      "테스트 세트 정확도: 0.477\n"
     ]
    }
   ],
   "source": [
    "X_train, X_test, y_train, y_test = train_test_split(X, y, test_size=0.3, random_state = 1)\n",
    "\n",
    "estimator = DecisionTreeClassifier()\n",
    "estimator.fit(X_train, y_train)\n",
    "print(\"학습 세트 정확도  : {:.3f}\".format(estimator.score(X_train, y_train)))\n",
    "print(\"테스트 세트 정확도: {:.3f}\".format(estimator.score(X_test, y_test)))"
   ]
  },
  {
   "cell_type": "code",
   "execution_count": 33,
   "metadata": {},
   "outputs": [
    {
     "name": "stdout",
     "output_type": "stream",
     "text": [
      "최대 깊이\t: 28\n",
      "Leaf의 갯수\t: 862\n"
     ]
    }
   ],
   "source": [
    "#n_nodes = 트리를 이루는 전체 분기의 수\n",
    "#children_left = 트리의 모든 왼쪽 자식 분기\n",
    "#children_right = 트리의 모든 오른쪽 자식 분기\n",
    "#feature = 분기의 분기 기준 변수\n",
    "#threshold = 분기의 분기 기준 값\n",
    "\n",
    "n_nodes = estimator.tree_.node_count\n",
    "children_left = estimator.tree_.children_left\n",
    "children_right = estimator.tree_.children_right\n",
    "feature = estimator.tree_.feature\n",
    "threshold = estimator.tree_.threshold\n",
    "\n",
    "#node_depth = 모든 분기의 깊이\n",
    "#is_leaves = 해당 분기의 잎파리 노드 여부\n",
    "#leaves_count = 잎파리 노드의 수\n",
    "\n",
    "node_depth = np.zeros(shape=n_nodes, dtype=np.int64)\n",
    "is_leaves = np.zeros(shape=n_nodes, dtype=bool)\n",
    "leaves_count = 0\n",
    "#첫번째 분기의 ID는 -1이기 때문에 -1을 가진 stack 생성\n",
    "stack = [(0, -1)]\n",
    "\n",
    "#모든 분기를 순회하며 해당 분기의 깊이, 잎파리 여부를 파악\n",
    "#전체 잎파리 노드의 수 조사\n",
    "while len(stack) > 0:\n",
    "    node_id, parent_depth = stack.pop()\n",
    "    node_depth[node_id] = parent_depth + 1\n",
    "\n",
    "    if (children_left[node_id] != children_right[node_id]):\n",
    "        stack.append((children_left[node_id], parent_depth + 1))\n",
    "        stack.append((children_right[node_id], parent_depth + 1))\n",
    "    else:\n",
    "        is_leaves[node_id] = True\n",
    "        leaves_count += 1\n",
    "        \n",
    "print('최대 깊이\\t: %d'%np.max(node_depth))\n",
    "print('Leaf의 갯수\\t: %d'%leaves_count)"
   ]
  },
  {
   "cell_type": "code",
   "execution_count": 34,
   "metadata": {},
   "outputs": [
    {
     "data": {
      "text/html": [
       "<div>\n",
       "<style scoped>\n",
       "    .dataframe tbody tr th:only-of-type {\n",
       "        vertical-align: middle;\n",
       "    }\n",
       "\n",
       "    .dataframe tbody tr th {\n",
       "        vertical-align: top;\n",
       "    }\n",
       "\n",
       "    .dataframe thead th {\n",
       "        text-align: right;\n",
       "    }\n",
       "</style>\n",
       "<table border=\"1\" class=\"dataframe\">\n",
       "  <thead>\n",
       "    <tr style=\"text-align: right;\">\n",
       "      <th></th>\n",
       "      <th>Importance</th>\n",
       "    </tr>\n",
       "  </thead>\n",
       "  <tbody>\n",
       "    <tr>\n",
       "      <th>Length</th>\n",
       "      <td>0.092385</td>\n",
       "    </tr>\n",
       "    <tr>\n",
       "      <th>Diameter</th>\n",
       "      <td>0.081967</td>\n",
       "    </tr>\n",
       "    <tr>\n",
       "      <th>Height</th>\n",
       "      <td>0.076765</td>\n",
       "    </tr>\n",
       "    <tr>\n",
       "      <th>Whole weight</th>\n",
       "      <td>0.129865</td>\n",
       "    </tr>\n",
       "    <tr>\n",
       "      <th>Shucked weight</th>\n",
       "      <td>0.131365</td>\n",
       "    </tr>\n",
       "    <tr>\n",
       "      <th>Viscera weight</th>\n",
       "      <td>0.278556</td>\n",
       "    </tr>\n",
       "    <tr>\n",
       "      <th>Shell weight</th>\n",
       "      <td>0.116788</td>\n",
       "    </tr>\n",
       "    <tr>\n",
       "      <th>Rings</th>\n",
       "      <td>0.092310</td>\n",
       "    </tr>\n",
       "  </tbody>\n",
       "</table>\n",
       "</div>"
      ],
      "text/plain": [
       "                Importance\n",
       "Length            0.092385\n",
       "Diameter          0.081967\n",
       "Height            0.076765\n",
       "Whole weight      0.129865\n",
       "Shucked weight    0.131365\n",
       "Viscera weight    0.278556\n",
       "Shell weight      0.116788\n",
       "Rings             0.092310"
      ]
     },
     "execution_count": 34,
     "metadata": {},
     "output_type": "execute_result"
    }
   ],
   "source": [
    "pd.DataFrame(estimator.feature_importances_,index=X.keys(),columns=['Importance'])"
   ]
  },
  {
   "cell_type": "code",
   "execution_count": 35,
   "metadata": {},
   "outputs": [],
   "source": [
    "export_graphviz(estimator, out_file='abalone_tree.dot')"
   ]
  },
  {
   "cell_type": "markdown",
   "metadata": {},
   "source": [
    "# 4. 가지치기\n",
    "위에서 확인한 것 처럼 Full Tree는 학습용 데이터에 대해서는 완벽하게 동작할 지라도 테스트용 데이터에는 매우 낮은 정확도를 보였습니다\n",
    "\n",
    "이러한 점으로 봤을 때, Full Tree는 우리가 가진 데이터를 분류하는데 최적의 모델이 아님을 알 수 있습니다. \n",
    "\n",
    "따라서, 과적합 되는 문제를 해결하기 위해, **가지치기(Pruning)** 라는 개념이 등장했습니다. \n",
    "\n",
    "가지치기는 특정 가지의 유무에 따른 아래의 비용(Cost)함수의 값의 차이를 확인하여 더 적은 쪽의 트리를 채택하는 방법으로 진행됩니다.\n",
    "\n",
    "![title](Images/DT_C.png)\n",
    "\n",
    "위의 식에서 $Err(T)$는 의사 결정 트리가 맞추지 못한 답의 비율을 나타내고, \n",
    "\n",
    "$\\alpha * L(T)$ 는 사용자가 설정한 계수 $\\alpha$와 잎파리 노드(Leaf node)의 수를 곱한 값입니다.\n",
    "\n",
    "이렇게 만들어진 cost를 사용하여, 정확도 뿐만 아니라 트리 구조의 복잡도 또한 반영하여 Decision Tree를 만들 수 있습니다"
   ]
  },
  {
   "cell_type": "markdown",
   "metadata": {},
   "source": [
    "# 5. sklearn으로 가지치기\n",
    "가지치기는 크게 두 가지로 나눌 수 있습니다.\n",
    "\n",
    "+ 사후 가지치기(post-pruning): Full Tree를 생성한 후에 가지치기를 수행하는 것\n",
    "+ 사전 가지치기(pre-pruning): 의사 결정 트리를 생성하기 전에 미리 트리의 복잡도를 제한해 두는 것입니다.\n",
    "\n",
    "sklearn의 Decision Tree는 입력 인자를 통해 사전 가지치기를 지원하고 있습니다.\n",
    "\n",
    "이를 통해 사전 가지치기를 수행하고 테스트용 데이터의 정확도를 0.5 이상 높여보세요\n",
    "\n",
    "#### 입력 인자\n",
    "+ criterion: 분기를 정함에 있어 기준이 되는 것('gini', 'entropy')\n",
    "+ splliter: 분기의 기준 값을 결정하는 방법('best', 'random')\n",
    "+ max_depth: 트리가 가질 수 있는 최대 깊이 해당 깊이 이상의 가지는 더 이상 자라지 않는다.(None, Integer = 수)\n",
    "+ min_samples_split: 분기에서 데이터를 쪼갤 때 최소한의 수(Integer = 수, Float = 비율)\n",
    "+ min_samples_leaf: 트리가 가질 최소한의 잎파리 노드의 수(Integer = 수, Float = 비율)\n",
    "+ max_feature: 분기의 조건 변수를 선택할 때 확인할 변수의 수(None = 전체확인, 'auto', 'sqrt', 'log2', Integer = 수, Float = 비율)\n",
    "+ max_leaf_nodes: 트리가 가질 최대한의 잎파리 노드의 수(None, Integer = 수)\n",
    "+ min_impurity_decrease: 분기가 감소시켜야할 최소한의 불순도"
   ]
  },
  {
   "cell_type": "code",
   "execution_count": 138,
   "metadata": {},
   "outputs": [],
   "source": [
    "oof=pd.DataFrame()\n",
    "n=0\n",
    "for md in range(2,20):\n",
    "    for mln in range(5,500):\n",
    "        for msl in range(1,10):\n",
    "            \n",
    "            estimator = DecisionTreeClassifier(criterion = 'entropy',\n",
    "                                               max_depth = md,\n",
    "                                               max_leaf_nodes = mln,\n",
    "                                               min_samples_leaf=msl,\n",
    "                                              )\n",
    "\n",
    "            estimator.fit(X_train, y_train)\n",
    "\n",
    "            oof.loc[n,'Max_Depth']=md\n",
    "            oof.loc[n,'Max_Leaf_Node']=mln\n",
    "            oof.loc[n,'Min_Samples_Leaf']=msl\n",
    "            oof.loc[n,'Train_score']=estimator.score(X_train, y_train)\n",
    "            oof.loc[n,'Test_score']=estimator.score(X_test, y_test)\n",
    "            n+=1\n",
    "        \n",
    "# print(\"학습 세트 정확도: {:.3f}\".format(estimator.score(X_train, y_train)))\n",
    "# print(\"테스트 세트 정확도: {:.3f}\".format(estimator.score(X_test, y_test)))"
   ]
  },
  {
   "cell_type": "code",
   "execution_count": 139,
   "metadata": {
    "scrolled": false
   },
   "outputs": [
    {
     "data": {
      "text/plain": [
       "Max_Depth            12.000000\n",
       "Max_Leaf_Node       274.000000\n",
       "Min_Samples_Leaf      6.000000\n",
       "Train_score           0.745125\n",
       "Test_score            0.554226\n",
       "Name: 46976, dtype: float64"
      ]
     },
     "execution_count": 139,
     "metadata": {},
     "output_type": "execute_result"
    }
   ],
   "source": [
    "oof.iloc[oof.loc[:,'Test_score'].idxmax(),:]"
   ]
  },
  {
   "cell_type": "code",
   "execution_count": 37,
   "metadata": {},
   "outputs": [
    {
     "data": {
      "text/plain": [
       "DecisionTreeClassifier(class_weight=None, criterion='entropy', max_depth=12,\n",
       "                       max_features=None, max_leaf_nodes=274,\n",
       "                       min_impurity_decrease=0.0, min_impurity_split=None,\n",
       "                       min_samples_leaf=6, min_samples_split=2,\n",
       "                       min_weight_fraction_leaf=0.0, presort=False,\n",
       "                       random_state=None, splitter='best')"
      ]
     },
     "execution_count": 37,
     "metadata": {},
     "output_type": "execute_result"
    }
   ],
   "source": [
    "estimator = DecisionTreeClassifier(criterion = 'entropy',\n",
    "                                   max_depth = 12,\n",
    "                                   max_leaf_nodes = 274,\n",
    "                                   min_samples_leaf = 6,\n",
    "                                  )\n",
    "\n",
    "estimator.fit(X_train, y_train)"
   ]
  },
  {
   "cell_type": "code",
   "execution_count": 38,
   "metadata": {},
   "outputs": [
    {
     "name": "stdout",
     "output_type": "stream",
     "text": [
      "최대 깊이\t: 12\n",
      "Leaf의 갯수\t: 274\n"
     ]
    }
   ],
   "source": [
    "#n_nodes = 트리를 이루는 전체 분기의 수\n",
    "#children_left = 트리의 모든 왼쪽 자식 분기\n",
    "#children_right = 트리의 모든 오른쪽 자식 분기\n",
    "#feature = 분기의 분기 기준 변수\n",
    "#threshold = 분기의 분기 기준 값\n",
    "\n",
    "n_nodes = estimator.tree_.node_count\n",
    "children_left = estimator.tree_.children_left\n",
    "children_right = estimator.tree_.children_right\n",
    "feature = estimator.tree_.feature\n",
    "threshold = estimator.tree_.threshold\n",
    "\n",
    "#node_depth = 모든 분기의 깊이\n",
    "#is_leaves = 해당 분기의 잎파리 노드 여부\n",
    "#leaves_count = 잎파리 노드의 수\n",
    "\n",
    "node_depth = np.zeros(shape=n_nodes, dtype=np.int64)\n",
    "is_leaves = np.zeros(shape=n_nodes, dtype=bool)\n",
    "leaves_count = 0\n",
    "#첫번째 분기의 ID는 -1이기 때문에 -1을 가진 stack 생성\n",
    "stack = [(0, -1)]\n",
    "\n",
    "#모든 분기를 순회하며 해당 분기의 깊이, 잎파리 여부를 파악\n",
    "#전체 잎파리 노드의 수 조사\n",
    "while len(stack) > 0:\n",
    "    node_id, parent_depth = stack.pop()\n",
    "    node_depth[node_id] = parent_depth + 1\n",
    "\n",
    "    if (children_left[node_id] != children_right[node_id]):\n",
    "        stack.append((children_left[node_id], parent_depth + 1))\n",
    "        stack.append((children_right[node_id], parent_depth + 1))\n",
    "    else:\n",
    "        is_leaves[node_id] = True\n",
    "        leaves_count += 1\n",
    "        \n",
    "print('최대 깊이\\t: %d'%np.max(node_depth))\n",
    "print('Leaf의 갯수\\t: %d'%leaves_count)"
   ]
  },
  {
   "cell_type": "code",
   "execution_count": 151,
   "metadata": {},
   "outputs": [],
   "source": [
    "export_graphviz(estimator, out_file='abalone_pruning_tree.dot')"
   ]
  },
  {
   "cell_type": "markdown",
   "metadata": {},
   "source": [
    "# 6. Reference\n",
    "+ Decision Tree: https://ko.wikipedia.org/wiki/%EA%B2%B0%EC%A0%95_%ED%8A%B8%EB%A6%AC_%ED%95%99%EC%8A%B5%EB%B2%95\n",
    "+ Decision Tree(sklearn): https://scikit-learn.org/stable/modules/generated/sklearn.tree.DecisionTreeClassifier.html#sklearn.tree.DecisionTreeClassifier\n",
    "+ Tree Estimate(sklearn): https://scikit-learn.org/stable/auto_examples/tree/plot_unveil_tree_structure.html#sphx-glr-auto-examples-tree-plot-unveil-tree-structure-py\n",
    "+ Webgraphviz: http://www.webgraphviz.com/"
   ]
  }
 ],
 "metadata": {
  "kernelspec": {
   "display_name": "samsung",
   "language": "python",
   "name": "samsung"
  },
  "language_info": {
   "codemirror_mode": {
    "name": "ipython",
    "version": 3
   },
   "file_extension": ".py",
   "mimetype": "text/x-python",
   "name": "python",
   "nbconvert_exporter": "python",
   "pygments_lexer": "ipython3",
   "version": "3.6.7"
  }
 },
 "nbformat": 4,
 "nbformat_minor": 2
}
