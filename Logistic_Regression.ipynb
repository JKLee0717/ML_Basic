{
 "cells": [
  {
   "cell_type": "markdown",
   "metadata": {},
   "source": [
    "Lab02\n",
    "============"
   ]
  },
  {
   "cell_type": "markdown",
   "metadata": {},
   "source": [
    "# Objective\n",
    "\n",
    "분류기법 중 하나인 회귀에 기반한 모델 Logistic Regression을 이해하고 사용하는 것 입니다"
   ]
  },
  {
   "cell_type": "markdown",
   "metadata": {},
   "source": [
    "\n",
    "\n",
    "# Logistic Regression\n",
    "\n",
    "\n",
    "Logistic Regression은 클래스 분류문제를 해결하기 위해 회귀를 사용한 방법입니다\n",
    "\n",
    "독립 변수의 선형 결합으로 종속 변수를 설명하는 부분은 선형 회귀(Linear Regression)와 같으나,\n",
    "\n",
    "모델의 결과물로써 특정 클래스로 분류될 확률이 나오기 때문에 분류문제를 수행할 수 있는 방법입니다.\n",
    "\n",
    "## odds\n",
    "어떤 일이 발생할 **상대적인** 비율을 말합니다\n",
    "<br><br>\n",
    "발생할 확률 $p$ 와 발생하지 않을 확률 $q = 1-p$ 에 대해 두 확률의 상대적인 비율을 정의하면 아래와 같습니다\n",
    "\n",
    "![title](Images/ODD_F.png)\n",
    "\n",
    "## Log(odds)\n",
    "\n",
    "1. 0을 기준으로 상호 대칭적\n",
    "2. 계산이 용이\n",
    "\n",
    "![title](Images/ODD_G.png)\n",
    "\n",
    "## Logistic Function(sigmoid)\n",
    "해당 클래스일 확률 Y를 Log(odds)로 보고 이를 유도해보겠습니다\n",
    "\n",
    "![title](Images/sigmoid_F1.png)\n",
    "\n",
    "![title](Images/sigmoid_F2.png)\n",
    "\n",
    "위에 정리된 식을 가설 그래프로 나타내면\n",
    "\n",
    "![title](Images/sigmoid_G.png)\n"
   ]
  },
  {
   "cell_type": "code",
   "execution_count": 1,
   "metadata": {},
   "outputs": [],
   "source": [
    "import numpy as np\n",
    "import pandas as pd\n",
    "import matplotlib.pyplot as plt\n",
    "from os.path import join\n",
    "from matplotlib.colors import ListedColormap\n",
    "from sklearn.linear_model import LogisticRegression\n",
    "from sklearn import datasets\n",
    "from sklearn.model_selection import train_test_split\n",
    "from scipy import optimize as op\n",
    "from sklearn.metrics import confusion_matrix\n",
    "from sklearn.metrics import accuracy_score\n",
    "from sklearn.utils import shuffle\n",
    "from sklearn.preprocessing import label_binarize\n",
    "from sklearn.multiclass import OneVsRestClassifier\n",
    "from sklearn.metrics import roc_curve, auc\n",
    "from scipy import interp"
   ]
  },
  {
   "cell_type": "markdown",
   "metadata": {},
   "source": [
    "# 1. 데이터 살펴보기\n",
    "앞서 사용했던 붓꽃 데이터를 사용합니다.\n",
    "\n",
    "독립 변수로는 꽃받침 길이, 꽃받침 너비, 꽃잎의 길이, 꽃잎의 너비 데이터가 종속 변수로는 붓꽃 종(Species)입니다."
   ]
  },
  {
   "cell_type": "code",
   "execution_count": 2,
   "metadata": {},
   "outputs": [
    {
     "data": {
      "text/html": [
       "<div>\n",
       "<style scoped>\n",
       "    .dataframe tbody tr th:only-of-type {\n",
       "        vertical-align: middle;\n",
       "    }\n",
       "\n",
       "    .dataframe tbody tr th {\n",
       "        vertical-align: top;\n",
       "    }\n",
       "\n",
       "    .dataframe thead th {\n",
       "        text-align: right;\n",
       "    }\n",
       "</style>\n",
       "<table border=\"1\" class=\"dataframe\">\n",
       "  <thead>\n",
       "    <tr style=\"text-align: right;\">\n",
       "      <th></th>\n",
       "      <th>Id</th>\n",
       "      <th>SepalLengthCm</th>\n",
       "      <th>SepalWidthCm</th>\n",
       "      <th>PetalLengthCm</th>\n",
       "      <th>PetalWidthCm</th>\n",
       "      <th>Species</th>\n",
       "    </tr>\n",
       "  </thead>\n",
       "  <tbody>\n",
       "    <tr>\n",
       "      <th>0</th>\n",
       "      <td>1</td>\n",
       "      <td>5.1</td>\n",
       "      <td>3.5</td>\n",
       "      <td>1.4</td>\n",
       "      <td>0.2</td>\n",
       "      <td>Iris-setosa</td>\n",
       "    </tr>\n",
       "    <tr>\n",
       "      <th>1</th>\n",
       "      <td>2</td>\n",
       "      <td>4.9</td>\n",
       "      <td>3.0</td>\n",
       "      <td>1.4</td>\n",
       "      <td>0.2</td>\n",
       "      <td>Iris-setosa</td>\n",
       "    </tr>\n",
       "    <tr>\n",
       "      <th>2</th>\n",
       "      <td>3</td>\n",
       "      <td>4.7</td>\n",
       "      <td>3.2</td>\n",
       "      <td>1.3</td>\n",
       "      <td>0.2</td>\n",
       "      <td>Iris-setosa</td>\n",
       "    </tr>\n",
       "    <tr>\n",
       "      <th>3</th>\n",
       "      <td>4</td>\n",
       "      <td>4.6</td>\n",
       "      <td>3.1</td>\n",
       "      <td>1.5</td>\n",
       "      <td>0.2</td>\n",
       "      <td>Iris-setosa</td>\n",
       "    </tr>\n",
       "    <tr>\n",
       "      <th>4</th>\n",
       "      <td>5</td>\n",
       "      <td>5.0</td>\n",
       "      <td>3.6</td>\n",
       "      <td>1.4</td>\n",
       "      <td>0.2</td>\n",
       "      <td>Iris-setosa</td>\n",
       "    </tr>\n",
       "  </tbody>\n",
       "</table>\n",
       "</div>"
      ],
      "text/plain": [
       "   Id  SepalLengthCm  SepalWidthCm  PetalLengthCm  PetalWidthCm      Species\n",
       "0   1            5.1           3.5            1.4           0.2  Iris-setosa\n",
       "1   2            4.9           3.0            1.4           0.2  Iris-setosa\n",
       "2   3            4.7           3.2            1.3           0.2  Iris-setosa\n",
       "3   4            4.6           3.1            1.5           0.2  Iris-setosa\n",
       "4   5            5.0           3.6            1.4           0.2  Iris-setosa"
      ]
     },
     "execution_count": 2,
     "metadata": {},
     "output_type": "execute_result"
    }
   ],
   "source": [
    "iris_analysis = pd.read_csv(join('data', 'Iris.csv'))\n",
    "\n",
    "iris_analysis.head()"
   ]
  },
  {
   "cell_type": "code",
   "execution_count": 3,
   "metadata": {},
   "outputs": [],
   "source": [
    "iris_setosa = iris_analysis.loc[iris_analysis['Species'] == 'Iris-setosa']\n",
    "iris_versicolor = iris_analysis.loc[iris_analysis['Species'] == 'Iris-versicolor']\n",
    "iris_virginica = iris_analysis.loc[iris_analysis['Species'] == 'Iris-virginica']"
   ]
  },
  {
   "cell_type": "code",
   "execution_count": 4,
   "metadata": {},
   "outputs": [
    {
     "data": {
      "image/png": "[encoded data removed]",
      "text/plain": [
       "<Figure size 432x288 with 4 Axes>"
      ]
     },
     "metadata": {
      "needs_background": "light"
     },
     "output_type": "display_data"
    }
   ],
   "source": [
    "fig, axs = plt.subplots(2,2)\n",
    "\n",
    "#꽃받침의 길이\n",
    "axs[0, 0].boxplot([iris_setosa['SepalLengthCm'], iris_versicolor['SepalLengthCm'], iris_virginica['SepalLengthCm']],\n",
    "           labels = ['seotosa', 'versicolor', 'virginica'],\n",
    "           meanline = True,\n",
    "           showmeans = True)\n",
    "axs[0, 0].set_title('Sepal length Boxplot')\n",
    "\n",
    "#꽃받침의 너비\n",
    "axs[0, 1].boxplot([iris_setosa['SepalWidthCm'], iris_versicolor['SepalWidthCm'], iris_virginica['SepalWidthCm']],\n",
    "           labels = ['seotosa', 'versicolor', 'virginica'],\n",
    "           meanline = True,\n",
    "           showmeans = True)\n",
    "axs[0, 1].set_title('Sepal width Boxplot')\n",
    "\n",
    "#꽃잎의 길이\n",
    "axs[1, 0].boxplot([iris_setosa['PetalLengthCm'], iris_versicolor['PetalLengthCm'], iris_virginica['PetalLengthCm']],\n",
    "           labels = ['seotosa', 'versicolor', 'virginica'],\n",
    "           meanline = True,\n",
    "           showmeans = True)\n",
    "axs[1, 0].set_title('Petal length Boxplot')\n",
    "\n",
    "#꽃잎의 너비\n",
    "axs[1, 1].boxplot([iris_setosa['PetalWidthCm'], iris_versicolor['PetalWidthCm'], iris_virginica['PetalWidthCm']],\n",
    "           labels = ['seotosa', 'versicolor', 'virginica'],\n",
    "           meanline = True,\n",
    "           showmeans = True)\n",
    "axs[1, 1].set_title('Petal width Boxplot')\n",
    "\n",
    "fig.subplots_adjust(left = 0.01, right = 2, bottom = 0.05, top = 2, hspace = 0.3, wspace = 0.3)\n",
    "\n",
    "plt.show()"
   ]
  },
  {
   "cell_type": "code",
   "execution_count": 5,
   "metadata": {},
   "outputs": [
    {
     "data": {
      "text/html": [
       "<div>\n",
       "<style scoped>\n",
       "    .dataframe tbody tr th:only-of-type {\n",
       "        vertical-align: middle;\n",
       "    }\n",
       "\n",
       "    .dataframe tbody tr th {\n",
       "        vertical-align: top;\n",
       "    }\n",
       "\n",
       "    .dataframe thead th {\n",
       "        text-align: right;\n",
       "    }\n",
       "</style>\n",
       "<table border=\"1\" class=\"dataframe\">\n",
       "  <thead>\n",
       "    <tr style=\"text-align: right;\">\n",
       "      <th></th>\n",
       "      <th>Id</th>\n",
       "      <th>SepalLengthCm</th>\n",
       "      <th>SepalWidthCm</th>\n",
       "      <th>PetalLengthCm</th>\n",
       "      <th>PetalWidthCm</th>\n",
       "      <th>Species</th>\n",
       "    </tr>\n",
       "  </thead>\n",
       "  <tbody>\n",
       "    <tr>\n",
       "      <th>0</th>\n",
       "      <td>1</td>\n",
       "      <td>5.1</td>\n",
       "      <td>3.5</td>\n",
       "      <td>1.4</td>\n",
       "      <td>0.2</td>\n",
       "      <td>Iris-setosa</td>\n",
       "    </tr>\n",
       "    <tr>\n",
       "      <th>1</th>\n",
       "      <td>2</td>\n",
       "      <td>4.9</td>\n",
       "      <td>3.0</td>\n",
       "      <td>1.4</td>\n",
       "      <td>0.2</td>\n",
       "      <td>Iris-setosa</td>\n",
       "    </tr>\n",
       "    <tr>\n",
       "      <th>2</th>\n",
       "      <td>3</td>\n",
       "      <td>4.7</td>\n",
       "      <td>3.2</td>\n",
       "      <td>1.3</td>\n",
       "      <td>0.2</td>\n",
       "      <td>Iris-setosa</td>\n",
       "    </tr>\n",
       "    <tr>\n",
       "      <th>3</th>\n",
       "      <td>4</td>\n",
       "      <td>4.6</td>\n",
       "      <td>3.1</td>\n",
       "      <td>1.5</td>\n",
       "      <td>0.2</td>\n",
       "      <td>Iris-setosa</td>\n",
       "    </tr>\n",
       "    <tr>\n",
       "      <th>4</th>\n",
       "      <td>5</td>\n",
       "      <td>5.0</td>\n",
       "      <td>3.6</td>\n",
       "      <td>1.4</td>\n",
       "      <td>0.2</td>\n",
       "      <td>Iris-setosa</td>\n",
       "    </tr>\n",
       "  </tbody>\n",
       "</table>\n",
       "</div>"
      ],
      "text/plain": [
       "   Id  SepalLengthCm  SepalWidthCm  PetalLengthCm  PetalWidthCm      Species\n",
       "0   1            5.1           3.5            1.4           0.2  Iris-setosa\n",
       "1   2            4.9           3.0            1.4           0.2  Iris-setosa\n",
       "2   3            4.7           3.2            1.3           0.2  Iris-setosa\n",
       "3   4            4.6           3.1            1.5           0.2  Iris-setosa\n",
       "4   5            5.0           3.6            1.4           0.2  Iris-setosa"
      ]
     },
     "execution_count": 5,
     "metadata": {},
     "output_type": "execute_result"
    }
   ],
   "source": [
    "iris = pd.read_csv(join('data', 'Iris.csv'))\n",
    "iris.head()"
   ]
  },
  {
   "cell_type": "markdown",
   "metadata": {},
   "source": [
    "# 2. 간단한 전처리\n",
    "모든 독립 변수와 별개로 상수항을 추가하기 위해 ones함수를 이용하여 하나의 열을 추가하고 나머지 데이터를 다시 제자리에 저장합니다.\n",
    "\n",
    "학습용 데이터와 테스트용 데이터를 7:3의 비율로 나눕니다."
   ]
  },
  {
   "cell_type": "code",
   "execution_count": 6,
   "metadata": {},
   "outputs": [],
   "source": [
    "Species = ['Iris-setosa', 'Iris-versicolor', 'Iris-virginica']\n",
    "\n",
    "#데이터의 수\n",
    "m = iris.shape[0]\n",
    "\n",
    "#독립 변수의 수\n",
    "n = 4\n",
    "k = len(Species)\n",
    "\n",
    "\n",
    "X = np.ones((m,n + 1))\n",
    "# y = np.zeros((m,k))\n",
    "\n",
    "for q,i in enumerate(iris.keys()[1:5]):\n",
    "    X[:,q]=iris[i].values\n",
    "\n",
    "y=iris.Species.values\n",
    "X_train, X_test, y_train, y_test = train_test_split(X, y, test_size = 0.3, random_state = 11)"
   ]
  },
  {
   "cell_type": "markdown",
   "metadata": {},
   "source": [
    "# 3. scratch로 분류 해보기"
   ]
  },
  {
   "cell_type": "markdown",
   "metadata": {},
   "source": [
    "### sigmoid\n",
    "위의 유도한 Logistic Function으로 z에 독립 변수와 계수의 스칼라곱을 수행하여 활용할 함수입니다."
   ]
  },
  {
   "cell_type": "code",
   "execution_count": 7,
   "metadata": {},
   "outputs": [],
   "source": [
    "def sigmoid(z):\n",
    "    return 1.0 / (1 + np.exp(-z))"
   ]
  },
  {
   "cell_type": "markdown",
   "metadata": {},
   "source": [
    "### 비용함수\n",
    "실제 값과 모델의 연산으로 추정된 값 간의 차를 연산해주는 함수를 말합니다\n",
    "\n",
    "이 비용함수를 최소화하는 계수들(theta)을 찾는 것이 Logistic Regression의 목표입니다. \n",
    "\n",
    "이 함수를 최소화 하기 위해 경사하강법을 사용하는데 이론 수업에서 자세히 다루지 않으므로 간략하게 정리해두었습니다\n",
    "\n",
    "![title](Images/LRC_F.png)\n",
    "\n",
    "![title](Images/LRG_F.png)"
   ]
  },
  {
   "cell_type": "code",
   "execution_count": 8,
   "metadata": {},
   "outputs": [],
   "source": [
    "def regCostFunction(theta, X, y, _lambda = 0.1):\n",
    "    m = len(X)\n",
    "    h = sigmoid(X.dot(theta))\n",
    "    reg = (_lambda/(2 * m)) * np.sum(theta**2)\n",
    "\n",
    "    return (1 / m) * (-y.T.dot(np.log(h)) - (1 - y).T.dot(np.log(1 - h))) + reg\n",
    "\n",
    "def regGradient(theta, X, y, _lambda = 0.1):\n",
    "    m, n = X.shape\n",
    "    theta = theta.reshape((n, 1))\n",
    "    y = y.reshape((m, 1))\n",
    "    h = sigmoid(X.dot(theta))\n",
    "    reg = _lambda * theta /m\n",
    "\n",
    "    return ((1 / m) * X.T.dot(h - y)) + reg"
   ]
  },
  {
   "cell_type": "markdown",
   "metadata": {},
   "source": [
    "### logisticRegression(X, y, theta)\n",
    "위의 비용함수를 최소화하기위해 scipy의 optimize.minimize를 이용하겠습니다\n",
    "\n",
    "op.minimize의 인수로써 X에는 학습용 데이터, y에는 학습용 데이터의 답, \n",
    "\n",
    "theta에는 초기 계수들의 집합을 넣어 최적화된 계수, 마지막으로 비용함수에 대한 것들을 채워넣겠습니다"
   ]
  },
  {
   "cell_type": "code",
   "execution_count": 9,
   "metadata": {},
   "outputs": [],
   "source": [
    "def logisticRegression(X, y, theta):\n",
    "    result = op.minimize(fun = regCostFunction, x0 = theta, args = (X, y),\n",
    "                         method = 'TNC', jac = regGradient)\n",
    "    \n",
    "    return result.x"
   ]
  },
  {
   "cell_type": "code",
   "execution_count": 10,
   "metadata": {},
   "outputs": [
    {
     "name": "stdout",
     "output_type": "stream",
     "text": [
      "Iris-setosa's theta SepalLengthCm = 0.5199\n",
      "Iris-setosa's theta SepalWidthCm = 2.2659\n",
      "Iris-setosa's theta PetalLengthCm = -3.2788\n",
      "Iris-setosa's theta PetalWidthCm = -1.5619\n",
      "Iris-setosa's theta bias = 0.3109\n",
      "Iris-versicolor's theta SepalLengthCm = 0.7498\n",
      "Iris-versicolor's theta SepalWidthCm = -3.5083\n",
      "Iris-versicolor's theta PetalLengthCm = 0.7121\n",
      "Iris-versicolor's theta PetalWidthCm = -2.3413\n",
      "Iris-versicolor's theta bias = 5.4996\n",
      "Iris-virginica's theta SepalLengthCm = -3.2423\n",
      "Iris-virginica's theta SepalWidthCm = -2.5692\n",
      "Iris-virginica's theta PetalLengthCm = 4.5619\n",
      "Iris-virginica's theta PetalWidthCm = 5.0677\n",
      "Iris-virginica's theta bias = -3.0829\n"
     ]
    }
   ],
   "source": [
    "#계수를 저장할 변수\n",
    "all_theta = np.zeros((len(np.unique(y)), n + 1))\n",
    "cols=[i for i in iris.keys()[1:5]]+['bias']\n",
    "#학습 수행\n",
    "i = 0\n",
    "for flower in Species:\n",
    "#     print(flower)\n",
    "    #현재 구하고자하는 종은 1 아닌 값은 0\n",
    "    tmp_y = np.array(y_train == flower, dtype = int)\n",
    "    optTheta = logisticRegression(X_train, tmp_y, np.zeros((n + 1,1)))\n",
    "    for l,q in enumerate(optTheta):\n",
    "        print(\"%s's theta %s = %.4f\"%(flower,cols[l],q))\n",
    "    all_theta[i] = optTheta\n",
    "    i += 1\n",
    "    \n",
    "# print(all_theta)"
   ]
  },
  {
   "cell_type": "code",
   "execution_count": 11,
   "metadata": {},
   "outputs": [
    {
     "name": "stdout",
     "output_type": "stream",
     "text": [
      "테스트 세트 정확도: 88.88888888888889 %\n"
     ]
    }
   ],
   "source": [
    "#추론부분\n",
    "P = sigmoid(X_test.dot(all_theta.T)) #각 종에 대한 모든 데이터의 확률값\n",
    "p = [Species[np.argmax(P[i, :])] for i in range(X_test.shape[0])] #추론된 확률 중 가장 높은 값을 채택하여 그 종으로 최종 추론\n",
    "\n",
    "print(\"테스트 세트 정확도:\", accuracy_score(y_test, p) * 100 , '%')"
   ]
  },
  {
   "cell_type": "markdown",
   "metadata": {},
   "source": [
    "# 4. scratch로 분류한 결과 확인하기\n",
    "분류 값과 실제 값을 Confusion Matrix로 시각화 해보겠습니다"
   ]
  },
  {
   "cell_type": "code",
   "execution_count": 12,
   "metadata": {},
   "outputs": [
    {
     "data": {
      "image/png": "[encoded data removed]",
      "text/plain": [
       "<Figure size 432x288 with 1 Axes>"
      ]
     },
     "metadata": {
      "needs_background": "light"
     },
     "output_type": "display_data"
    }
   ],
   "source": [
    "cfm = confusion_matrix(y_test, p, labels = Species)\n",
    "\n",
    "fig, ax = plt.subplots()\n",
    "im = ax.imshow(cfm)\n",
    "\n",
    "ax.set_xticks(np.arange(len(Species)))\n",
    "ax.set_yticks(np.arange(len(Species)))\n",
    "\n",
    "ax.set_xticklabels(Species)\n",
    "ax.set_yticklabels(Species)\n",
    "\n",
    "for i in range(len(Species)):\n",
    "    for j in range(len(Species)):\n",
    "        text = ax.text(j, i, cfm[i, j],\n",
    "                       ha=\"center\", va=\"center\", color=\"r\", fontsize=20)\n",
    "\n",
    "plt.show()"
   ]
  },
  {
   "cell_type": "markdown",
   "metadata": {},
   "source": [
    "# 5. sklearn으로 분류해보기"
   ]
  },
  {
   "cell_type": "markdown",
   "metadata": {},
   "source": [
    "이제 Scikit-learn을 사용하여 Logistic Regression을 시도해보겠습니다\n",
    "\n",
    "LogisticRegression이라는 오브젝트로 모델을 사용하실 수 있습니다\n",
    "\n",
    "또한 이번에도 붓꽃 데이터의 전부를 사용하여 학습하고 테스트해보세요"
   ]
  },
  {
   "cell_type": "code",
   "execution_count": 20,
   "metadata": {},
   "outputs": [],
   "source": [
    "iris = datasets.load_iris()\n",
    "X = iris.data[:,:]\n",
    "y = iris.target\n",
    "\n",
    "X_train, X_test, y_train, y_test = train_test_split(X, y, test_size=.3, random_state=11)"
   ]
  },
  {
   "cell_type": "code",
   "execution_count": 21,
   "metadata": {},
   "outputs": [
    {
     "data": {
      "text/plain": [
       "LogisticRegression(C=100000.0, class_weight=None, dual=False,\n",
       "                   fit_intercept=True, intercept_scaling=1, l1_ratio=None,\n",
       "                   max_iter=1000, multi_class='multinomial', n_jobs=None,\n",
       "                   penalty='l2', random_state=None, solver='lbfgs', tol=0.0001,\n",
       "                   verbose=0, warm_start=False)"
      ]
     },
     "execution_count": 21,
     "metadata": {},
     "output_type": "execute_result"
    }
   ],
   "source": [
    "logreg = LogisticRegression(C=1e5, solver='lbfgs', multi_class='multinomial', max_iter = 1000)\n",
    "logreg.fit(X_train, y_train)"
   ]
  },
  {
   "cell_type": "code",
   "execution_count": 30,
   "metadata": {},
   "outputs": [
    {
     "name": "stdout",
     "output_type": "stream",
     "text": [
      "Iris-setosa's theta SepalLengthCm = 15.4743\n",
      "Iris-setosa's theta SepalWidthCm = 28.1001\n",
      "Iris-setosa's theta PetalLengthCm = -34.8301\n",
      "Iris-setosa's theta PetalWidthCm = -23.1325\n",
      "Iris-versicolor's theta SepalLengthCm = -3.8848\n",
      "Iris-versicolor's theta SepalWidthCm = 10.2608\n",
      "Iris-versicolor's theta PetalLengthCm = -3.1214\n",
      "Iris-versicolor's theta PetalWidthCm = -49.1327\n",
      "Iris-virginica's theta SepalLengthCm = -11.5895\n",
      "Iris-virginica's theta SepalWidthCm = -38.3609\n",
      "Iris-virginica's theta PetalLengthCm = 37.9515\n",
      "Iris-virginica's theta PetalWidthCm = 72.2652\n"
     ]
    }
   ],
   "source": [
    "thetas=logreg.coef_\n",
    "for n1,flower in enumerate(Species):\n",
    "    the=thetas[n1,:]\n",
    "    for n2,q in enumerate(the):\n",
    "        print(\"%s's theta %s = %.4f\"%(flower,iris_analysis.keys()[n2+1],the[n2]))\n"
   ]
  },
  {
   "cell_type": "code",
   "execution_count": 16,
   "metadata": {
    "scrolled": true
   },
   "outputs": [
    {
     "name": "stdout",
     "output_type": "stream",
     "text": [
      "학습 세트 정확도: 100.000%\n",
      "테스트 세트 정확도: 95.556%\n"
     ]
    }
   ],
   "source": [
    "print(\"학습 세트 정확도: {:.3f}%\".format(logreg.score(X_train, y_train) * 100))\n",
    "print(\"테스트 세트 정확도: {:.3f}%\".format(logreg.score(X_test, y_test) * 100))"
   ]
  },
  {
   "cell_type": "code",
   "execution_count": 17,
   "metadata": {},
   "outputs": [],
   "source": [
    "iris = datasets.load_iris()\n",
    "X = iris.data[:,:]\n",
    "y = iris.target\n",
    "\n",
    "logreg = LogisticRegression(C=1e5, solver='lbfgs', multi_class='multinomial', max_iter = 1000)\n",
    "\n",
    "y = label_binarize(y, classes=[0, 1, 2])\n",
    "n_classes = y.shape[1]\n",
    "\n",
    "X_train, X_test, y_train, y_test = train_test_split(X, y, test_size=.3, random_state=11)"
   ]
  },
  {
   "cell_type": "code",
   "execution_count": 18,
   "metadata": {},
   "outputs": [
    {
     "data": {
      "image/png": "[encoded data removed]",
      "text/plain": [
       "<Figure size 432x288 with 1 Axes>"
      ]
     },
     "metadata": {
      "needs_background": "light"
     },
     "output_type": "display_data"
    }
   ],
   "source": [
    "n_samples, n_features = X.shape\n",
    "\n",
    "colors = (['aqua', 'darkorange', 'cornflowerblue'])\n",
    "\n",
    "classifier = OneVsRestClassifier(logreg)\n",
    "y_score = classifier.fit(X_train, y_train).decision_function(X_test)\n",
    "\n",
    "fpr = dict()\n",
    "tpr = dict()\n",
    "roc_auc = dict()\n",
    "for i in range(n_classes):\n",
    "    fpr[i], tpr[i], _ = roc_curve(y_test[:, i], y_score[:, i])\n",
    "    roc_auc[i] = auc(fpr[i], tpr[i])\n",
    "    \n",
    "plt.figure()\n",
    "\n",
    "for i, color in zip(range(n_classes), colors):\n",
    "    plt.plot(fpr[i], tpr[i], color=color, lw=2,\n",
    "             label='ROC curve of {0} (area = {1:0.3f})'.format(Species[i], roc_auc[i]))\n",
    "\n",
    "plt.plot([0, 1], [0, 1], 'k--', lw=2)\n",
    "plt.xlim([0.0, 1.0])\n",
    "plt.ylim([0.0, 1.05])\n",
    "plt.xlabel('False Positive Rate')\n",
    "plt.ylabel('True Positive Rate')\n",
    "plt.title('Some extension of Receiver operating characteristic to multi-class')\n",
    "plt.legend(loc=\"lower right\")\n",
    "plt.show()\n"
   ]
  }
 ],
 "metadata": {
  "kernelspec": {
   "display_name": "samsung",
   "language": "python",
   "name": "samsung"
  },
  "language_info": {
   "codemirror_mode": {
    "name": "ipython",
    "version": 3
   },
   "file_extension": ".py",
   "mimetype": "text/x-python",
   "name": "python",
   "nbconvert_exporter": "python",
   "pygments_lexer": "ipython3",
   "version": "3.6.7"
  }
 },
 "nbformat": 4,
 "nbformat_minor": 2
}
