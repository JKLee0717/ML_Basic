{
 "cells": [
  {
   "cell_type": "markdown",
   "metadata": {},
   "source": [
    "Lab03\n",
    "======"
   ]
  },
  {
   "cell_type": "markdown",
   "metadata": {},
   "source": [
    "###  Context\n",
    "#### Neural Network\n",
    "   + NN\n",
    "   + Deep-Feedforward NN"
   ]
  },
  {
   "cell_type": "markdown",
   "metadata": {},
   "source": [
    "## Objective"
   ]
  },
  {
   "cell_type": "markdown",
   "metadata": {},
   "source": [
    "이미지, 시계열, 음성 데이터 등에서 최근 많이 사용되고 있는 Neural Networks에 대해 알아보겠습니다\n",
    "<br><br>\n",
    "먼저, Neural Networks의 기본적인 Idea였던 Perceptron에 대해 간단히 설명하고\n",
    "<br><br>\n",
    "Perceptron 여러 개를 동시에 사용한 Multi Layer Perceptron을 사용해보도록 하겠습니다"
   ]
  },
  {
   "cell_type": "markdown",
   "metadata": {},
   "source": [
    "##  Perceptron"
   ]
  },
  {
   "cell_type": "markdown",
   "metadata": {},
   "source": [
    "+ 생물학의 신경망(뉴런)을 묘사한 예측 모델\n",
    "\n",
    "각 뉴런은 다른 뉴런이 출력한 결과를 입력 받아 특정 연산을 수행하고, 계산 결과가 규칙을 따라 활성화되어 다음 뉴런에 값을 전달하거나 전달하지 않는 것을 반복하여, 입력에 따른 결과를 예측할 수 있도록 특정 연산을 수정해 나가는 모델을 말합니다\n",
    "\n",
    " ![Perceptron](./Images/Perceptron.png)\n",
    "\n",
    "(input) $x_0, x_1, x_2$$\\cdot \\cdot \\cdot $: 입력되는 뉴런의 축삭돌기로부터 전달되는 신호의 양\n",
    "\n",
    "$w_0, w_1, w_2$ $\\cdot\\cdot\\cdot$: 시냅스의 강도, 즉 입력되는 뉴런의 영향력을 나타냅니다.\n",
    "\n",
    "$w_0x_0 + w_1x_1 + w_2x_2$$\\cdot\\cdot\\cdot$: 입력되는 신호의 양과 해당 신호의 시냅스 강도가 곱해진 값의 합계\n",
    "\n",
    "$f(\\sum)$ (output) : 입력 신호와 신호의 강도들이 곱해진 값들의 합계가 다음 뉴런에게 전달되어야 하는데, 그 신호의 양을 결정짓는 규칙을 말합니다.<br>\n",
    "이를 활성화 함수라고 부릅니다.\n"
   ]
  },
  {
   "cell_type": "markdown",
   "metadata": {},
   "source": [
    "## Neural Network (NN)\n",
    "뉴럴 네트워크란, 여러개의 퍼셉트론으로 이루어진 모델을 이야기 합니다. <br> \n",
    "일반적으로 MLP(Multilayer Perceptron)는 입력 - 은닉 - 출력 3가지 층(Layer)으로 나누어진 뉴럴 네트워크의 기본 모델입니다. <br>\n",
    "MLP는 하나의 퍼셉트론으로 해결하지 못했던 XOR 문제(비선형 문제)를 해결할 수 있는 모델로 고안되었습니다.<br>\n",
    "뉴럴 네트워크는 대부분 지도학습의 일종으로 모델을 학습하여 문제를 해결합니다. 학습단계는 크게 2단계로 나눌 수 있습니다.<br>\n",
    "\n",
    "\n",
    "#### 1. Feedforword 단계\n",
    "들어온 입력을 해당 층의 가중치(w)와 벡터 연산하고, 활성화 함수를 통과시켜 다음 층으로 전달하는 단계<br>\n",
    "앞 -> 뒤 방향으로 입력(Feed)이 이동하기 때문에 Feedforword 라고 부릅니다.\n",
    "![Feedforword](./Images/Feedforword.png)\n",
    "#### 2. Backpropagation 단계\n",
    "출력 층에서 발생하는 오류를 최소화 하기 위해 이전의 층에 오차를 줄이는 방향으로 가중치를 전달하는 단계<br>\n",
    "뒤 -> 앞 방향으로 오차를 최소화하는 역전파(Back Propagation)가 이동하기 때문에 Back Propagation 이라고 부릅니다.\n",
    "![Backpropagarion](./Images/Backpropagation.png)\n",
    "\n",
    "### 어떻게 뉴럴 네트워크가 비선형 문제를 해결할 수 있을까?\n",
    "각각의 퍼셉트론은 선형 분리만을 해결할 수 있는 모델입니다. <br> \n",
    "하지만 이런 선형 분리를 할 수 있는 모델을 여러개를 모아 비선형 분리를 수행하는 것이 뉴럴 네트워크 입니다.<br>\n",
    "![HowNNSolve](./Images/HowNNSolve.png)\n",
    "아래 그림을 보면 4개의 벡터 공간을 선형 분리하는 퍼셉트론들이 하나의 비선형 공간을 분류할 수 있는 벡터 공간을 형성하는 것을 확인할 수 있습니다.<br>\n",
    "직관적으로는 이해하기 어려우시겠지만, 우리가 케익을 4개의 퍼셉트론들이 분할하는 대로 잘라 가운데 부분을 남기는 것을 생각해보시면 이해가 편하실겁니다.\n",
    "\n",
    "### 주의해야할 점\n",
    "뉴럴 네트워크에서 가장 접하기 쉬운 문제로는 훈련 데이터에 모델이 과적합(overfitting)되는 것이 있습니다.<br>\n",
    "과적합은 모델이 너무 복잡하거나, 데이터가 편향된 경우 자주 발생합니다. <br>"
   ]
  },
  {
   "cell_type": "markdown",
   "metadata": {},
   "source": [
    "## Keras\n",
    "### 특징\n",
    "Keras는 Tensorflow 와 같은 파이썬 딥러닝 라이브러리 중 하나입니다.<br>\n",
    "Tensorflow는 원시적 수준(Primitive Level)으로 정교한 모델링이 가능하다는 장점이 있지만, 상대적으로 익히기 어렵다는 단점이 있습니다.<br>\n",
    "하지만, Keras는 유저 친화적인 간단한 사용법으로 누구나 쉽게 사용할 수 있는 장점이 있습니다.<br>\n",
    "\n",
    "### Tensorflow와의 합병\n",
    "Tensorflow 1.1에서 contrib.keras으로서 Keras 모듈을 사용할 수 있으며, <br>최종적으로 Tensorflow 1.2에서 tf.keras로 사용할 수 있게 되었습니다.<br>\n",
    "\n",
    "### 최근 Keras와 Tensorflow의 관계\n",
    "Tensorflow 2.0 부터 정식적으로 Tensorflow는 Low Level API로 Keras는 High Level API로 지원됩니다.<br>\n",
    "이번 실습에서는 Keras를 사용해 실습을 진행하도록 하겠습니다."
   ]
  },
  {
   "cell_type": "code",
   "execution_count": 1,
   "metadata": {},
   "outputs": [
    {
     "name": "stderr",
     "output_type": "stream",
     "text": [
      "Using TensorFlow backend.\n"
     ]
    }
   ],
   "source": [
    "from os.path import join\n",
    "\n",
    "import numpy as np\n",
    "import pandas as pd\n",
    "from sklearn.model_selection import train_test_split\n",
    "\n",
    "import tensorflow as tf\n",
    "\n",
    "conf=tf.ConfigProto()\n",
    "conf.gpu_options.allow_growth=True\n",
    "sess=tf.Session(config=conf)\n",
    "\n",
    "\n",
    "from keras import layers, models, optimizers\n",
    "from keras.utils import to_categorical\n",
    "import keras\n",
    "\n",
    "import matplotlib.pyplot as plt"
   ]
  },
  {
   "cell_type": "markdown",
   "metadata": {},
   "source": [
    "## 1. 데이터 살펴보기\n",
    "이번에 사용할 데이터는 손글씨 데이터로 유명한 MNIST 데이터 입니다.<br>\n",
    "실습의 편의를 위해 데이터는 28*28 행렬로 변환되어 저장된 상태입니다.<br>\n",
    "data 디렉토리에 준비된 데이터와 라벨을 가져옵니다.<br>"
   ]
  },
  {
   "cell_type": "code",
   "execution_count": 2,
   "metadata": {},
   "outputs": [],
   "source": [
    "X = np.load(join('data','MNIST.npy'))\n",
    "labels = np.load(join('data','Label.npy'))"
   ]
  },
  {
   "cell_type": "code",
   "execution_count": 3,
   "metadata": {
    "scrolled": true
   },
   "outputs": [
    {
     "data": {
      "image/png": "[encoded data removed]",
      "text/plain": [
       "<Figure size 432x288 with 1 Axes>"
      ]
     },
     "metadata": {
      "needs_background": "light"
     },
     "output_type": "display_data"
    }
   ],
   "source": [
    "img=plt.imshow(X[1].reshape((28,28)))"
   ]
  },
  {
   "cell_type": "markdown",
   "metadata": {},
   "source": [
    "## 2. 간단한 전처리\n",
    "MNIST 데이터는 28*28에 픽셀마다 0~255 범위의 값을 가진 행렬입니다. <br>\n",
    "각 픽셀에 대해 0~1 사이의 값을 갖도록 255로 나누어줍니다.<br>\n",
    "그리고 네트워크에 데이터를 입력하기 편하게 하도록 2차원 이미지를 벡터형태로 펼치겠습니다.<br>\n",
    "numpy.reshape() 함수를 통해 행렬의 차원을 변경할 수 있습니다."
   ]
  },
  {
   "cell_type": "code",
   "execution_count": 4,
   "metadata": {},
   "outputs": [],
   "source": [
    "X = X/255\n",
    "X = X.reshape(len(X),784)"
   ]
  },
  {
   "cell_type": "markdown",
   "metadata": {},
   "source": [
    "값의 범위가 0과 1사이로 잘 되었는지 확인해봅시다.<br>\n",
    "numpy.max(), numpy.min() 으로 확인해 볼 수 있습니다."
   ]
  },
  {
   "cell_type": "code",
   "execution_count": 5,
   "metadata": {},
   "outputs": [
    {
     "name": "stdout",
     "output_type": "stream",
     "text": [
      "최대 : 1.0, 최소 : 0.0\n"
     ]
    }
   ],
   "source": [
    "print('최대 : {}, 최소 : {}'.format(np.max(X), np.min(X)))"
   ]
  },
  {
   "cell_type": "markdown",
   "metadata": {},
   "source": [
    "이미지들의 정답을 나타내는 label 데이터는 0~9의 값을 가지고 있습니다.<br>\n",
    "해당 label 데이터도 독립적인 벡터 형태로 표현하겠습니다.\n",
    "\n",
    "### 왜 벡터를 사용하나요\n",
    "여기에서 Label 데이터를 그대로 숫자로 표현해도 되지만, 벡터로 표현한 것은 숫자 이미지라는 특성이 수치적으로 1씩 증가하는 관계가 아니기 때문에<br>\n",
    "서로 독립적인 관계를 갖는 벡터로 표현해주는 것이 더 적절합니다. 이러한 기법을 One-hot encoding이라 합니다.<br>\n",
    "Keras에서는 연속 정수형을 벡터형태로 변환해주는 to_categorical() 함수가 존재합니다."
   ]
  },
  {
   "cell_type": "code",
   "execution_count": 6,
   "metadata": {},
   "outputs": [],
   "source": [
    "labels = to_categorical(labels)"
   ]
  },
  {
   "cell_type": "markdown",
   "metadata": {},
   "source": [
    "벡터로 잘 표현되었는지 확인해 봅시다."
   ]
  },
  {
   "cell_type": "code",
   "execution_count": 7,
   "metadata": {},
   "outputs": [
    {
     "data": {
      "text/plain": [
       "array([[0., 0., 0., 0., 0., 1., 0., 0., 0., 0.],\n",
       "       [1., 0., 0., 0., 0., 0., 0., 0., 0., 0.],\n",
       "       [0., 0., 0., 0., 1., 0., 0., 0., 0., 0.],\n",
       "       [0., 1., 0., 0., 0., 0., 0., 0., 0., 0.],\n",
       "       [0., 0., 0., 0., 0., 0., 0., 0., 0., 1.]], dtype=float32)"
      ]
     },
     "execution_count": 7,
     "metadata": {},
     "output_type": "execute_result"
    }
   ],
   "source": [
    "labels[:5]"
   ]
  },
  {
   "cell_type": "markdown",
   "metadata": {},
   "source": [
    "데이터를 훈련 데이터와, 검증 데이터로 나눕니다."
   ]
  },
  {
   "cell_type": "code",
   "execution_count": 8,
   "metadata": {},
   "outputs": [],
   "source": [
    "train_x, test_x, train_y, test_y = train_test_split(X, labels, \n",
    "                                                    test_size=0.2, \n",
    "                                                    random_state = 1993,\n",
    "                                                   shuffle=True)"
   ]
  },
  {
   "cell_type": "markdown",
   "metadata": {},
   "source": [
    "##  3. Keras로 MLP 만들어보기\n",
    "위에서 설명 드렸던 대로 MLP는 입력-은닉-출력 3가지 층으로 이루어져 있습니다.<br>\n",
    "각 층별 퍼셉트론의 수는 임의로 정한 것으로 절대적인 수치가 아니며 필요에 따라 구성하시면 됩니다.<br>\n",
    "Keras에는 모델을 구성할 때 순차적 모델(Sequential Model)과 함수형 모델(Functional API Model) 방식으로 크게 2가지가 있습니다.<br>\n",
    "MLP에서는 순차적 모델(Sequential Model)을 사용해 보도록 하겠습니다."
   ]
  },
  {
   "cell_type": "code",
   "execution_count": 9,
   "metadata": {},
   "outputs": [],
   "source": [
    "# 순차적 모델을 생성합니다.\n",
    "model = models.Sequential()\n",
    "# 입력 층의 차원은 MNIST 이미지가 28*28 = 784 이므로 784로 설정합니다.\n",
    "input_shape = (784,)"
   ]
  },
  {
   "cell_type": "code",
   "execution_count": 10,
   "metadata": {},
   "outputs": [
    {
     "name": "stdout",
     "output_type": "stream",
     "text": [
      "WARNING:tensorflow:From /home/kyle/samsung/lib/python3.6/site-packages/tensorflow/python/framework/op_def_library.py:263: colocate_with (from tensorflow.python.framework.ops) is deprecated and will be removed in a future version.\n",
      "Instructions for updating:\n",
      "Colocations handled automatically by placer.\n"
     ]
    }
   ],
   "source": [
    "# 여기에서 한가지 주의할 점은 입력 층은 입력 그 자체이지 벡터 연산을 하지 않습니다.\n",
    "# 순차적 모델에 은닉층을 추가합니다. 은닉층은 10개의 퍼셉트론과 relu 활성화 함수, 입력 차원을 넣습니다.\n",
    "model.add(layers.Dense(units = 10, activation = 'relu', input_shape=input_shape))\n",
    "\n",
    "# 순차적 모델에 출력층을 추가합니다. \n",
    "# 출력 층은 우리가 예측할 0~9의 숫자 개수인 10개의 퍼셉트론과 softmax 활성화 함수를 사용합니다.\n",
    "model.add(layers.Dense(units = 10, activation = 'softmax'))\n",
    "\n",
    "#10개의 숫자 클래스를 분류하는 것이므로 categorical_crossentropy를 loss function으로 사용합니다.\n",
    "#loss를 줄여주는 옵티마이저는 Stochestic Gradient Descent를 사용합니다.\n",
    "model.compile(optimizer='SGD',\n",
    "             loss = 'categorical_crossentropy',\n",
    "             metrics=['accuracy'])"
   ]
  },
  {
   "cell_type": "markdown",
   "metadata": {},
   "source": [
    "## Crossentropy\n",
    "\n",
    "softmax ( $f(s_i)  =$ <font size=\"4.5em\" > $ \\frac{  e^{s_i}  }{\\sum_{j}^{C} e^{s_{j}}}$ </font> ) 라는 확률을 가지고 계산한 Entropy에 기반을 둔 loss입니다\n",
    "\n",
    "일반적으로, 데이터가 가진 정보량을 엔트로피로 나타내는데, 엔트로피는 $ E = \\sum p_i log p_i $이고 확률로 계산합니다\n",
    "\n",
    "그리고 임의의 기준에 따라 나뉜 집단들의 데이터가 얼마나 다른지를 계산할 때, 상대 엔트로피를 사용하게 되고 \n",
    "\n",
    "Crossentropy loss는 상대 엔트로피를 계산한 값입니다 \n",
    "\n",
    "정리해보면 Crossentropy는 내가 가진 data의 실제 class에 예측한 class들이 얼마나 잘 들어맞는지를 수치화 한 것을 말하는데\n",
    "\n",
    "softmax로 구한 확률(예측값)과 실제 class의 확률(실제값)의 분포에 기반을 둔 엔트로피($ CE = \\sum p_i log f(s_i)$ )로\n",
    "\n",
    "일치할수록 0으로 수렴하게 되고, 일치하지 않는다면 1로 수렴하게 됩니다."
   ]
  },
  {
   "cell_type": "markdown",
   "metadata": {},
   "source": [
    "### 모델 확인\n",
    "Keras는 model.summary() 함수를 통해 모델의 각 층을 확인할 수 있습니다."
   ]
  },
  {
   "cell_type": "code",
   "execution_count": 11,
   "metadata": {},
   "outputs": [
    {
     "name": "stdout",
     "output_type": "stream",
     "text": [
      "_________________________________________________________________\n",
      "Layer (type)                 Output Shape              Param #   \n",
      "=================================================================\n",
      "dense_1 (Dense)              (None, 10)                7850      \n",
      "_________________________________________________________________\n",
      "dense_2 (Dense)              (None, 10)                110       \n",
      "=================================================================\n",
      "Total params: 7,960\n",
      "Trainable params: 7,960\n",
      "Non-trainable params: 0\n",
      "_________________________________________________________________\n"
     ]
    }
   ],
   "source": [
    "model.summary()"
   ]
  },
  {
   "cell_type": "markdown",
   "metadata": {},
   "source": [
    "### 학습\n",
    "model.fit() 함수를 사용해 모델을 학습시킬 수 있습니다.<br>\n",
    "\n",
    "### batch_size ?\n",
    "데이터셋이 큰 경우 데이터를 한번에 학습시킬 수 없기 때문에 데이터셋을 쪼개어 학습하게 되는데, 쪼개진 단위를 batch라고 합니다\n",
    "\n",
    "![Batch_size](./Images/batch_size.png)\n",
    "예제 코드에서는 batch_size가 512이므로 한번에 512장의 이미지를 사용하여 학습하는 모델이 됩니다.\n",
    "<br>\n",
    "\n",
    "### epoch ?\n",
    "데이터셋 전체를 한번 학습하는 단위를 epoch(에폭, 에포크) 라고 부릅니다.<br>"
   ]
  },
  {
   "cell_type": "code",
   "execution_count": 12,
   "metadata": {
    "scrolled": false
   },
   "outputs": [
    {
     "name": "stdout",
     "output_type": "stream",
     "text": [
      "WARNING:tensorflow:From /home/kyle/samsung/lib/python3.6/site-packages/tensorflow/python/ops/math_ops.py:3066: to_int32 (from tensorflow.python.ops.math_ops) is deprecated and will be removed in a future version.\n",
      "Instructions for updating:\n",
      "Use tf.cast instead.\n",
      "Train on 48000 samples, validate on 12000 samples\n",
      "Epoch 1/10\n",
      "48000/48000 [==============================] - 1s 18us/step - loss: 2.2749 - acc: 0.1539 - val_loss: 2.2035 - val_acc: 0.2287\n",
      "Epoch 2/10\n",
      "48000/48000 [==============================] - 0s 7us/step - loss: 2.0962 - acc: 0.3145 - val_loss: 1.9670 - val_acc: 0.3953\n",
      "Epoch 3/10\n",
      "48000/48000 [==============================] - 0s 7us/step - loss: 1.8416 - acc: 0.4640 - val_loss: 1.7247 - val_acc: 0.5129\n",
      "Epoch 4/10\n",
      "48000/48000 [==============================] - 0s 7us/step - loss: 1.6025 - acc: 0.5602 - val_loss: 1.4914 - val_acc: 0.5837\n",
      "Epoch 5/10\n",
      "48000/48000 [==============================] - 0s 7us/step - loss: 1.3847 - acc: 0.6078 - val_loss: 1.3011 - val_acc: 0.6232\n",
      "Epoch 6/10\n",
      "48000/48000 [==============================] - 0s 7us/step - loss: 1.2145 - acc: 0.6514 - val_loss: 1.1578 - val_acc: 0.6626\n",
      "Epoch 7/10\n",
      "48000/48000 [==============================] - 0s 7us/step - loss: 1.0896 - acc: 0.6869 - val_loss: 1.0525 - val_acc: 0.6927\n",
      "Epoch 8/10\n",
      "48000/48000 [==============================] - 0s 7us/step - loss: 0.9953 - acc: 0.7113 - val_loss: 0.9700 - val_acc: 0.7139\n",
      "Epoch 9/10\n",
      "48000/48000 [==============================] - 0s 7us/step - loss: 0.9200 - acc: 0.7315 - val_loss: 0.9024 - val_acc: 0.7341\n",
      "Epoch 10/10\n",
      "48000/48000 [==============================] - 0s 7us/step - loss: 0.8571 - acc: 0.7507 - val_loss: 0.8450 - val_acc: 0.7519\n"
     ]
    }
   ],
   "source": [
    "history = model.fit(train_x, train_y, \n",
    "          validation_data = [test_x, test_y],\n",
    "          batch_size=512,\n",
    "          epochs=10,)"
   ]
  },
  {
   "cell_type": "code",
   "execution_count": 13,
   "metadata": {},
   "outputs": [
    {
     "data": {
      "image/png": "[encoded data removed]",
      "text/plain": [
       "<Figure size 432x288 with 1 Axes>"
      ]
     },
     "metadata": {
      "needs_background": "light"
     },
     "output_type": "display_data"
    },
    {
     "data": {
      "image/png": "[encoded data removed]",
      "text/plain": [
       "<Figure size 432x288 with 1 Axes>"
      ]
     },
     "metadata": {
      "needs_background": "light"
     },
     "output_type": "display_data"
    }
   ],
   "source": [
    "plt.plot(history.history['acc'])\n",
    "plt.plot(history.history['val_acc'])\n",
    "plt.title('model accuracy')\n",
    "plt.ylabel('accuracy')\n",
    "plt.xlabel('epoch')\n",
    "plt.legend(['train', 'test'], loc='upper left')\n",
    "plt.show()\n",
    "# summarize history for loss\n",
    "plt.plot(history.history['loss'])\n",
    "plt.plot(history.history['val_loss'])\n",
    "plt.title('model loss')\n",
    "plt.ylabel('loss')\n",
    "plt.xlabel('epoch')\n",
    "plt.legend(['train', 'test'], loc='upper left')\n",
    "plt.show()"
   ]
  },
  {
   "cell_type": "markdown",
   "metadata": {},
   "source": [
    "## 4. Keras로 Deep-Feedforward NN 만들어보기\n",
    "Deep Feedforward Neural Network는 기존의 MLP 보다 조금 더 많은 은닉층을 사용하는 모델입니다.<br>\n",
    "MLP에서도 괜찮은 성능을 보였지만, 조금 더 은닉층을 추가해 손글씨 분류 정확도를 높혀보도록 하겠습니다."
   ]
  },
  {
   "cell_type": "code",
   "execution_count": 14,
   "metadata": {},
   "outputs": [],
   "source": [
    "# 순차적 모델을 생성합니다.\n",
    "model = models.Sequential()\n",
    "# 입력 층의 차원은 MNIST 이미지가 28*28 = 784 이므로 784로 설정합니다.\n",
    "input_shape = (784,)"
   ]
  },
  {
   "cell_type": "code",
   "execution_count": 15,
   "metadata": {},
   "outputs": [
    {
     "name": "stdout",
     "output_type": "stream",
     "text": [
      "_________________________________________________________________\n",
      "Layer (type)                 Output Shape              Param #   \n",
      "=================================================================\n",
      "dense_3 (Dense)              (None, 128)               100480    \n",
      "_________________________________________________________________\n",
      "dense_4 (Dense)              (None, 64)                8256      \n",
      "_________________________________________________________________\n",
      "dense_5 (Dense)              (None, 32)                2080      \n",
      "_________________________________________________________________\n",
      "dense_6 (Dense)              (None, 10)                330       \n",
      "=================================================================\n",
      "Total params: 111,146\n",
      "Trainable params: 111,146\n",
      "Non-trainable params: 0\n",
      "_________________________________________________________________\n"
     ]
    }
   ],
   "source": [
    "# 여기에서 한가지 주의할 점은 입력 층은 입력 그 자체이지 벡터 연산을 하지 않습니다.\n",
    "# 순차적 모델에 3개의 은닉층을 추가합니다. 임의로 퍼셉트론의 수를 늘려보겠습니다.\n",
    "model.add(layers.Dense(units = 128, activation = 'relu', input_shape=input_shape))\n",
    "model.add(layers.Dense(units = 64, activation = 'relu'))\n",
    "model.add(layers.Dense(units = 32, activation = 'relu'))\n",
    "\n",
    "# 순차적 모델에 출력층을 추가합니다. \n",
    "# 출력 층은 우리가 예측할 0~9의 숫자 개수인 10개의 퍼셉트론과 softmax 활성화 함수를 사용합니다.\n",
    "model.add(layers.Dense(units = 10, activation = 'softmax'))\n",
    "\n",
    "#10개의 숫자 클래스를 분류하는 것이므로 categorical_crossentropy를 loss function으로 사용합니다.\n",
    "#loss를 줄여주는 옵티마이저는 Stochastic Gradient Descent를 사용합니다.\n",
    "model.compile(optimizer='SGD',\n",
    "             loss = 'categorical_crossentropy',\n",
    "             metrics=['accuracy'])\n",
    "\n",
    "model.summary()"
   ]
  },
  {
   "cell_type": "code",
   "execution_count": 16,
   "metadata": {
    "scrolled": false
   },
   "outputs": [
    {
     "name": "stdout",
     "output_type": "stream",
     "text": [
      "Train on 48000 samples, validate on 12000 samples\n",
      "Epoch 1/10\n",
      "48000/48000 [==============================] - 0s 10us/step - loss: 2.2331 - acc: 0.1781 - val_loss: 2.1193 - val_acc: 0.2870\n",
      "Epoch 2/10\n",
      "48000/48000 [==============================] - 0s 8us/step - loss: 1.9729 - acc: 0.3893 - val_loss: 1.8030 - val_acc: 0.5161\n",
      "Epoch 3/10\n",
      "48000/48000 [==============================] - 0s 7us/step - loss: 1.5796 - acc: 0.6196 - val_loss: 1.3624 - val_acc: 0.6743\n",
      "Epoch 4/10\n",
      "48000/48000 [==============================] - 0s 8us/step - loss: 1.1462 - acc: 0.7188 - val_loss: 0.9834 - val_acc: 0.7502\n",
      "Epoch 5/10\n",
      "48000/48000 [==============================] - 0s 8us/step - loss: 0.8474 - acc: 0.7840 - val_loss: 0.7662 - val_acc: 0.8027\n",
      "Epoch 6/10\n",
      "48000/48000 [==============================] - 0s 8us/step - loss: 0.6824 - acc: 0.8226 - val_loss: 0.6417 - val_acc: 0.8328\n",
      "Epoch 7/10\n",
      "48000/48000 [==============================] - 0s 8us/step - loss: 0.5832 - acc: 0.8464 - val_loss: 0.5627 - val_acc: 0.8521\n",
      "Epoch 8/10\n",
      "48000/48000 [==============================] - 0s 8us/step - loss: 0.5172 - acc: 0.8613 - val_loss: 0.5069 - val_acc: 0.8642\n",
      "Epoch 9/10\n",
      "48000/48000 [==============================] - 0s 7us/step - loss: 0.4701 - acc: 0.8719 - val_loss: 0.4673 - val_acc: 0.8747\n",
      "Epoch 10/10\n",
      "48000/48000 [==============================] - 0s 7us/step - loss: 0.4354 - acc: 0.8797 - val_loss: 0.4356 - val_acc: 0.8793\n"
     ]
    }
   ],
   "source": [
    "# 모델에 훈련데이터와, 검증하기 위한 테스트 데이터를 넣어 학습을 시작합니다.\n",
    "# batch_size의 크기만큼 모델이 한번에 훈련 데이터를 학습하며, epchos 만큼 반복하여 데이터셋을 학습합니다.\n",
    "history = model.fit(train_x, train_y, \n",
    "          validation_data = [test_x, test_y],\n",
    "          batch_size=512,\n",
    "          epochs=10,)"
   ]
  },
  {
   "cell_type": "code",
   "execution_count": 17,
   "metadata": {
    "scrolled": false
   },
   "outputs": [
    {
     "data": {
      "image/png": "[encoded data removed]",
      "text/plain": [
       "<Figure size 432x288 with 1 Axes>"
      ]
     },
     "metadata": {
      "needs_background": "light"
     },
     "output_type": "display_data"
    },
    {
     "data": {
      "image/png": "[encoded data removed]",
      "text/plain": [
       "<Figure size 432x288 with 1 Axes>"
      ]
     },
     "metadata": {
      "needs_background": "light"
     },
     "output_type": "display_data"
    }
   ],
   "source": [
    "plt.plot(history.history['acc'])\n",
    "plt.plot(history.history['val_acc'])\n",
    "plt.title('model accuracy')\n",
    "plt.ylabel('accuracy')\n",
    "plt.xlabel('epoch')\n",
    "plt.legend(['train', 'test'], loc='upper left')\n",
    "plt.show()\n",
    "# summarize history for loss\n",
    "plt.plot(history.history['loss'])\n",
    "plt.plot(history.history['val_loss'])\n",
    "plt.title('model loss')\n",
    "plt.ylabel('loss')\n",
    "plt.xlabel('epoch')\n",
    "plt.legend(['train', 'test'], loc='upper left')\n",
    "plt.show()"
   ]
  },
  {
   "cell_type": "markdown",
   "metadata": {},
   "source": [
    "## 5. Model의 저장 및 불러오기\n",
    "\n",
    "keras는 사용한 모델과 모델의 가중치들을 저장하는 것을 지원합니다\n",
    "\n",
    "model의 구조는 json으로, weight들은 save_weights를 사용하여 저장할 수 있습니다\n",
    "\n",
    "먼저, 모델을 저장한 후, 새로운 변수에 저장한 모델과 가중치를 불러와 예측까지 시도해보겠습니다"
   ]
  },
  {
   "cell_type": "code",
   "execution_count": 18,
   "metadata": {},
   "outputs": [],
   "source": [
    "## 생성된 model의 변수.to_json()으로 모델을 저장합니다\n",
    "model_json = model.to_json()\n",
    "\n",
    "## with문을 사용하는 동안 json_file이라는 변수를 통하여 model.json 파일을 사용하겠습니다\n",
    "with open(\"model.json\", \"w\") as json_file : \n",
    "\n",
    "    ## json_file이라는 변수를 거쳐 model.json에 저장할 모델의 값을 씁니다\n",
    "    json_file.write(model_json)\n",
    "    \n",
    "## 생성된 model의 weight를 model.save_seights를 사용하여 저장합니다\n",
    "model.save_weights(\"model.h5\")\n"
   ]
  },
  {
   "cell_type": "markdown",
   "metadata": {},
   "source": [
    "파일이 열려있는 폴더에 model.json과 model.h5가 생성된 것을 확인할 수 있습니다\n",
    "\n",
    "생성한 파일을 불러와 예측까지 해보도록 하겠습니다"
   ]
  },
  {
   "cell_type": "code",
   "execution_count": 19,
   "metadata": {},
   "outputs": [],
   "source": [
    "from keras.models import model_from_json \n",
    "\n",
    "## model의 구조를 불러옵니다\n",
    "with open('model.json','r') as json_load:\n",
    "    loaded_model_json = json_load.read() \n",
    "loaded_model = model_from_json(loaded_model_json)\n",
    "\n",
    "## model의 구조에 저장되어있던 weight를 불러옵니다\n",
    "loaded_model.load_weights(\"model.h5\")\n"
   ]
  },
  {
   "cell_type": "markdown",
   "metadata": {},
   "source": [
    "softmax는 class 중 가장 높은 확률의 class가 어느 것인지 출력해주는 함수이며 출력의 합은 항상 1입니다\n",
    "\n",
    "model이 예측한 결과를 살펴본다면 출력은 softmax를 거쳐 나오기 때문에 확률로 나오게 됩니다\n",
    "\n",
    "따라서, 이 확률 중 가장 큰 값은 1로, 나머지 값은 전부 0으로 만들어 줘야하는 encoding이 필요합니다"
   ]
  },
  {
   "cell_type": "code",
   "execution_count": 20,
   "metadata": {},
   "outputs": [
    {
     "name": "stdout",
     "output_type": "stream",
     "text": [
      "불러온 model을 사용하여 test_x를 가지고 예측했을 때 정확도 = 0.8793333333333333\n",
      "저장 전 model을 사용하여 test_x를 가지고 예측했을 때 정확도 = 0.8793333333333333\n"
     ]
    }
   ],
   "source": [
    "## accuracy를 계산해 줄 라이브러리를 가져옵니다\n",
    "from sklearn.metrics import accuracy_score\n",
    "\n",
    "### 일부 버전에 따라 직접 클래스를 구분해야 할 수 있습니다\n",
    "# pred=np.eye(test_y.shape[1])[tf.argmax(loaded_model.predict(test_x),axis=1).eval(session=sess)]\n",
    "\n",
    "### class를 예측해봅니다\n",
    "pred_load=np.eye(10)[loaded_model.predict_classes(test_x)]\n",
    "pred_model=np.eye(10)[model.predict_classes(test_x)]\n",
    "print('불러온 model을 사용하여 test_x를 가지고 예측했을 때 정확도 = {}'.format(accuracy_score(pred_load,test_y)))\n",
    "print('저장 전 model을 사용하여 test_x를 가지고 예측했을 때 정확도 = {}'.format(accuracy_score(pred_model,test_y)))"
   ]
  },
  {
   "cell_type": "markdown",
   "metadata": {},
   "source": [
    "저장 전 모델과 저장한 값을 가지고 새로 생성한 모델의 정확도가 정확히 일치합니다"
   ]
  },
  {
   "cell_type": "markdown",
   "metadata": {},
   "source": [
    "## 6. 연습문제 : 자유롭게 네트워크를 구성하여 99%의 정확도를 만들어 보세요!!\n",
    "20분간 네트워크를 자유롭게 변경하여 훈련 데이터에 대해 99%의 정확도를 만들어보세요.<br>"
   ]
  },
  {
   "cell_type": "code",
   "execution_count": 21,
   "metadata": {},
   "outputs": [
    {
     "name": "stdout",
     "output_type": "stream",
     "text": [
      "_________________________________________________________________\n",
      "Layer (type)                 Output Shape              Param #   \n",
      "=================================================================\n",
      "dense_7 (Dense)              (None, 1000)              785000    \n",
      "_________________________________________________________________\n",
      "dense_8 (Dense)              (None, 100)               100100    \n",
      "_________________________________________________________________\n",
      "dense_9 (Dense)              (None, 10)                1010      \n",
      "=================================================================\n",
      "Total params: 886,110\n",
      "Trainable params: 886,110\n",
      "Non-trainable params: 0\n",
      "_________________________________________________________________\n"
     ]
    }
   ],
   "source": [
    "# 순차적 모델을 생성합니다.\n",
    "model = models.Sequential()\n",
    "# 입력 층의 차원은 MNIST 이미지가 28*28 = 784 이므로 784로 설정합니다.\n",
    "input_shape = (784,)\n",
    "\n",
    "# 여기에서 한가지 주의할 점은 입력 층은 입력 그 자체이지 벡터 연산을 하지 않습니다.\n",
    "# 순차적 모델에 3개의 은닉층을 추가합니다. 임의로 퍼셉트론의 수를 늘려보겠습니다.\n",
    "model.add(layers.Dense(units = 1000, activation = 'relu', input_shape=input_shape))\n",
    "'''\n",
    "은닉층을 퍼셉트론의 수와 활성화 함수를 변경하며 자유롭게 추가해 보세요.\n",
    "활성화 함수에는 sigmoid, relu, tanh 등이 있습니다.\n",
    "model.add(layers.Dense(units = , activation = ''))\n",
    "'''\n",
    "# 순차적 모델에 출력층을 추가합니다. \n",
    "# 출력 층은 우리가 예측할 0~9의 숫자 개수인 10개의 퍼셉트론과 softmax 활성화 함수를 사용합니다.\n",
    "# model.add(layers.Dense(units = 1000, activation = 'relu'))\n",
    "# model.add(layers.Dense(units = 1000, activation = 'relu'))\n",
    "model.add(layers.Dense(units = 100, activation = 'relu'))\n",
    "model.add(layers.Dense(units = 10, activation = 'softmax'))\n",
    "\n",
    "\n",
    "model.compile(\n",
    "             #옵티마이저만 자유롭게 변경해보세요. SGD, adam, adadelta, adagrad, rmsprop등이 있습니다.\n",
    "             optimizer='Adam',\n",
    "              \n",
    "              \n",
    "             #10개의 숫자 클래스를 분류하는 것이므로 categorical_crossentropy를 loss function으로 사용합니다.\n",
    "             loss = 'categorical_crossentropy',\n",
    "             metrics=['accuracy'])\n",
    "\n",
    "model.summary()"
   ]
  },
  {
   "cell_type": "code",
   "execution_count": 22,
   "metadata": {},
   "outputs": [
    {
     "name": "stdout",
     "output_type": "stream",
     "text": [
      "Train on 48000 samples, validate on 12000 samples\n",
      "Epoch 1/10\n",
      "48000/48000 [==============================] - 1s 13us/step - loss: 0.3762 - acc: 0.8944 - val_loss: 0.1934 - val_acc: 0.9451\n",
      "Epoch 2/10\n",
      "48000/48000 [==============================] - 0s 9us/step - loss: 0.1349 - acc: 0.9604 - val_loss: 0.1291 - val_acc: 0.9645\n",
      "Epoch 3/10\n",
      "48000/48000 [==============================] - 0s 9us/step - loss: 0.0859 - acc: 0.9752 - val_loss: 0.1031 - val_acc: 0.9698\n",
      "Epoch 4/10\n",
      "48000/48000 [==============================] - 0s 8us/step - loss: 0.0586 - acc: 0.9831 - val_loss: 0.0888 - val_acc: 0.9741\n",
      "Epoch 5/10\n",
      "48000/48000 [==============================] - 0s 9us/step - loss: 0.0417 - acc: 0.9879 - val_loss: 0.0871 - val_acc: 0.9753\n",
      "Epoch 6/10\n",
      "48000/48000 [==============================] - 0s 8us/step - loss: 0.0301 - acc: 0.9914 - val_loss: 0.0877 - val_acc: 0.9753\n",
      "Epoch 7/10\n",
      "48000/48000 [==============================] - 0s 9us/step - loss: 0.0206 - acc: 0.9946 - val_loss: 0.0803 - val_acc: 0.9777\n",
      "Epoch 8/10\n",
      "48000/48000 [==============================] - 0s 9us/step - loss: 0.0164 - acc: 0.9961 - val_loss: 0.0838 - val_acc: 0.9763\n",
      "Epoch 9/10\n",
      "48000/48000 [==============================] - 0s 8us/step - loss: 0.0106 - acc: 0.9982 - val_loss: 0.0779 - val_acc: 0.9791\n",
      "Epoch 10/10\n",
      "48000/48000 [==============================] - 0s 9us/step - loss: 0.0072 - acc: 0.9987 - val_loss: 0.0777 - val_acc: 0.9798\n"
     ]
    }
   ],
   "source": [
    "history = model.fit(train_x, train_y, \n",
    "          validation_data = [test_x, test_y],\n",
    "          batch_size=512,\n",
    "          epochs=10,)"
   ]
  },
  {
   "cell_type": "code",
   "execution_count": 23,
   "metadata": {},
   "outputs": [
    {
     "data": {
      "image/png": "[encoded data removed]",
      "text/plain": [
       "<Figure size 432x288 with 1 Axes>"
      ]
     },
     "metadata": {
      "needs_background": "light"
     },
     "output_type": "display_data"
    },
    {
     "data": {
      "image/png": "[encoded data removed]",
      "text/plain": [
       "<Figure size 432x288 with 1 Axes>"
      ]
     },
     "metadata": {
      "needs_background": "light"
     },
     "output_type": "display_data"
    }
   ],
   "source": [
    "plt.plot(history.history['acc'])\n",
    "plt.plot(history.history['val_acc'])\n",
    "plt.title('model accuracy')\n",
    "plt.ylabel('accuracy')\n",
    "plt.xlabel('epoch')\n",
    "plt.legend(['train', 'test'], loc='upper left')\n",
    "plt.show()\n",
    "# summarize history for loss\n",
    "plt.plot(history.history['loss'])\n",
    "plt.plot(history.history['val_loss'])\n",
    "plt.title('model loss')\n",
    "plt.ylabel('loss')\n",
    "plt.xlabel('epoch')\n",
    "plt.legend(['train', 'test'], loc='upper left')\n",
    "plt.show()"
   ]
  }
 ],
 "metadata": {
  "kernelspec": {
   "display_name": "samsung",
   "language": "python",
   "name": "samsung"
  },
  "language_info": {
   "codemirror_mode": {
    "name": "ipython",
    "version": 3
   },
   "file_extension": ".py",
   "mimetype": "text/x-python",
   "name": "python",
   "nbconvert_exporter": "python",
   "pygments_lexer": "ipython3",
   "version": "3.6.7"
  }
 },
 "nbformat": 4,
 "nbformat_minor": 2
}
