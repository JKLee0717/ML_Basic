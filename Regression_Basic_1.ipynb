{
 "cells": [
  {
   "cell_type": "markdown",
   "metadata": {},
   "source": [
    "Lab02-1\n",
    "======\n"
   ]
  },
  {
   "cell_type": "markdown",
   "metadata": {},
   "source": [
    "###  Context\n",
    "#### Regression(Linear Regression)\n",
    "   + Simple regression(단순 회귀분석)\n",
    "   + Multiple regression(다중 회귀분석)"
   ]
  },
  {
   "cell_type": "markdown",
   "metadata": {},
   "source": [
    "# Regression ( 회귀 분석 )\n",
    "+ 어떤 연속적인 값을 갖는 종속 변수(Target, output)가 그 외 다른 독립 변수(input)에 의해 설명된다고 보고, 그 함수 관계를 조사하는 기법입니다.\n",
    "\n",
    "\n",
    "\\- 영향을 받는 변수(Y) : \n",
    "<br>반응변수(response variable), __종속변수(dependent variable)__, 결과변수(outcome variable)\n",
    "\n",
    "\n",
    "\\- 영향을 주는 변수(X) : \n",
    "<br>설명변수(explanatory variable), __독립변수(independent variable)__, 예측 변수(predictor variable) "
   ]
  },
  {
   "cell_type": "markdown",
   "metadata": {},
   "source": [
    "## ! 회귀분석을 실시하기 전에 유의할 점 !\n",
    "\n",
    "다중 선형 회귀 모형을 예측/추론에 사용하기 위해, 다음의 **네가지 가정** 이 필요합니다.\n",
    "\n",
    "1. 선형성: 종속변수와 독립변수 간의 선형 관계가 있다.\n",
    "2. 독립성: 독립변수들 간의 통계적 독립적이다. ( 비다중공선성 )\n",
    "3. 등분산성: 잔차들의 분산이 일정하다.\n",
    "4. 정규성: 잔차들의 분포가 정규 분포를 이룬다.\n",
    "\n",
    "> ### 1. 선형성 (Linearity)\n",
    "> - 선형성이란, 독립변수와 종속변수 간에 선형적인 관계를 가지는 성질입니다.\n",
    ">> 선형성이 위반될 경우, 회귀 모형을 사용한 추정이 정확하지 않을 가능성이 큽니다. 다시말해 y와 x간에 선형인 관계가 없다면 아무런 의미 없는 분석이 되기 쉽습니다.\n",
    "\n",
    "> ### 2. 독립성 (Independency)\n",
    "> -  독립성은 회귀모형의 가장 빈번한 문제로 제기되는 것으로 다중공선성(Multicollinearity)과 관련되어 있습니다.\n",
    ">> 독립성이란, 다중 회귀 모형에 투입된 여러 변수들 간에 특정한 관계가 없는 성질을 뜻합니다.  \n",
    ">> 이 경우 독립성 가정이 위배되고, 회귀 계수의 분산이 비정상적으로 커져 계수 추정이 어려워지는 문제가 생깁니다.\n",
    "\n",
    "> ### 3. 등분산성(homoskedasticity)\n",
    "> - 등분산이란, 말 그대로 분산이 같다는 의미입니다. 여기서의 분산은 잔차의 분산을 나타내며 이때 잔차란, 추정치와 실제치의 차이입니다.\n",
    ">> 잔차가 균일한, 즉 하나의 분산을 가지고 흩어져 있는 성질을 등분산성이라고 합니다.\n",
    "\n",
    "![1](./Images/Hsked_residual_compare.png)\n",
    "\n",
    "\n",
    "> 위의 그림은 등분산성을 가정할 수 없는 경우의 잔차도입니다. 반면 아래의 그림은 등분산성을 띤 잔차의 분포를 보여줍니다.  \n",
    "> 위의 그림의 경우 x의 값이 커질수록 분산이 커지는 현상을 보여줍니다.\n",
    "\n",
    "![2](./Images/homoskedasticity.jpg)\n",
    "\n",
    "> ### 4. 정규성(Normality)\n",
    "> - 잔차의 성규성이란, 잔차가 정규분포의 형태를 띤다는 의미입니다.  \n",
    ">> 회귀분석에서 알수 없는 잔차의 형태를 최대한 간단하게 두기위해 정규 분포를 따른다는 가정하에 모형을 만들게 됩니다.\n",
    "\n",
    "![3](./Images/normality.gif)"
   ]
  },
  {
   "cell_type": "code",
   "execution_count": null,
   "metadata": {},
   "outputs": [],
   "source": [
    "##<img src=\"./Images/Hsked_residual_compare.png\" width=\"300\"> "
   ]
  },
  {
   "cell_type": "markdown",
   "metadata": {},
   "source": [
    "## Linear regression\n",
    "+ 회귀 모델이 회귀 계수들의 선형 결합(Linear Relationship)만으로 이루어진 함수임을 말합니다."
   ]
  },
  {
   "cell_type": "markdown",
   "metadata": {},
   "source": [
    "### - Linear Relationship\n",
    "+ ### Hyphothesis(가설공간)\n",
    "\n",
    "     $Y = B_0 + B_1X_1 + B_2X_2+ \\cdot\\cdot\\cdot B_dX_d$\n",
    "    ($Y$: Target,  $X_i$ : features,  $d$ : # of features, $B_i$ : model parameters)\n",
    "\n",
    "\n",
    "+ 회귀 분석을 통해 추정되는 계수의 크기 및 방향석(+,-)를 통해 독립 변수가 종속 변수에 미치는 영향을 알 수 있게 됩니다.\n",
    "    \n",
    "### - How to find relationship?\n",
    "\n",
    "+ ### Least squares method(최소제곱법)<br>\n",
    "\n",
    "    + 변수 X와 Y의 관계를 가장 잘 나타낸다는 것은 곧 데이터가 나타내는 점들에 가장 가까이 있는 직선을 찾는다는 것입니다. 따라서 이는 곧 모든 점들과의 거리의 합이 최소가 되는 직선을 찾는 것이라고 할 수 있습니다.\n",
    "    \n",
    "    $Y: 실제 값 \\ \\ \\hat{Y}: 추정 값(Target)$\n",
    "    <br>$Y = \\hat{Y} + e$\n",
    "    <br>$e = Y - \\hat{Y} : 잔차$(각 데이터와 직선 사이의 거리)\n",
    "    \n",
    "    $\\sum_{i=1}^n \\ {e_i^2}: \\ Residual \\ Sum \\  of \\ Squares (RSS)$ \n",
    "    ### minRSS = min$\\sum_{i=1}^n {e_i^2}$"
   ]
  },
  {
   "cell_type": "code",
   "execution_count": 2,
   "metadata": {},
   "outputs": [],
   "source": [
    "from os.path import join\n",
    "import numpy as np\n",
    "\n",
    "from sklearn import linear_model\n",
    "from sklearn.metrics import r2_score\n",
    "\n",
    "import matplotlib.pyplot as plt\n",
    "from mpl_toolkits.mplot3d import Axes3D\n",
    "import pandas as pd\n",
    "from pandas.plotting import scatter_matrix"
   ]
  },
  {
   "cell_type": "markdown",
   "metadata": {},
   "source": [
    "# 1. 데이터 살펴보기\n",
    "\n",
    "+ 이번 실습에서는 당뇨병 환자 데이터<1>와 자동차 데이터<2>를 사용합니다."
   ]
  },
  {
   "cell_type": "markdown",
   "metadata": {},
   "source": [
    "### <1> 예제 : 'diabetesDataset.csv'"
   ]
  },
  {
   "cell_type": "markdown",
   "metadata": {},
   "source": [
    "데이터를 살펴보기 쉽게 csv 파일을 pandas DataFrame으로 읽습니다."
   ]
  },
  {
   "cell_type": "code",
   "execution_count": 3,
   "metadata": {},
   "outputs": [
    {
     "name": "stdout",
     "output_type": "stream",
     "text": [
      "(442, 11)\n"
     ]
    }
   ],
   "source": [
    "df = pd.read_csv(join('data','diabetesDataset.csv'))\n",
    "print(df.shape)"
   ]
  },
  {
   "cell_type": "markdown",
   "metadata": {},
   "source": [
    "DataFrame.head() 함수로 처음 5개의 데이터를 살펴볼 수 있습니다."
   ]
  },
  {
   "cell_type": "code",
   "execution_count": 4,
   "metadata": {
    "scrolled": true
   },
   "outputs": [
    {
     "data": {
      "text/html": [
       "<div>\n",
       "<style scoped>\n",
       "    .dataframe tbody tr th:only-of-type {\n",
       "        vertical-align: middle;\n",
       "    }\n",
       "\n",
       "    .dataframe tbody tr th {\n",
       "        vertical-align: top;\n",
       "    }\n",
       "\n",
       "    .dataframe thead th {\n",
       "        text-align: right;\n",
       "    }\n",
       "</style>\n",
       "<table border=\"1\" class=\"dataframe\">\n",
       "  <thead>\n",
       "    <tr style=\"text-align: right;\">\n",
       "      <th></th>\n",
       "      <th>age</th>\n",
       "      <th>sex</th>\n",
       "      <th>bmi</th>\n",
       "      <th>map</th>\n",
       "      <th>tc</th>\n",
       "      <th>ldl</th>\n",
       "      <th>hdl</th>\n",
       "      <th>tch</th>\n",
       "      <th>ltg</th>\n",
       "      <th>glu</th>\n",
       "      <th>y</th>\n",
       "    </tr>\n",
       "  </thead>\n",
       "  <tbody>\n",
       "    <tr>\n",
       "      <th>0</th>\n",
       "      <td>0.038076</td>\n",
       "      <td>0.050680</td>\n",
       "      <td>0.061696</td>\n",
       "      <td>0.021872</td>\n",
       "      <td>-0.044223</td>\n",
       "      <td>-0.034821</td>\n",
       "      <td>-0.043401</td>\n",
       "      <td>-0.002592</td>\n",
       "      <td>0.019908</td>\n",
       "      <td>-0.017646</td>\n",
       "      <td>151.0</td>\n",
       "    </tr>\n",
       "    <tr>\n",
       "      <th>1</th>\n",
       "      <td>-0.001882</td>\n",
       "      <td>-0.044642</td>\n",
       "      <td>-0.051474</td>\n",
       "      <td>-0.026328</td>\n",
       "      <td>-0.008449</td>\n",
       "      <td>-0.019163</td>\n",
       "      <td>0.074412</td>\n",
       "      <td>-0.039493</td>\n",
       "      <td>-0.068330</td>\n",
       "      <td>-0.092204</td>\n",
       "      <td>75.0</td>\n",
       "    </tr>\n",
       "    <tr>\n",
       "      <th>2</th>\n",
       "      <td>0.085299</td>\n",
       "      <td>0.050680</td>\n",
       "      <td>0.044451</td>\n",
       "      <td>-0.005671</td>\n",
       "      <td>-0.045599</td>\n",
       "      <td>-0.034194</td>\n",
       "      <td>-0.032356</td>\n",
       "      <td>-0.002592</td>\n",
       "      <td>0.002864</td>\n",
       "      <td>-0.025930</td>\n",
       "      <td>141.0</td>\n",
       "    </tr>\n",
       "    <tr>\n",
       "      <th>3</th>\n",
       "      <td>-0.089063</td>\n",
       "      <td>-0.044642</td>\n",
       "      <td>-0.011595</td>\n",
       "      <td>-0.036656</td>\n",
       "      <td>0.012191</td>\n",
       "      <td>0.024991</td>\n",
       "      <td>-0.036038</td>\n",
       "      <td>0.034309</td>\n",
       "      <td>0.022692</td>\n",
       "      <td>-0.009362</td>\n",
       "      <td>206.0</td>\n",
       "    </tr>\n",
       "    <tr>\n",
       "      <th>4</th>\n",
       "      <td>0.005383</td>\n",
       "      <td>-0.044642</td>\n",
       "      <td>-0.036385</td>\n",
       "      <td>0.021872</td>\n",
       "      <td>0.003935</td>\n",
       "      <td>0.015596</td>\n",
       "      <td>0.008142</td>\n",
       "      <td>-0.002592</td>\n",
       "      <td>-0.031991</td>\n",
       "      <td>-0.046641</td>\n",
       "      <td>135.0</td>\n",
       "    </tr>\n",
       "  </tbody>\n",
       "</table>\n",
       "</div>"
      ],
      "text/plain": [
       "        age       sex       bmi       map        tc       ldl       hdl  \\\n",
       "0  0.038076  0.050680  0.061696  0.021872 -0.044223 -0.034821 -0.043401   \n",
       "1 -0.001882 -0.044642 -0.051474 -0.026328 -0.008449 -0.019163  0.074412   \n",
       "2  0.085299  0.050680  0.044451 -0.005671 -0.045599 -0.034194 -0.032356   \n",
       "3 -0.089063 -0.044642 -0.011595 -0.036656  0.012191  0.024991 -0.036038   \n",
       "4  0.005383 -0.044642 -0.036385  0.021872  0.003935  0.015596  0.008142   \n",
       "\n",
       "        tch       ltg       glu      y  \n",
       "0 -0.002592  0.019908 -0.017646  151.0  \n",
       "1 -0.039493 -0.068330 -0.092204   75.0  \n",
       "2 -0.002592  0.002864 -0.025930  141.0  \n",
       "3  0.034309  0.022692 -0.009362  206.0  \n",
       "4 -0.002592 -0.031991 -0.046641  135.0  "
      ]
     },
     "execution_count": 4,
     "metadata": {},
     "output_type": "execute_result"
    }
   ],
   "source": [
    "df.head()"
   ]
  },
  {
   "cell_type": "markdown",
   "metadata": {},
   "source": [
    "describe() 메서드는 숫자형 특성의 요약 정보를 줍니다.\n",
    "<br>count(sample 수), mean(평균), min, max, \n",
    "\n",
    "<br>%(백분위수 : 전체 관측값에서 주어진 백분율이 속하는 하위 부분의 값)\n",
    "<br>ex  (__bmi__): 0-25% 구역은  -3.422907e-02보다 작거나 같음, 0-50%는 -7.283770e-03보다 작거나 같음, 75%는 3.564384e-02보다 작거나 같음."
   ]
  },
  {
   "cell_type": "code",
   "execution_count": 5,
   "metadata": {
    "scrolled": false
   },
   "outputs": [
    {
     "data": {
      "text/html": [
       "<div>\n",
       "<style scoped>\n",
       "    .dataframe tbody tr th:only-of-type {\n",
       "        vertical-align: middle;\n",
       "    }\n",
       "\n",
       "    .dataframe tbody tr th {\n",
       "        vertical-align: top;\n",
       "    }\n",
       "\n",
       "    .dataframe thead th {\n",
       "        text-align: right;\n",
       "    }\n",
       "</style>\n",
       "<table border=\"1\" class=\"dataframe\">\n",
       "  <thead>\n",
       "    <tr style=\"text-align: right;\">\n",
       "      <th></th>\n",
       "      <th>age</th>\n",
       "      <th>sex</th>\n",
       "      <th>bmi</th>\n",
       "      <th>map</th>\n",
       "      <th>tc</th>\n",
       "      <th>ldl</th>\n",
       "      <th>hdl</th>\n",
       "      <th>tch</th>\n",
       "      <th>ltg</th>\n",
       "      <th>glu</th>\n",
       "      <th>y</th>\n",
       "    </tr>\n",
       "  </thead>\n",
       "  <tbody>\n",
       "    <tr>\n",
       "      <th>count</th>\n",
       "      <td>4.420000e+02</td>\n",
       "      <td>4.420000e+02</td>\n",
       "      <td>4.420000e+02</td>\n",
       "      <td>4.420000e+02</td>\n",
       "      <td>4.420000e+02</td>\n",
       "      <td>4.420000e+02</td>\n",
       "      <td>4.420000e+02</td>\n",
       "      <td>4.420000e+02</td>\n",
       "      <td>4.420000e+02</td>\n",
       "      <td>4.420000e+02</td>\n",
       "      <td>442.000000</td>\n",
       "    </tr>\n",
       "    <tr>\n",
       "      <th>mean</th>\n",
       "      <td>-1.357466e-10</td>\n",
       "      <td>-1.266968e-09</td>\n",
       "      <td>1.583710e-10</td>\n",
       "      <td>-2.262443e-10</td>\n",
       "      <td>2.262443e-11</td>\n",
       "      <td>-1.357466e-10</td>\n",
       "      <td>-6.787330e-11</td>\n",
       "      <td>1.674208e-09</td>\n",
       "      <td>-1.809955e-10</td>\n",
       "      <td>-1.131222e-10</td>\n",
       "      <td>152.133484</td>\n",
       "    </tr>\n",
       "    <tr>\n",
       "      <th>std</th>\n",
       "      <td>4.761905e-02</td>\n",
       "      <td>4.761905e-02</td>\n",
       "      <td>4.761905e-02</td>\n",
       "      <td>4.761905e-02</td>\n",
       "      <td>4.761905e-02</td>\n",
       "      <td>4.761905e-02</td>\n",
       "      <td>4.761905e-02</td>\n",
       "      <td>4.761905e-02</td>\n",
       "      <td>4.761905e-02</td>\n",
       "      <td>4.761905e-02</td>\n",
       "      <td>77.093005</td>\n",
       "    </tr>\n",
       "    <tr>\n",
       "      <th>min</th>\n",
       "      <td>-1.072256e-01</td>\n",
       "      <td>-4.464164e-02</td>\n",
       "      <td>-9.027530e-02</td>\n",
       "      <td>-1.123996e-01</td>\n",
       "      <td>-1.267807e-01</td>\n",
       "      <td>-1.156131e-01</td>\n",
       "      <td>-1.023070e-01</td>\n",
       "      <td>-7.639450e-02</td>\n",
       "      <td>-1.260974e-01</td>\n",
       "      <td>-1.377672e-01</td>\n",
       "      <td>25.000000</td>\n",
       "    </tr>\n",
       "    <tr>\n",
       "      <th>25%</th>\n",
       "      <td>-3.729926e-02</td>\n",
       "      <td>-4.464164e-02</td>\n",
       "      <td>-3.422907e-02</td>\n",
       "      <td>-3.665645e-02</td>\n",
       "      <td>-3.424784e-02</td>\n",
       "      <td>-3.035840e-02</td>\n",
       "      <td>-3.511716e-02</td>\n",
       "      <td>-3.949338e-02</td>\n",
       "      <td>-3.324879e-02</td>\n",
       "      <td>-3.317903e-02</td>\n",
       "      <td>87.000000</td>\n",
       "    </tr>\n",
       "    <tr>\n",
       "      <th>50%</th>\n",
       "      <td>5.383060e-03</td>\n",
       "      <td>-4.464164e-02</td>\n",
       "      <td>-7.283770e-03</td>\n",
       "      <td>-5.670610e-03</td>\n",
       "      <td>-4.320870e-03</td>\n",
       "      <td>-3.819070e-03</td>\n",
       "      <td>-6.584470e-03</td>\n",
       "      <td>-2.592260e-03</td>\n",
       "      <td>-1.947635e-03</td>\n",
       "      <td>-1.077700e-03</td>\n",
       "      <td>140.500000</td>\n",
       "    </tr>\n",
       "    <tr>\n",
       "      <th>75%</th>\n",
       "      <td>3.807591e-02</td>\n",
       "      <td>5.068012e-02</td>\n",
       "      <td>3.124802e-02</td>\n",
       "      <td>3.564384e-02</td>\n",
       "      <td>2.835801e-02</td>\n",
       "      <td>2.984439e-02</td>\n",
       "      <td>2.931150e-02</td>\n",
       "      <td>3.430886e-02</td>\n",
       "      <td>3.243323e-02</td>\n",
       "      <td>2.791705e-02</td>\n",
       "      <td>211.500000</td>\n",
       "    </tr>\n",
       "    <tr>\n",
       "      <th>max</th>\n",
       "      <td>1.107267e-01</td>\n",
       "      <td>5.068012e-02</td>\n",
       "      <td>1.705552e-01</td>\n",
       "      <td>1.320442e-01</td>\n",
       "      <td>1.539137e-01</td>\n",
       "      <td>1.987880e-01</td>\n",
       "      <td>1.811791e-01</td>\n",
       "      <td>1.852344e-01</td>\n",
       "      <td>1.335990e-01</td>\n",
       "      <td>1.356118e-01</td>\n",
       "      <td>346.000000</td>\n",
       "    </tr>\n",
       "  </tbody>\n",
       "</table>\n",
       "</div>"
      ],
      "text/plain": [
       "                age           sex           bmi           map            tc  \\\n",
       "count  4.420000e+02  4.420000e+02  4.420000e+02  4.420000e+02  4.420000e+02   \n",
       "mean  -1.357466e-10 -1.266968e-09  1.583710e-10 -2.262443e-10  2.262443e-11   \n",
       "std    4.761905e-02  4.761905e-02  4.761905e-02  4.761905e-02  4.761905e-02   \n",
       "min   -1.072256e-01 -4.464164e-02 -9.027530e-02 -1.123996e-01 -1.267807e-01   \n",
       "25%   -3.729926e-02 -4.464164e-02 -3.422907e-02 -3.665645e-02 -3.424784e-02   \n",
       "50%    5.383060e-03 -4.464164e-02 -7.283770e-03 -5.670610e-03 -4.320870e-03   \n",
       "75%    3.807591e-02  5.068012e-02  3.124802e-02  3.564384e-02  2.835801e-02   \n",
       "max    1.107267e-01  5.068012e-02  1.705552e-01  1.320442e-01  1.539137e-01   \n",
       "\n",
       "                ldl           hdl           tch           ltg           glu  \\\n",
       "count  4.420000e+02  4.420000e+02  4.420000e+02  4.420000e+02  4.420000e+02   \n",
       "mean  -1.357466e-10 -6.787330e-11  1.674208e-09 -1.809955e-10 -1.131222e-10   \n",
       "std    4.761905e-02  4.761905e-02  4.761905e-02  4.761905e-02  4.761905e-02   \n",
       "min   -1.156131e-01 -1.023070e-01 -7.639450e-02 -1.260974e-01 -1.377672e-01   \n",
       "25%   -3.035840e-02 -3.511716e-02 -3.949338e-02 -3.324879e-02 -3.317903e-02   \n",
       "50%   -3.819070e-03 -6.584470e-03 -2.592260e-03 -1.947635e-03 -1.077700e-03   \n",
       "75%    2.984439e-02  2.931150e-02  3.430886e-02  3.243323e-02  2.791705e-02   \n",
       "max    1.987880e-01  1.811791e-01  1.852344e-01  1.335990e-01  1.356118e-01   \n",
       "\n",
       "                y  \n",
       "count  442.000000  \n",
       "mean   152.133484  \n",
       "std     77.093005  \n",
       "min     25.000000  \n",
       "25%     87.000000  \n",
       "50%    140.500000  \n",
       "75%    211.500000  \n",
       "max    346.000000  "
      ]
     },
     "execution_count": 5,
     "metadata": {},
     "output_type": "execute_result"
    }
   ],
   "source": [
    "df.describe()"
   ]
  },
  {
   "cell_type": "code",
   "execution_count": 6,
   "metadata": {},
   "outputs": [],
   "source": [
    "for dim in df.columns:\n",
    "        df[dim] -= np.min(df[dim])\n",
    "        df[dim] /= np.max(df[dim])"
   ]
  },
  {
   "cell_type": "markdown",
   "metadata": {},
   "source": [
    "hist() 메서드는 히스토그램을 줍니다. 히스토그램은 주어진 값의 범위(수평축)에 속한 샘플 수(수직축)를 나타냅니다."
   ]
  },
  {
   "cell_type": "code",
   "execution_count": 7,
   "metadata": {
    "scrolled": true
   },
   "outputs": [
    {
     "data": {
      "text/html": [
       "<div>\n",
       "<style scoped>\n",
       "    .dataframe tbody tr th:only-of-type {\n",
       "        vertical-align: middle;\n",
       "    }\n",
       "\n",
       "    .dataframe tbody tr th {\n",
       "        vertical-align: top;\n",
       "    }\n",
       "\n",
       "    .dataframe thead th {\n",
       "        text-align: right;\n",
       "    }\n",
       "</style>\n",
       "<table border=\"1\" class=\"dataframe\">\n",
       "  <thead>\n",
       "    <tr style=\"text-align: right;\">\n",
       "      <th></th>\n",
       "      <th>age</th>\n",
       "      <th>sex</th>\n",
       "      <th>bmi</th>\n",
       "      <th>map</th>\n",
       "      <th>tc</th>\n",
       "      <th>ldl</th>\n",
       "      <th>hdl</th>\n",
       "      <th>tch</th>\n",
       "      <th>ltg</th>\n",
       "      <th>glu</th>\n",
       "      <th>y</th>\n",
       "    </tr>\n",
       "  </thead>\n",
       "  <tbody>\n",
       "    <tr>\n",
       "      <th>count</th>\n",
       "      <td>442.000000</td>\n",
       "      <td>442.000000</td>\n",
       "      <td>442.000000</td>\n",
       "      <td>442.000000</td>\n",
       "      <td>442.000000</td>\n",
       "      <td>442.000000</td>\n",
       "      <td>442.000000</td>\n",
       "      <td>442.000000</td>\n",
       "      <td>442.000000</td>\n",
       "      <td>442.000000</td>\n",
       "      <td>442.000000</td>\n",
       "    </tr>\n",
       "    <tr>\n",
       "      <th>mean</th>\n",
       "      <td>0.491968</td>\n",
       "      <td>0.468326</td>\n",
       "      <td>0.346107</td>\n",
       "      <td>0.459818</td>\n",
       "      <td>0.451668</td>\n",
       "      <td>0.367725</td>\n",
       "      <td>0.360889</td>\n",
       "      <td>0.291996</td>\n",
       "      <td>0.485557</td>\n",
       "      <td>0.503942</td>\n",
       "      <td>0.396054</td>\n",
       "    </tr>\n",
       "    <tr>\n",
       "      <th>std</th>\n",
       "      <td>0.218484</td>\n",
       "      <td>0.499561</td>\n",
       "      <td>0.182567</td>\n",
       "      <td>0.194806</td>\n",
       "      <td>0.169647</td>\n",
       "      <td>0.151460</td>\n",
       "      <td>0.167977</td>\n",
       "      <td>0.182010</td>\n",
       "      <td>0.183364</td>\n",
       "      <td>0.174187</td>\n",
       "      <td>0.240165</td>\n",
       "    </tr>\n",
       "    <tr>\n",
       "      <th>min</th>\n",
       "      <td>0.000000</td>\n",
       "      <td>0.000000</td>\n",
       "      <td>0.000000</td>\n",
       "      <td>0.000000</td>\n",
       "      <td>0.000000</td>\n",
       "      <td>0.000000</td>\n",
       "      <td>0.000000</td>\n",
       "      <td>0.000000</td>\n",
       "      <td>0.000000</td>\n",
       "      <td>0.000000</td>\n",
       "      <td>0.000000</td>\n",
       "    </tr>\n",
       "    <tr>\n",
       "      <th>25%</th>\n",
       "      <td>0.320833</td>\n",
       "      <td>0.000000</td>\n",
       "      <td>0.214876</td>\n",
       "      <td>0.309859</td>\n",
       "      <td>0.329657</td>\n",
       "      <td>0.271165</td>\n",
       "      <td>0.237013</td>\n",
       "      <td>0.141044</td>\n",
       "      <td>0.357528</td>\n",
       "      <td>0.382576</td>\n",
       "      <td>0.193146</td>\n",
       "    </tr>\n",
       "    <tr>\n",
       "      <th>50%</th>\n",
       "      <td>0.516667</td>\n",
       "      <td>0.000000</td>\n",
       "      <td>0.318182</td>\n",
       "      <td>0.436620</td>\n",
       "      <td>0.436274</td>\n",
       "      <td>0.355578</td>\n",
       "      <td>0.337662</td>\n",
       "      <td>0.282087</td>\n",
       "      <td>0.478057</td>\n",
       "      <td>0.500000</td>\n",
       "      <td>0.359813</td>\n",
       "    </tr>\n",
       "    <tr>\n",
       "      <th>75%</th>\n",
       "      <td>0.666667</td>\n",
       "      <td>1.000000</td>\n",
       "      <td>0.465909</td>\n",
       "      <td>0.605634</td>\n",
       "      <td>0.552696</td>\n",
       "      <td>0.462649</td>\n",
       "      <td>0.464286</td>\n",
       "      <td>0.423131</td>\n",
       "      <td>0.610446</td>\n",
       "      <td>0.606061</td>\n",
       "      <td>0.580997</td>\n",
       "    </tr>\n",
       "    <tr>\n",
       "      <th>max</th>\n",
       "      <td>1.000000</td>\n",
       "      <td>1.000000</td>\n",
       "      <td>1.000000</td>\n",
       "      <td>1.000000</td>\n",
       "      <td>1.000000</td>\n",
       "      <td>1.000000</td>\n",
       "      <td>1.000000</td>\n",
       "      <td>1.000000</td>\n",
       "      <td>1.000000</td>\n",
       "      <td>1.000000</td>\n",
       "      <td>1.000000</td>\n",
       "    </tr>\n",
       "  </tbody>\n",
       "</table>\n",
       "</div>"
      ],
      "text/plain": [
       "              age         sex         bmi         map          tc         ldl  \\\n",
       "count  442.000000  442.000000  442.000000  442.000000  442.000000  442.000000   \n",
       "mean     0.491968    0.468326    0.346107    0.459818    0.451668    0.367725   \n",
       "std      0.218484    0.499561    0.182567    0.194806    0.169647    0.151460   \n",
       "min      0.000000    0.000000    0.000000    0.000000    0.000000    0.000000   \n",
       "25%      0.320833    0.000000    0.214876    0.309859    0.329657    0.271165   \n",
       "50%      0.516667    0.000000    0.318182    0.436620    0.436274    0.355578   \n",
       "75%      0.666667    1.000000    0.465909    0.605634    0.552696    0.462649   \n",
       "max      1.000000    1.000000    1.000000    1.000000    1.000000    1.000000   \n",
       "\n",
       "              hdl         tch         ltg         glu           y  \n",
       "count  442.000000  442.000000  442.000000  442.000000  442.000000  \n",
       "mean     0.360889    0.291996    0.485557    0.503942    0.396054  \n",
       "std      0.167977    0.182010    0.183364    0.174187    0.240165  \n",
       "min      0.000000    0.000000    0.000000    0.000000    0.000000  \n",
       "25%      0.237013    0.141044    0.357528    0.382576    0.193146  \n",
       "50%      0.337662    0.282087    0.478057    0.500000    0.359813  \n",
       "75%      0.464286    0.423131    0.610446    0.606061    0.580997  \n",
       "max      1.000000    1.000000    1.000000    1.000000    1.000000  "
      ]
     },
     "execution_count": 7,
     "metadata": {},
     "output_type": "execute_result"
    }
   ],
   "source": [
    "df.describe()"
   ]
  },
  {
   "cell_type": "code",
   "execution_count": 8,
   "metadata": {},
   "outputs": [
    {
     "data": {
      "image/png": "[encoded data removed]",
      "text/plain": [
       "<Figure size 720x1080 with 12 Axes>"
      ]
     },
     "metadata": {
      "needs_background": "light"
     },
     "output_type": "display_data"
    }
   ],
   "source": [
    "df.hist(bins = 20, figsize=(10, 15))\n",
    "plt.show()"
   ]
  },
  {
   "cell_type": "markdown",
   "metadata": {},
   "source": [
    "+ 데이터는 442명의 환자 데이터를 포함하며, 각 환자별로 11개의 특징들을 포함하고 있습니다.\n",
    "\n",
    "\n",
    "+ Attribute Information:\n",
    "     - Age\n",
    "     - Sex\n",
    "     - Bmi : Body mass index\n",
    "     - map : Average blood pressure\n",
    "     - tc, ldl, hdl, tch, ltg, glu : blood serum(혈청) measurements\n",
    "     - y : a quantitative measure of disease progression one year after baseline"
   ]
  },
  {
   "cell_type": "markdown",
   "metadata": {},
   "source": [
    "***"
   ]
  },
  {
   "cell_type": "markdown",
   "metadata": {},
   "source": [
    "### <2> 연습문제 : 'ToyotaDataset.csv'"
   ]
  },
  {
   "cell_type": "code",
   "execution_count": 9,
   "metadata": {},
   "outputs": [
    {
     "name": "stdout",
     "output_type": "stream",
     "text": [
      "(1436, 4)\n"
     ]
    }
   ],
   "source": [
    "# 데이터를 살펴보기 쉽게 csv 파일을 pandas DataFrame으로 읽습니다.\n",
    "# df와는 다른 이름의 변수를 사용합니다. (df2)\n",
    "df2 = pd.read_csv(join('data','ToyotaDataset.csv'))\n",
    "print(df2.shape)"
   ]
  },
  {
   "cell_type": "code",
   "execution_count": 10,
   "metadata": {
    "scrolled": true
   },
   "outputs": [
    {
     "data": {
      "text/html": [
       "<div>\n",
       "<style scoped>\n",
       "    .dataframe tbody tr th:only-of-type {\n",
       "        vertical-align: middle;\n",
       "    }\n",
       "\n",
       "    .dataframe tbody tr th {\n",
       "        vertical-align: top;\n",
       "    }\n",
       "\n",
       "    .dataframe thead th {\n",
       "        text-align: right;\n",
       "    }\n",
       "</style>\n",
       "<table border=\"1\" class=\"dataframe\">\n",
       "  <thead>\n",
       "    <tr style=\"text-align: right;\">\n",
       "      <th></th>\n",
       "      <th>Price</th>\n",
       "      <th>Age</th>\n",
       "      <th>KM</th>\n",
       "      <th>Weight</th>\n",
       "    </tr>\n",
       "  </thead>\n",
       "  <tbody>\n",
       "    <tr>\n",
       "      <th>0</th>\n",
       "      <td>13500</td>\n",
       "      <td>0.278481</td>\n",
       "      <td>0.193355</td>\n",
       "      <td>0.268293</td>\n",
       "    </tr>\n",
       "    <tr>\n",
       "      <th>1</th>\n",
       "      <td>13750</td>\n",
       "      <td>0.278481</td>\n",
       "      <td>0.300149</td>\n",
       "      <td>0.268293</td>\n",
       "    </tr>\n",
       "    <tr>\n",
       "      <th>2</th>\n",
       "      <td>13950</td>\n",
       "      <td>0.291139</td>\n",
       "      <td>0.171647</td>\n",
       "      <td>0.268293</td>\n",
       "    </tr>\n",
       "    <tr>\n",
       "      <th>3</th>\n",
       "      <td>14950</td>\n",
       "      <td>0.316456</td>\n",
       "      <td>0.197528</td>\n",
       "      <td>0.268293</td>\n",
       "    </tr>\n",
       "    <tr>\n",
       "      <th>4</th>\n",
       "      <td>13750</td>\n",
       "      <td>0.367089</td>\n",
       "      <td>0.158433</td>\n",
       "      <td>0.276423</td>\n",
       "    </tr>\n",
       "  </tbody>\n",
       "</table>\n",
       "</div>"
      ],
      "text/plain": [
       "   Price       Age        KM    Weight\n",
       "0  13500  0.278481  0.193355  0.268293\n",
       "1  13750  0.278481  0.300149  0.268293\n",
       "2  13950  0.291139  0.171647  0.268293\n",
       "3  14950  0.316456  0.197528  0.268293\n",
       "4  13750  0.367089  0.158433  0.276423"
      ]
     },
     "execution_count": 10,
     "metadata": {},
     "output_type": "execute_result"
    }
   ],
   "source": [
    "# DataFrame.head() 함수로 처음 5개의 데이터를 살펴볼 수 있습니다.\n",
    "df2.head()"
   ]
  },
  {
   "cell_type": "code",
   "execution_count": 11,
   "metadata": {},
   "outputs": [
    {
     "data": {
      "text/html": [
       "<div>\n",
       "<style scoped>\n",
       "    .dataframe tbody tr th:only-of-type {\n",
       "        vertical-align: middle;\n",
       "    }\n",
       "\n",
       "    .dataframe tbody tr th {\n",
       "        vertical-align: top;\n",
       "    }\n",
       "\n",
       "    .dataframe thead th {\n",
       "        text-align: right;\n",
       "    }\n",
       "</style>\n",
       "<table border=\"1\" class=\"dataframe\">\n",
       "  <thead>\n",
       "    <tr style=\"text-align: right;\">\n",
       "      <th></th>\n",
       "      <th>Price</th>\n",
       "      <th>Age</th>\n",
       "      <th>KM</th>\n",
       "      <th>Weight</th>\n",
       "    </tr>\n",
       "  </thead>\n",
       "  <tbody>\n",
       "    <tr>\n",
       "      <th>count</th>\n",
       "      <td>1436.000000</td>\n",
       "      <td>1436.000000</td>\n",
       "      <td>1436.000000</td>\n",
       "      <td>1436.000000</td>\n",
       "    </tr>\n",
       "    <tr>\n",
       "      <th>mean</th>\n",
       "      <td>10730.824513</td>\n",
       "      <td>0.695533</td>\n",
       "      <td>0.282027</td>\n",
       "      <td>0.117821</td>\n",
       "    </tr>\n",
       "    <tr>\n",
       "      <th>std</th>\n",
       "      <td>3626.964585</td>\n",
       "      <td>0.235443</td>\n",
       "      <td>0.154348</td>\n",
       "      <td>0.085595</td>\n",
       "    </tr>\n",
       "    <tr>\n",
       "      <th>min</th>\n",
       "      <td>4350.000000</td>\n",
       "      <td>0.000000</td>\n",
       "      <td>0.000000</td>\n",
       "      <td>0.000000</td>\n",
       "    </tr>\n",
       "    <tr>\n",
       "      <th>25%</th>\n",
       "      <td>8450.000000</td>\n",
       "      <td>0.544304</td>\n",
       "      <td>0.176951</td>\n",
       "      <td>0.065041</td>\n",
       "    </tr>\n",
       "    <tr>\n",
       "      <th>50%</th>\n",
       "      <td>9900.000000</td>\n",
       "      <td>0.759494</td>\n",
       "      <td>0.260859</td>\n",
       "      <td>0.113821</td>\n",
       "    </tr>\n",
       "    <tr>\n",
       "      <th>75%</th>\n",
       "      <td>11950.000000</td>\n",
       "      <td>0.873418</td>\n",
       "      <td>0.358107</td>\n",
       "      <td>0.138211</td>\n",
       "    </tr>\n",
       "    <tr>\n",
       "      <th>max</th>\n",
       "      <td>32500.000000</td>\n",
       "      <td>1.000000</td>\n",
       "      <td>1.000000</td>\n",
       "      <td>1.000000</td>\n",
       "    </tr>\n",
       "  </tbody>\n",
       "</table>\n",
       "</div>"
      ],
      "text/plain": [
       "              Price          Age           KM       Weight\n",
       "count   1436.000000  1436.000000  1436.000000  1436.000000\n",
       "mean   10730.824513     0.695533     0.282027     0.117821\n",
       "std     3626.964585     0.235443     0.154348     0.085595\n",
       "min     4350.000000     0.000000     0.000000     0.000000\n",
       "25%     8450.000000     0.544304     0.176951     0.065041\n",
       "50%     9900.000000     0.759494     0.260859     0.113821\n",
       "75%    11950.000000     0.873418     0.358107     0.138211\n",
       "max    32500.000000     1.000000     1.000000     1.000000"
      ]
     },
     "execution_count": 11,
     "metadata": {},
     "output_type": "execute_result"
    }
   ],
   "source": [
    "# describe() 메서드는 숫자형 특성의 요약 정보를 줍니다.\n",
    "df2.describe()"
   ]
  },
  {
   "cell_type": "code",
   "execution_count": 12,
   "metadata": {},
   "outputs": [],
   "source": [
    "for dim in df2.columns:\n",
    "        df2[dim] -= np.min(df2[dim])\n",
    "        df2[dim] /= np.max(df2[dim])"
   ]
  },
  {
   "cell_type": "code",
   "execution_count": 13,
   "metadata": {},
   "outputs": [
    {
     "data": {
      "image/png": "[encoded data removed]",
      "text/plain": [
       "<Figure size 432x288 with 4 Axes>"
      ]
     },
     "metadata": {
      "needs_background": "light"
     },
     "output_type": "display_data"
    }
   ],
   "source": [
    "# hist() 메서드는 히스토그램을 줍니다. \n",
    "df2.hist()\n",
    "plt.show()"
   ]
  },
  {
   "cell_type": "markdown",
   "metadata": {},
   "source": [
    "***"
   ]
  },
  {
   "cell_type": "markdown",
   "metadata": {},
   "source": [
    " 이번 실습에서는 선형 회귀 분석을 통해 다음에 대해 추정해보도록 하겠습니다.\n",
    "## <1>예제: 환자의 1년 후 질병 진행의 정도<br>\n",
    "## <2>연습 문제: 자동차의 가격<br>\n",
    "\n",
    "(Target : y)"
   ]
  },
  {
   "cell_type": "markdown",
   "metadata": {},
   "source": [
    "# Simple linear regression(단순 회귀분석)\n",
    "+ Target 변수에 영향을 미치는 독립변수의 수가 1개일 때를 말합니다."
   ]
  },
  {
   "cell_type": "markdown",
   "metadata": {},
   "source": [
    "<center>$Y = B_0 + B_1X_1$"
   ]
  },
  {
   "cell_type": "markdown",
   "metadata": {},
   "source": [
    "# 2. Scratch로 단순 회귀식 추정하기"
   ]
  },
  {
   "cell_type": "markdown",
   "metadata": {},
   "source": [
    "Data를 input 데이터(diabetes_X)와 output 데이터(Target, diabetes_Y)로 나눕니다.\n",
    "\n",
    "(독립변수와 종속변수를 각 1개씩 선택합니다.)"
   ]
  },
  {
   "cell_type": "code",
   "execution_count": 14,
   "metadata": {},
   "outputs": [],
   "source": [
    "# 컬럼이름으로 다중 컬럼 선택 (return DatFrame)\n",
    "## 하나의 컬럼을 선택할 경우 Series를 반환\n",
    "## 하나의 컬럼을 DataFrame으로 반환하기 위해서는 컬럼 리스트로 입력\n",
    "\n",
    "label = 'bmi'\n",
    "diabetes_X = df[[label]]\n",
    "diabetes_Y = df[['y']]"
   ]
  },
  {
   "cell_type": "code",
   "execution_count": 15,
   "metadata": {},
   "outputs": [
    {
     "name": "stdout",
     "output_type": "stream",
     "text": [
      "(442, 1)\n"
     ]
    },
    {
     "data": {
      "text/html": [
       "<div>\n",
       "<style scoped>\n",
       "    .dataframe tbody tr th:only-of-type {\n",
       "        vertical-align: middle;\n",
       "    }\n",
       "\n",
       "    .dataframe tbody tr th {\n",
       "        vertical-align: top;\n",
       "    }\n",
       "\n",
       "    .dataframe thead th {\n",
       "        text-align: right;\n",
       "    }\n",
       "</style>\n",
       "<table border=\"1\" class=\"dataframe\">\n",
       "  <thead>\n",
       "    <tr style=\"text-align: right;\">\n",
       "      <th></th>\n",
       "      <th>bmi</th>\n",
       "    </tr>\n",
       "  </thead>\n",
       "  <tbody>\n",
       "    <tr>\n",
       "      <th>0</th>\n",
       "      <td>0.582645</td>\n",
       "    </tr>\n",
       "    <tr>\n",
       "      <th>1</th>\n",
       "      <td>0.148760</td>\n",
       "    </tr>\n",
       "    <tr>\n",
       "      <th>2</th>\n",
       "      <td>0.516529</td>\n",
       "    </tr>\n",
       "    <tr>\n",
       "      <th>3</th>\n",
       "      <td>0.301653</td>\n",
       "    </tr>\n",
       "    <tr>\n",
       "      <th>4</th>\n",
       "      <td>0.206612</td>\n",
       "    </tr>\n",
       "  </tbody>\n",
       "</table>\n",
       "</div>"
      ],
      "text/plain": [
       "        bmi\n",
       "0  0.582645\n",
       "1  0.148760\n",
       "2  0.516529\n",
       "3  0.301653\n",
       "4  0.206612"
      ]
     },
     "execution_count": 15,
     "metadata": {},
     "output_type": "execute_result"
    }
   ],
   "source": [
    "print(diabetes_X.shape)\n",
    "diabetes_X.head()"
   ]
  },
  {
   "cell_type": "code",
   "execution_count": 16,
   "metadata": {},
   "outputs": [
    {
     "data": {
      "text/html": [
       "<div>\n",
       "<style scoped>\n",
       "    .dataframe tbody tr th:only-of-type {\n",
       "        vertical-align: middle;\n",
       "    }\n",
       "\n",
       "    .dataframe tbody tr th {\n",
       "        vertical-align: top;\n",
       "    }\n",
       "\n",
       "    .dataframe thead th {\n",
       "        text-align: right;\n",
       "    }\n",
       "</style>\n",
       "<table border=\"1\" class=\"dataframe\">\n",
       "  <thead>\n",
       "    <tr style=\"text-align: right;\">\n",
       "      <th></th>\n",
       "      <th>y</th>\n",
       "    </tr>\n",
       "  </thead>\n",
       "  <tbody>\n",
       "    <tr>\n",
       "      <th>0</th>\n",
       "      <td>0.392523</td>\n",
       "    </tr>\n",
       "    <tr>\n",
       "      <th>1</th>\n",
       "      <td>0.155763</td>\n",
       "    </tr>\n",
       "    <tr>\n",
       "      <th>2</th>\n",
       "      <td>0.361371</td>\n",
       "    </tr>\n",
       "    <tr>\n",
       "      <th>3</th>\n",
       "      <td>0.563863</td>\n",
       "    </tr>\n",
       "    <tr>\n",
       "      <th>4</th>\n",
       "      <td>0.342679</td>\n",
       "    </tr>\n",
       "  </tbody>\n",
       "</table>\n",
       "</div>"
      ],
      "text/plain": [
       "          y\n",
       "0  0.392523\n",
       "1  0.155763\n",
       "2  0.361371\n",
       "3  0.563863\n",
       "4  0.342679"
      ]
     },
     "execution_count": 16,
     "metadata": {},
     "output_type": "execute_result"
    }
   ],
   "source": [
    "diabetes_Y.head()"
   ]
  },
  {
   "cell_type": "markdown",
   "metadata": {},
   "source": [
    "### 1) 데이터 분포 그래프로 살펴보기"
   ]
  },
  {
   "cell_type": "code",
   "execution_count": 17,
   "metadata": {
    "scrolled": true
   },
   "outputs": [
    {
     "data": {
      "image/png": "[encoded data removed]",
      "text/plain": [
       "<Figure size 432x288 with 1 Axes>"
      ]
     },
     "metadata": {
      "needs_background": "light"
     },
     "output_type": "display_data"
    }
   ],
   "source": [
    "#plot\n",
    "plt.scatter(diabetes_X, diabetes_Y, color='blue', label='Data Point(patients)')\n",
    "\n",
    "# x축 label\n",
    "plt.xlabel(label)\n",
    "\n",
    "# y축 label\n",
    "plt.ylabel('y')\n",
    "plt.legend()# 범례\n",
    "plt.show()"
   ]
  },
  {
   "cell_type": "markdown",
   "metadata": {},
   "source": [
    "### 2) 회귀식 추정하기"
   ]
  },
  {
   "cell_type": "markdown",
   "metadata": {},
   "source": [
    "## \\* Least squares method(최소제곱법)"
   ]
  },
  {
   "cell_type": "markdown",
   "metadata": {},
   "source": [
    "### minRSS \n",
    "### = min$\\sum_{i=1}^n \\ {e_i^2}$\n",
    "### = min$\\sum_{i=1}^n ({y_i - \\hat{y_i}})^2$\n",
    "### = min$\\sum_{i=1}^n ({y_i - \\hat{\\beta_0} - \\hat{\\beta_1}x_i})^2$"
   ]
  },
  {
   "cell_type": "markdown",
   "metadata": {},
   "source": [
    "### \\- $ \\hat{\\beta_0}$ \\& $\\hat{\\beta_1}$는 어떻게 찾는가?"
   ]
  },
  {
   "cell_type": "markdown",
   "metadata": {},
   "source": [
    "Convex function 이므로 미분을 통해 최소값을 계산합니다.\n",
    "\n",
    "### \\< Explicit solution \\>\n",
    "### $\\hat{\\beta_1} = \\frac{\\sum_{i=1}^n {(X_i-\\bar{X_i})*(Y_i-\\bar{Y})}}{\\sum_{i=1}^n ({X_i-\\bar{X_i}})^2}$\n",
    "\n",
    "### $\\hat{\\beta_0} = \\bar{Y} - \\hat{\\beta_1}*\\beta_1 \\bar{X}$"
   ]
  },
  {
   "cell_type": "code",
   "execution_count": 18,
   "metadata": {
    "scrolled": true
   },
   "outputs": [
    {
     "name": "stdout",
     "output_type": "stream",
     "text": [
      "b1: [0.77146948]\n",
      "bo: [0.1290434]\n",
      "y= 0.12904339907695844 + 0.7714694766783862  * x\n"
     ]
    }
   ],
   "source": [
    "# inputs 과 outputs 변수(X, Y) 초기화\n",
    "X = diabetes_X.values.tolist()\n",
    "Y = diabetes_Y.values.tolist()\n",
    "\n",
    "# inputs의 평균\n",
    "x_mean = np.mean(X)\n",
    "\n",
    "# outputs의 평균\n",
    "y_mean = np.mean(Y)\n",
    "\n",
    "# input의 총 수\n",
    "n = len(X)\n",
    "\n",
    "# 모델 파라미터 b1, b0 계산\n",
    "numerator = 0 #분자\n",
    "denominator = 0 #분모\n",
    "for i in range(n):\n",
    "    numerator += (X[i] - x_mean) * (Y[i] - y_mean)\n",
    "    denominator += (X[i] - x_mean) ** 2 # ** : 제곱\n",
    "    \n",
    "b1 = numerator / denominator\n",
    "b0 = y_mean - (b1 * x_mean)\n",
    "\n",
    "# 모델 파라미터 출력\n",
    "print('b1:',b1)\n",
    "print('bo:',b0)\n",
    "print('y=',b0[0],'+',b1[0],' * x')"
   ]
  },
  {
   "cell_type": "markdown",
   "metadata": {},
   "source": [
    "### 3) 결과 살펴보기"
   ]
  },
  {
   "cell_type": "code",
   "execution_count": 19,
   "metadata": {},
   "outputs": [
    {
     "data": {
      "image/png": "[encoded data removed]",
      "text/plain": [
       "<Figure size 432x288 with 1 Axes>"
      ]
     },
     "metadata": {
      "needs_background": "light"
     },
     "output_type": "display_data"
    }
   ],
   "source": [
    "# plot\n",
    "\n",
    "x_max = np.max(X)\n",
    "x_min = np.min(X)\n",
    "\n",
    "# 회귀식으로 데이터의 결과 추정위한 샘플 데이터(test)\n",
    "x = np.linspace(x_min, x_max, 1000)\n",
    "\n",
    "# 회귀식으로 데이터의 결과 추정\n",
    "y = b0 + b1 * x\n",
    "\n",
    "# 회귀 결과 plot\n",
    "plt.plot(x, y, color='red', label='Linear Regression')\n",
    "\n",
    "# 데이터 좌표 plot\n",
    "plt.scatter(X, Y, color='black', label='Data Point(patients)')\n",
    "\n",
    "# x축 label\n",
    "plt.xlabel(label)\n",
    "\n",
    "# y축 label\n",
    "plt.ylabel('y')\n",
    "plt.legend()\n",
    "plt.show()"
   ]
  },
  {
   "cell_type": "markdown",
   "metadata": {},
   "source": [
    "### 4) 평가하기"
   ]
  },
  {
   "cell_type": "markdown",
   "metadata": {},
   "source": [
    "### \\- 모델이 주어진 데이터에 얼마나 적합한가?"
   ]
  },
  {
   "cell_type": "markdown",
   "metadata": {},
   "source": [
    "\\* Root Mean Squared Error(RMSE)\n",
    "\n",
    "\n",
    "\n",
    "+ 각 점들과 직선과의 거리 제곱 평균의 제곱근\n",
    "+ ### $RMSE = \\sqrt{\\sum_{i=1}^m \\frac{1}{m}{(\\hat{y_i}-y_i)^2}}$\n",
    "\n",
    "Mean Squared Error(MSE): 추정값$(\\hat{y_i})$과 실제값$(y_i)$의 차이의 제곱의 평균\n",
    "+ 분산( 평균과 실제값의 차이의 제곱의 평균 )과 유사"
   ]
  },
  {
   "cell_type": "code",
   "execution_count": 20,
   "metadata": {},
   "outputs": [
    {
     "name": "stdout",
     "output_type": "stream",
     "text": [
      "[0.19431005]\n"
     ]
    }
   ],
   "source": [
    "# input 총 수\n",
    "n = len(X)\n",
    "\n",
    "rmse = 0\n",
    "for i in range(n):\n",
    "    y_pred=  b0 + b1* X[i]\n",
    "    rmse += (Y[i] - y_pred) ** 2\n",
    "    \n",
    "rmse = np.sqrt(rmse/n)\n",
    "print(rmse)"
   ]
  },
  {
   "cell_type": "markdown",
   "metadata": {},
   "source": [
    "\\* $R^2$ scrore (결정 계수)\n",
    "\n",
    "+ 종속 변수의 총 변화량 중 모델(추정된 회귀식)로 설명 가능한 부분(변화량)의 비율을 의미합니다.\n",
    "\n",
    "![R2](./Images/R2.png)\n",
    "\n",
    "\n",
    "SST : sum of squares total(모든 개체가 가지는 총 변화량)\n",
    "\n",
    "SSR : sum of squares residuals (총 변화량 중 회귀식으로 설명 가능한 변화량)\n",
    "\n",
    "SSE : sum of squares error(총 변화량 중 회귀식으로는 설명 불가능한 변화량)\n",
    "\n",
    "(즉, SST = SSR + SSE)\n",
    "\n",
    "+ ### $R^2 = \\frac{SSR}{SST} = \\frac{\\sum(\\hat{y_i}-\\bar{y})^2}{\\sum(y_i-\\bar{y})^2}$\n",
    "\n",
    "  ###  $= 1 - \\frac{SSE}{SST} = 1 - \\frac{\\sum({y_i}-\\hat{y})^2}{\\sum(y_i-\\bar{y})^2}$\n"
   ]
  },
  {
   "cell_type": "markdown",
   "metadata": {},
   "source": [
    "$0<R^2<1$ : 1에 가까울수록 높은 설명력을 보인다고 할 수 있습니다.\n",
    "\n",
    "$R^2 = 1$\n",
    "\n",
    ":the regression model fits perfectly\n",
    "\n",
    "$R^2 = 0$\n",
    "\n",
    ":the regression model does not explain anything about the relationship between X and Y"
   ]
  },
  {
   "cell_type": "markdown",
   "metadata": {},
   "source": [
    "![RegrR^2](./Images/RegrR%5E2.png)"
   ]
  },
  {
   "cell_type": "code",
   "execution_count": 21,
   "metadata": {},
   "outputs": [
    {
     "name": "stdout",
     "output_type": "stream",
     "text": [
      "[0.34392376]\n"
     ]
    }
   ],
   "source": [
    "sumofsquares = 0\n",
    "sumofresiduals = 0\n",
    "# input의 총 수\n",
    "n = len(X)\n",
    "\n",
    "for i in range(n) :\n",
    "    y_pred = b0 + b1 * X[i]\n",
    "    sumofsquares += (Y[i] - y_mean) ** 2\n",
    "    sumofresiduals += (Y[i] - y_pred) **2\n",
    "    \n",
    "score  = 1 - (sumofresiduals/sumofsquares)\n",
    "print(score)"
   ]
  },
  {
   "cell_type": "markdown",
   "metadata": {},
   "source": [
    "+ 계산된 $R^2$값이 약 0.343 이므로 모델은 어느 정도 데이터에 적합하지만 다른 중요한 요소가 존재한다는 것을 의미합니다."
   ]
  },
  {
   "cell_type": "markdown",
   "metadata": {},
   "source": [
    "# 3. Scikit-learn으로 단순 회귀식 추정하기"
   ]
  },
  {
   "cell_type": "markdown",
   "metadata": {},
   "source": [
    "## <1> 예제"
   ]
  },
  {
   "cell_type": "markdown",
   "metadata": {},
   "source": [
    "### 2) 회귀식 추정하기\n",
    "\n",
    "+ 앞서 언급한 모델 파라미터 추정을 scikit-learn에서는 estimator(추정기)라는 객체를 기반으로 합니다. 추정 자체는 fit() 메서드에 의해 수행됩니다."
   ]
  },
  {
   "cell_type": "markdown",
   "metadata": {},
   "source": [
    "다음은 선형 회귀를 위한 LinearRegression 추정기 입니다."
   ]
  },
  {
   "cell_type": "code",
   "execution_count": 22,
   "metadata": {},
   "outputs": [],
   "source": [
    "# 선형회귀 추정기 생성\n",
    "lr = linear_model.LinearRegression() "
   ]
  },
  {
   "cell_type": "markdown",
   "metadata": {},
   "source": [
    "fit() 메서드를 통해 모델 파라미터를 추정합니다."
   ]
  },
  {
   "cell_type": "code",
   "execution_count": 23,
   "metadata": {
    "scrolled": false
   },
   "outputs": [
    {
     "data": {
      "text/plain": [
       "LinearRegression(copy_X=True, fit_intercept=True, n_jobs=None, normalize=False)"
      ]
     },
     "execution_count": 23,
     "metadata": {},
     "output_type": "execute_result"
    }
   ],
   "source": [
    "# input 대해 선형 회귀(모델 파라미터 추정)\n",
    "lr.fit(diabetes_X, diabetes_Y)"
   ]
  },
  {
   "cell_type": "code",
   "execution_count": 24,
   "metadata": {},
   "outputs": [
    {
     "name": "stdout",
     "output_type": "stream",
     "text": [
      "[[0.77146948]]\n",
      "[0.1290434]\n"
     ]
    }
   ],
   "source": [
    "print(lr.coef_)\n",
    "print(lr.intercept_)"
   ]
  },
  {
   "cell_type": "code",
   "execution_count": 25,
   "metadata": {
    "scrolled": false
   },
   "outputs": [
    {
     "name": "stdout",
     "output_type": "stream",
     "text": [
      "Model parameters: \n",
      "\n",
      "b1: 0.7714694766783854\n",
      "b0: 0.12904339907695872\n",
      "\n",
      "y= 0.12904339907695872 + 0.7714694766783854 * x\n"
     ]
    }
   ],
   "source": [
    "# 모델 파라미터 출력\n",
    "print('Model parameters: \\n')\n",
    "print('b1:', lr.coef_[0,0])\n",
    "print('b0:', lr.intercept_[0])\n",
    "print()\n",
    "print('y=',lr.intercept_[0],'+',lr.coef_[0,0],'* x')"
   ]
  },
  {
   "cell_type": "markdown",
   "metadata": {},
   "source": [
    "계산된 모델 파라미터를 적용하여 데이터 세트에 대해 추정값을 반환합니다."
   ]
  },
  {
   "cell_type": "markdown",
   "metadata": {},
   "source": [
    "### 3) 결과 살펴보기"
   ]
  },
  {
   "cell_type": "code",
   "execution_count": 26,
   "metadata": {},
   "outputs": [],
   "source": [
    "# 회귀식으로 데이터의 결과 추정\n",
    "diabetes_y_pred = lr.predict(diabetes_X)"
   ]
  },
  {
   "cell_type": "code",
   "execution_count": 27,
   "metadata": {},
   "outputs": [
    {
     "data": {
      "text/plain": [
       "numpy.ndarray"
      ]
     },
     "execution_count": 27,
     "metadata": {},
     "output_type": "execute_result"
    }
   ],
   "source": [
    "type(diabetes_y_pred)"
   ]
  },
  {
   "cell_type": "code",
   "execution_count": 28,
   "metadata": {},
   "outputs": [
    {
     "data": {
      "image/png": "[encoded data removed]",
      "text/plain": [
       "<Figure size 432x288 with 1 Axes>"
      ]
     },
     "metadata": {
      "needs_background": "light"
     },
     "output_type": "display_data"
    }
   ],
   "source": [
    "# Plot\n",
    "# 회귀식으로 데이터의 결과 추정위한 샘플 데이터(test)\n",
    "X = np.array(diabetes_X.values.tolist())\n",
    "\n",
    "# 데이터 좌표 plot\n",
    "plt.scatter(diabetes_X, diabetes_Y,  color='black', label='Data Point(patients)')\n",
    "\n",
    "# 회귀 결과 plot\n",
    "plt.plot(X, diabetes_y_pred, color='blue', linewidth=3, label='Linear Regression')\n",
    "\n",
    "# x축 label\n",
    "plt.xlabel(label)\n",
    "\n",
    "#y축 label\n",
    "plt.ylabel('y')\n",
    "plt.legend()\n",
    "plt.show()"
   ]
  },
  {
   "cell_type": "markdown",
   "metadata": {},
   "source": [
    "### 4) 평가하기"
   ]
  },
  {
   "cell_type": "code",
   "execution_count": 29,
   "metadata": {},
   "outputs": [
    {
     "name": "stdout",
     "output_type": "stream",
     "text": [
      "R2 score: 0.34\n"
     ]
    }
   ],
   "source": [
    "# R2 scroe\n",
    "print('R2 score: %.2f' % r2_score(diabetes_Y, diabetes_y_pred))"
   ]
  },
  {
   "cell_type": "markdown",
   "metadata": {},
   "source": [
    "***"
   ]
  },
  {
   "cell_type": "markdown",
   "metadata": {},
   "source": [
    "## <2> 연습문제"
   ]
  },
  {
   "cell_type": "markdown",
   "metadata": {},
   "source": [
    "Data를 input 데이터와 output 데이터(Target)로 나눕니다.\n",
    "\n",
    "(독립변수와 종속변수를 각 1개씩 선택합니다.)"
   ]
  },
  {
   "cell_type": "code",
   "execution_count": 30,
   "metadata": {},
   "outputs": [
    {
     "name": "stdout",
     "output_type": "stream",
     "text": [
      "(1436, 1)\n"
     ]
    },
    {
     "data": {
      "text/html": [
       "<div>\n",
       "<style scoped>\n",
       "    .dataframe tbody tr th:only-of-type {\n",
       "        vertical-align: middle;\n",
       "    }\n",
       "\n",
       "    .dataframe tbody tr th {\n",
       "        vertical-align: top;\n",
       "    }\n",
       "\n",
       "    .dataframe thead th {\n",
       "        text-align: right;\n",
       "    }\n",
       "</style>\n",
       "<table border=\"1\" class=\"dataframe\">\n",
       "  <thead>\n",
       "    <tr style=\"text-align: right;\">\n",
       "      <th></th>\n",
       "      <th>Age</th>\n",
       "    </tr>\n",
       "  </thead>\n",
       "  <tbody>\n",
       "    <tr>\n",
       "      <th>0</th>\n",
       "      <td>0.278481</td>\n",
       "    </tr>\n",
       "    <tr>\n",
       "      <th>1</th>\n",
       "      <td>0.278481</td>\n",
       "    </tr>\n",
       "    <tr>\n",
       "      <th>2</th>\n",
       "      <td>0.291139</td>\n",
       "    </tr>\n",
       "    <tr>\n",
       "      <th>3</th>\n",
       "      <td>0.316456</td>\n",
       "    </tr>\n",
       "    <tr>\n",
       "      <th>4</th>\n",
       "      <td>0.367089</td>\n",
       "    </tr>\n",
       "  </tbody>\n",
       "</table>\n",
       "</div>"
      ],
      "text/plain": [
       "        Age\n",
       "0  0.278481\n",
       "1  0.278481\n",
       "2  0.291139\n",
       "3  0.316456\n",
       "4  0.367089"
      ]
     },
     "execution_count": 30,
     "metadata": {},
     "output_type": "execute_result"
    }
   ],
   "source": [
    "# 컬럼이름으로 다중 컬럼 선택 (return DatFrame)\n",
    "## 하나의 컬럼을 선택할 경우 Series를 반환\n",
    "## 하나의 컬럼을 DataFrame으로 반환하기 위해서는 컬럼 리스트로 입력\n",
    "\n",
    "label_test = 'Age'\n",
    "\n",
    "dfx = df2[[label_test]]\n",
    "dfy = df2[['Price']]\n",
    "\n",
    "print(dfx.shape)\n",
    "dfx.head()"
   ]
  },
  {
   "cell_type": "code",
   "execution_count": 31,
   "metadata": {},
   "outputs": [
    {
     "data": {
      "text/html": [
       "<div>\n",
       "<style scoped>\n",
       "    .dataframe tbody tr th:only-of-type {\n",
       "        vertical-align: middle;\n",
       "    }\n",
       "\n",
       "    .dataframe tbody tr th {\n",
       "        vertical-align: top;\n",
       "    }\n",
       "\n",
       "    .dataframe thead th {\n",
       "        text-align: right;\n",
       "    }\n",
       "</style>\n",
       "<table border=\"1\" class=\"dataframe\">\n",
       "  <thead>\n",
       "    <tr style=\"text-align: right;\">\n",
       "      <th></th>\n",
       "      <th>Age</th>\n",
       "    </tr>\n",
       "  </thead>\n",
       "  <tbody>\n",
       "    <tr>\n",
       "      <th>0</th>\n",
       "      <td>0.278481</td>\n",
       "    </tr>\n",
       "    <tr>\n",
       "      <th>1</th>\n",
       "      <td>0.278481</td>\n",
       "    </tr>\n",
       "    <tr>\n",
       "      <th>2</th>\n",
       "      <td>0.291139</td>\n",
       "    </tr>\n",
       "    <tr>\n",
       "      <th>3</th>\n",
       "      <td>0.316456</td>\n",
       "    </tr>\n",
       "    <tr>\n",
       "      <th>4</th>\n",
       "      <td>0.367089</td>\n",
       "    </tr>\n",
       "  </tbody>\n",
       "</table>\n",
       "</div>"
      ],
      "text/plain": [
       "        Age\n",
       "0  0.278481\n",
       "1  0.278481\n",
       "2  0.291139\n",
       "3  0.316456\n",
       "4  0.367089"
      ]
     },
     "execution_count": 31,
     "metadata": {},
     "output_type": "execute_result"
    }
   ],
   "source": [
    "dfx.head()"
   ]
  },
  {
   "cell_type": "code",
   "execution_count": 32,
   "metadata": {
    "scrolled": true
   },
   "outputs": [
    {
     "data": {
      "text/html": [
       "<div>\n",
       "<style scoped>\n",
       "    .dataframe tbody tr th:only-of-type {\n",
       "        vertical-align: middle;\n",
       "    }\n",
       "\n",
       "    .dataframe tbody tr th {\n",
       "        vertical-align: top;\n",
       "    }\n",
       "\n",
       "    .dataframe thead th {\n",
       "        text-align: right;\n",
       "    }\n",
       "</style>\n",
       "<table border=\"1\" class=\"dataframe\">\n",
       "  <thead>\n",
       "    <tr style=\"text-align: right;\">\n",
       "      <th></th>\n",
       "      <th>Price</th>\n",
       "    </tr>\n",
       "  </thead>\n",
       "  <tbody>\n",
       "    <tr>\n",
       "      <th>0</th>\n",
       "      <td>0.325044</td>\n",
       "    </tr>\n",
       "    <tr>\n",
       "      <th>1</th>\n",
       "      <td>0.333925</td>\n",
       "    </tr>\n",
       "    <tr>\n",
       "      <th>2</th>\n",
       "      <td>0.341030</td>\n",
       "    </tr>\n",
       "    <tr>\n",
       "      <th>3</th>\n",
       "      <td>0.376554</td>\n",
       "    </tr>\n",
       "    <tr>\n",
       "      <th>4</th>\n",
       "      <td>0.333925</td>\n",
       "    </tr>\n",
       "  </tbody>\n",
       "</table>\n",
       "</div>"
      ],
      "text/plain": [
       "      Price\n",
       "0  0.325044\n",
       "1  0.333925\n",
       "2  0.341030\n",
       "3  0.376554\n",
       "4  0.333925"
      ]
     },
     "execution_count": 32,
     "metadata": {},
     "output_type": "execute_result"
    }
   ],
   "source": [
    "dfy.head()"
   ]
  },
  {
   "cell_type": "markdown",
   "metadata": {},
   "source": [
    "### 1) 데이터 분포 그래프로 살펴보기\n",
    "\n",
    "데이터 점을 산점도 그래프로 나타냅니다."
   ]
  },
  {
   "cell_type": "code",
   "execution_count": 33,
   "metadata": {},
   "outputs": [
    {
     "data": {
      "image/png": "[encoded data removed]",
      "text/plain": [
       "<Figure size 432x288 with 1 Axes>"
      ]
     },
     "metadata": {
      "needs_background": "light"
     },
     "output_type": "display_data"
    }
   ],
   "source": [
    "#plot\n",
    "plt.scatter(dfx, dfy, color='blue', label='Data Point(Car)')\n",
    "\n",
    "# x축 label\n",
    "plt.xlabel(label_test)\n",
    "\n",
    "# y축 label\n",
    "plt.ylabel('Price')\n",
    "plt.legend()# 범례\n",
    "plt.show()"
   ]
  },
  {
   "cell_type": "markdown",
   "metadata": {},
   "source": [
    "### 2) 회귀식 추정하기(by sklearn)\n",
    "\n",
    "모델 파라미터를 계산하여 출력하고, 데이터에 대해서 회귀 결과를 얻습니다."
   ]
  },
  {
   "cell_type": "code",
   "execution_count": 34,
   "metadata": {},
   "outputs": [
    {
     "name": "stdout",
     "output_type": "stream",
     "text": [
      "Model parameters: \n",
      "\n",
      "b1: -0.4797070414405784\n",
      "b0: 0.5603241585865362\n",
      "\n",
      "y= 0.5603241585865362 + -0.4797070414405784 * x\n"
     ]
    }
   ],
   "source": [
    "# 선형회귀 추정기 생성\n",
    "lrt1 = linear_model.LinearRegression()\n",
    "\n",
    "# input 대해 선형 회귀(모델 파라미터 추정)\n",
    "lrt1.fit(dfx, dfy)\n",
    "\n",
    "# 모델 파라미터 출력\n",
    "print('Model parameters: \\n')\n",
    "print('b1:', lrt1.coef_[0,0])\n",
    "print('b0:', lrt1.intercept_[0])\n",
    "print()\n",
    "print('y=',lrt1.intercept_[0],'+',lrt1.coef_[0,0],'* x')\n",
    "\n",
    "# 회귀식으로 데이터의 결과 추정\n",
    "dfy_pred = lrt1.predict(dfx)"
   ]
  },
  {
   "cell_type": "markdown",
   "metadata": {},
   "source": [
    "### 3) 결과 살펴보기\n",
    "결과를 그래프로 나타냅니다."
   ]
  },
  {
   "cell_type": "code",
   "execution_count": 35,
   "metadata": {},
   "outputs": [
    {
     "data": {
      "image/png": "[encoded data removed]",
      "text/plain": [
       "<Figure size 432x288 with 1 Axes>"
      ]
     },
     "metadata": {
      "needs_background": "light"
     },
     "output_type": "display_data"
    }
   ],
   "source": [
    "# Plot\n",
    "# 회귀식으로 데이터의 결과 추정위한 샘플 데이터(test)\n",
    "X =np.array(dfx.values.tolist())\n",
    "\n",
    "# 데이터 좌표 plot\n",
    "plt.scatter(dfx, dfy,  color='black', label='Data Point(Car)')\n",
    "\n",
    "# 회귀 결과 plot\n",
    "plt.plot(X, dfy_pred, color='blue', linewidth=3, label='Linear Regression')\n",
    "\n",
    "# x축 label\n",
    "plt.xlabel(label_test)\n",
    "\n",
    "#y축 label\n",
    "plt.ylabel('Price')\n",
    "plt.legend()\n",
    "plt.show()"
   ]
  },
  {
   "cell_type": "markdown",
   "metadata": {},
   "source": [
    "### 4) 평가하기\n",
    "R2를 이용하여 테스트 결과를 평가합니다."
   ]
  },
  {
   "cell_type": "code",
   "execution_count": 36,
   "metadata": {},
   "outputs": [
    {
     "name": "stdout",
     "output_type": "stream",
     "text": [
      "R2 score: 0.77\n"
     ]
    }
   ],
   "source": [
    "# R2 scroe\n",
    "print('R2 score: %.2f' % r2_score(dfy, dfy_pred))"
   ]
  },
  {
   "cell_type": "markdown",
   "metadata": {},
   "source": [
    "***"
   ]
  },
  {
   "cell_type": "markdown",
   "metadata": {},
   "source": [
    "# Multiple regression (다중 회귀분석)"
   ]
  },
  {
   "cell_type": "markdown",
   "metadata": {},
   "source": [
    "+ Target 변수에 영향을 미치는 독립변수의 수가 d개일 때를 말합니다."
   ]
  },
  {
   "cell_type": "markdown",
   "metadata": {},
   "source": [
    "<center>$Y = B_0 + B_1X_1 + B_2X_2+ \\cdot\\cdot\\cdot B_dX_d$"
   ]
  },
  {
   "cell_type": "markdown",
   "metadata": {},
   "source": [
    "# 3. Scikit-learn으로 다중 회귀식 추정하기"
   ]
  },
  {
   "cell_type": "markdown",
   "metadata": {},
   "source": [
    "## <1> 예제"
   ]
  },
  {
   "cell_type": "markdown",
   "metadata": {},
   "source": [
    "Data를 input 데이터(diabetes_X_multi)와 output 데이터(Target, diabetes_Y_multi)로 나눕니다.\n",
    "\n",
    "(독립변수 2개와 종속변수 1개를 선택합니다.)"
   ]
  },
  {
   "cell_type": "code",
   "execution_count": 37,
   "metadata": {},
   "outputs": [],
   "source": [
    "# 컬럼이름으로 다중 컬럼 선택 (return DatFrame)\n",
    "## 하나의 컬럼을 선택할 경우 Series를 반환\n",
    "## 하나의 컬럼을 DataFrame으로 반환하기 위해서는 컬럼 리스트로 입력\n",
    "\n",
    "label2 = ['bmi', 'tch']\n",
    "diabetes_X_multi = df[label2]\n",
    "diabetes_Y_multi = df[['y']]"
   ]
  },
  {
   "cell_type": "markdown",
   "metadata": {},
   "source": [
    "### 1) 데이터 분포 그래프로 살펴보기\n"
   ]
  },
  {
   "cell_type": "code",
   "execution_count": 38,
   "metadata": {
    "scrolled": true
   },
   "outputs": [
    {
     "data": {
      "image/png": "[encoded data removed]",
      "text/plain": [
       "<Figure size 432x288 with 1 Axes>"
      ]
     },
     "metadata": {
      "needs_background": "light"
     },
     "output_type": "display_data"
    }
   ],
   "source": [
    "# Plot\n",
    "\n",
    "# x,y축 값 설정 (독립변수)\n",
    "bmi = diabetes_X_multi[['bmi']]\n",
    "tch = diabetes_X_multi[['tch']]\n",
    "\n",
    "fig = plt.figure()\n",
    "ax = Axes3D(fig)\n",
    "\n",
    "# 산점도 그래프\n",
    "ax.scatter(bmi, tch, diabetes_Y_multi, color='red')\n",
    "\n",
    "# x축 label\n",
    "ax.set_xlabel('bmi')\n",
    "\n",
    "# y축 label\n",
    "ax.set_ylabel('tch')\n",
    "\n",
    "# z축 label\n",
    "ax.set_zlabel('y')\n",
    "plt.show()"
   ]
  },
  {
   "cell_type": "markdown",
   "metadata": {},
   "source": [
    "### 2) 회귀식 추정하기"
   ]
  },
  {
   "cell_type": "markdown",
   "metadata": {},
   "source": [
    " 다음은 선형 회귀를 위한 LinearRegression 추정기 입니다."
   ]
  },
  {
   "cell_type": "code",
   "execution_count": 39,
   "metadata": {},
   "outputs": [],
   "source": [
    "# 선형회귀 추정기 생성\n",
    "lr2 = linear_model.LinearRegression()"
   ]
  },
  {
   "cell_type": "markdown",
   "metadata": {},
   "source": [
    "fit() 메서드를 통해 모델 파라미터를 추정합니다."
   ]
  },
  {
   "cell_type": "code",
   "execution_count": 40,
   "metadata": {},
   "outputs": [
    {
     "data": {
      "text/plain": [
       "LinearRegression(copy_X=True, fit_intercept=True, n_jobs=None, normalize=False)"
      ]
     },
     "execution_count": 40,
     "metadata": {},
     "output_type": "execute_result"
    }
   ],
   "source": [
    "# input 대해 선형 회귀(모델 파라미터 추정)\n",
    "lr2.fit(diabetes_X_multi, diabetes_Y_multi)"
   ]
  },
  {
   "cell_type": "code",
   "execution_count": 41,
   "metadata": {},
   "outputs": [
    {
     "name": "stdout",
     "output_type": "stream",
     "text": [
      "Model parameters: \n",
      "\n",
      "b2: 0.6481322714794128\n",
      "b1: 0.2989675524781938\n",
      "b0: 0.08443406979018608\n",
      "\n",
      "y= 0.08443406979018608 + 0.2989675524781938 *x1 +  0.6481322714794128 *x2\n"
     ]
    }
   ],
   "source": [
    "# 모델 파라미터 출력\n",
    "print('Model parameters: \\n')\n",
    "print('b2:', lr2.coef_[0,0])\n",
    "print('b1:', lr2.coef_[0,1])\n",
    "print('b0:', lr2.intercept_[0])\n",
    "print()\n",
    "print('y=',lr2.intercept_[0],'+',lr2.coef_[0,1],'*x1 + ', lr2.coef_[0,0], '*x2')"
   ]
  },
  {
   "cell_type": "markdown",
   "metadata": {},
   "source": [
    "계산된 모델 파라미터를 적용하여 데이터 세트에 대해 추정값을 반환합니다."
   ]
  },
  {
   "cell_type": "code",
   "execution_count": 42,
   "metadata": {},
   "outputs": [],
   "source": [
    "diabetes_y_pred_multi = lr2.predict(diabetes_X_multi)"
   ]
  },
  {
   "cell_type": "markdown",
   "metadata": {},
   "source": [
    "### 3) 결과 살펴보기"
   ]
  },
  {
   "cell_type": "code",
   "execution_count": 43,
   "metadata": {},
   "outputs": [
    {
     "data": {
      "text/plain": [
       "<mpl_toolkits.mplot3d.art3d.Path3DCollection at 0x7f974c35de80>"
      ]
     },
     "execution_count": 43,
     "metadata": {},
     "output_type": "execute_result"
    },
    {
     "data": {
      "image/png": "[encoded data removed]",
      "text/plain": [
       "<Figure size 432x288 with 1 Axes>"
      ]
     },
     "metadata": {
      "needs_background": "light"
     },
     "output_type": "display_data"
    }
   ],
   "source": [
    "# Plot\n",
    "\n",
    "# x,y축 값 설정 (독립변수)\n",
    "bmi = diabetes_X_multi[['bmi']]\n",
    "tch = diabetes_X_multi[['tch']]\n",
    "\n",
    "diabetes_y_pred_multi = lr2.predict(diabetes_X_multi)\n",
    "\n",
    "# matplotlib 3d plot\n",
    "fig = plt.figure()\n",
    "ax = Axes3D(fig, azim= -100, elev=50) #azim : 방위각도, azim : 고도 \n",
    "ax.scatter(bmi, tch, diabetes_Y_multi, color='red')\n"
   ]
  },
  {
   "cell_type": "code",
   "execution_count": 44,
   "metadata": {},
   "outputs": [
    {
     "data": {
      "image/png": "[encoded data removed]",
      "text/plain": [
       "<Figure size 432x288 with 1 Axes>"
      ]
     },
     "metadata": {
      "needs_background": "light"
     },
     "output_type": "display_data"
    }
   ],
   "source": [
    "# Plot\n",
    "\n",
    "# 회귀식으로 데이터의 결과 추정위한 샘플 데이터(test)\n",
    "bmi = diabetes_X_multi[['bmi']]\n",
    "tch = diabetes_X_multi[['tch']]\n",
    "xx1, xx2 = np.meshgrid(np.linspace(diabetes_X_multi.bmi.min(),\n",
    "                                   diabetes_X_multi.bmi.max(), 100), \n",
    "                       np.linspace(diabetes_X_multi.tch.min(), \n",
    "                                   diabetes_X_multi.tch.max(), 100))\n",
    "# matplotlib 3d plot\n",
    "fig = plt.figure()\n",
    "ax = Axes3D(fig, azim= -100, elev=50) #azim : 방위각도, azim : 고도 \n",
    "ax.scatter(bmi, tch, diabetes_Y_multi, color='red')\n",
    "\n",
    "\n",
    "# 회귀식으로 결과(hyperplane) 추정\n",
    "Z =lr2.intercept_[0] +lr2.coef_[0,0] * xx1 + lr2.coef_[0,1] * xx2\n",
    "\n",
    "# plot hyperplane\n",
    "ax.plot_surface(xx1,xx2,Z)\n",
    "ax.set_xlabel('bmi')\n",
    "ax.set_ylabel('tch')\n",
    "ax.set_zlabel('y')\n",
    "\n",
    "plt.show()"
   ]
  },
  {
   "cell_type": "markdown",
   "metadata": {},
   "source": [
    "### 4) 평가하기"
   ]
  },
  {
   "cell_type": "markdown",
   "metadata": {},
   "source": [
    "+ 총변화량(SST) 중에서 회귀직선에 의해 설명되는 변화량(SSR)의 비율은 독립변수의 수가 증가하면 따라서 커지는 증가함수 형태입니다.(독립변수의 개수에 의존)\n",
    "\n",
    "\\* $R_{adj}^2$ scrore (수정된 결정 계수)\n",
    "\n",
    "+ 즉, 일반 $R^2$는 활용된 독립변수의 수에 민감하게 작용하므로, 독립변수의 수만큼 감소 시켜주는 방식의 수정된 $R^2$ score가 지표로 활용됩니다.\n",
    "\n",
    "\n",
    "+ ### $R_{adj}^2 = 1 - [\\frac{n-1}{n-(p+1)}]\\frac{SSE}{SST}$\n",
    "(결정계수보다 항상 작은것이 특징)"
   ]
  },
  {
   "cell_type": "code",
   "execution_count": 45,
   "metadata": {
    "scrolled": false
   },
   "outputs": [
    {
     "name": "stdout",
     "output_type": "stream",
     "text": [
      "R2 score: 0.39\n"
     ]
    }
   ],
   "source": [
    "# R2 scroe\n",
    "R2 = r2_score(diabetes_Y_multi, diabetes_y_pred_multi)\n",
    "print('R2 score: %.2f' % R2)"
   ]
  },
  {
   "cell_type": "code",
   "execution_count": 46,
   "metadata": {
    "scrolled": true
   },
   "outputs": [
    {
     "name": "stdout",
     "output_type": "stream",
     "text": [
      "Adj R2 score: 0.38\n"
     ]
    }
   ],
   "source": [
    "# adj R2 score\n",
    "n = len(diabetes_X_multi)\n",
    "p = len(label)\n",
    "\n",
    "Adj_r2 = 1-(1-R2)*(n-1)/(n-p-1)\n",
    "print('Adj R2 score: %.2f' % Adj_r2)"
   ]
  },
  {
   "cell_type": "markdown",
   "metadata": {},
   "source": [
    "+ 계산된 $Adj \\ R^2$값이 0.38 이므로 모델은 단순 모델보다 더 좋은 설명력을 보임을 의미합니다."
   ]
  },
  {
   "cell_type": "markdown",
   "metadata": {},
   "source": [
    "---"
   ]
  },
  {
   "cell_type": "markdown",
   "metadata": {},
   "source": [
    "## <2> 연습문제"
   ]
  },
  {
   "cell_type": "markdown",
   "metadata": {},
   "source": [
    "Data를 input 데이터와 output 데이터로 나눕니다.\n",
    "\n",
    "(독립변수 2개와 종속변수 1개를 선택합니다.)"
   ]
  },
  {
   "cell_type": "code",
   "execution_count": 47,
   "metadata": {},
   "outputs": [],
   "source": [
    "# 컬럼이름으로 다중 컬럼 선택 (return DatFrame)\n",
    "## 하나의 컬럼을 선택할 경우 Series를 반환\n",
    "## 하나의 컬럼을 DataFrame으로 반환하기 위해서는 컬럼 리스트로 입력\n",
    "\n",
    "labelt2 = ['Age', 'KM']\n",
    "dfx_multi = df2[labelt2]\n",
    "dfy_multi = df2[['Price']]"
   ]
  },
  {
   "cell_type": "code",
   "execution_count": 48,
   "metadata": {},
   "outputs": [
    {
     "data": {
      "text/html": [
       "<div>\n",
       "<style scoped>\n",
       "    .dataframe tbody tr th:only-of-type {\n",
       "        vertical-align: middle;\n",
       "    }\n",
       "\n",
       "    .dataframe tbody tr th {\n",
       "        vertical-align: top;\n",
       "    }\n",
       "\n",
       "    .dataframe thead th {\n",
       "        text-align: right;\n",
       "    }\n",
       "</style>\n",
       "<table border=\"1\" class=\"dataframe\">\n",
       "  <thead>\n",
       "    <tr style=\"text-align: right;\">\n",
       "      <th></th>\n",
       "      <th>Age</th>\n",
       "      <th>KM</th>\n",
       "    </tr>\n",
       "  </thead>\n",
       "  <tbody>\n",
       "    <tr>\n",
       "      <th>0</th>\n",
       "      <td>0.278481</td>\n",
       "      <td>0.193355</td>\n",
       "    </tr>\n",
       "    <tr>\n",
       "      <th>1</th>\n",
       "      <td>0.278481</td>\n",
       "      <td>0.300149</td>\n",
       "    </tr>\n",
       "    <tr>\n",
       "      <th>2</th>\n",
       "      <td>0.291139</td>\n",
       "      <td>0.171647</td>\n",
       "    </tr>\n",
       "    <tr>\n",
       "      <th>3</th>\n",
       "      <td>0.316456</td>\n",
       "      <td>0.197528</td>\n",
       "    </tr>\n",
       "    <tr>\n",
       "      <th>4</th>\n",
       "      <td>0.367089</td>\n",
       "      <td>0.158433</td>\n",
       "    </tr>\n",
       "  </tbody>\n",
       "</table>\n",
       "</div>"
      ],
      "text/plain": [
       "        Age        KM\n",
       "0  0.278481  0.193355\n",
       "1  0.278481  0.300149\n",
       "2  0.291139  0.171647\n",
       "3  0.316456  0.197528\n",
       "4  0.367089  0.158433"
      ]
     },
     "execution_count": 48,
     "metadata": {},
     "output_type": "execute_result"
    }
   ],
   "source": [
    "dfx_multi.head()"
   ]
  },
  {
   "cell_type": "code",
   "execution_count": 49,
   "metadata": {},
   "outputs": [
    {
     "data": {
      "text/html": [
       "<div>\n",
       "<style scoped>\n",
       "    .dataframe tbody tr th:only-of-type {\n",
       "        vertical-align: middle;\n",
       "    }\n",
       "\n",
       "    .dataframe tbody tr th {\n",
       "        vertical-align: top;\n",
       "    }\n",
       "\n",
       "    .dataframe thead th {\n",
       "        text-align: right;\n",
       "    }\n",
       "</style>\n",
       "<table border=\"1\" class=\"dataframe\">\n",
       "  <thead>\n",
       "    <tr style=\"text-align: right;\">\n",
       "      <th></th>\n",
       "      <th>Price</th>\n",
       "    </tr>\n",
       "  </thead>\n",
       "  <tbody>\n",
       "    <tr>\n",
       "      <th>0</th>\n",
       "      <td>0.325044</td>\n",
       "    </tr>\n",
       "    <tr>\n",
       "      <th>1</th>\n",
       "      <td>0.333925</td>\n",
       "    </tr>\n",
       "    <tr>\n",
       "      <th>2</th>\n",
       "      <td>0.341030</td>\n",
       "    </tr>\n",
       "    <tr>\n",
       "      <th>3</th>\n",
       "      <td>0.376554</td>\n",
       "    </tr>\n",
       "    <tr>\n",
       "      <th>4</th>\n",
       "      <td>0.333925</td>\n",
       "    </tr>\n",
       "  </tbody>\n",
       "</table>\n",
       "</div>"
      ],
      "text/plain": [
       "      Price\n",
       "0  0.325044\n",
       "1  0.333925\n",
       "2  0.341030\n",
       "3  0.376554\n",
       "4  0.333925"
      ]
     },
     "execution_count": 49,
     "metadata": {},
     "output_type": "execute_result"
    }
   ],
   "source": [
    "dfy_multi.head()"
   ]
  },
  {
   "cell_type": "markdown",
   "metadata": {},
   "source": [
    "### 1) 데이터 분포 그래프로 살펴보기\n",
    "\n",
    "데이터 점을 산점도 그래프로 나타냅니다."
   ]
  },
  {
   "cell_type": "code",
   "execution_count": 50,
   "metadata": {},
   "outputs": [
    {
     "data": {
      "image/png": "[encoded data removed]",
      "text/plain": [
       "<Figure size 432x288 with 1 Axes>"
      ]
     },
     "metadata": {
      "needs_background": "light"
     },
     "output_type": "display_data"
    }
   ],
   "source": [
    "# Plot\n",
    "\n",
    "# x,y축 값 설정 (독립변수)\n",
    "age = dfx_multi[['Age']]\n",
    "km = dfx_multi[['KM']]\n",
    "\n",
    "# figure\n",
    "fig = plt.figure()\n",
    "ax = Axes3D(fig)\n",
    "\n",
    "# 산점도 그래프\n",
    "ax.scatter(age, km, dfy_multi, color='red')\n",
    "\n",
    "# x축 label\n",
    "ax.set_xlabel('Age')\n",
    "\n",
    "# y축 label\n",
    "ax.set_ylabel('KM')\n",
    "\n",
    "# z축 label\n",
    "ax.set_zlabel('Price')\n",
    "plt.show()"
   ]
  },
  {
   "cell_type": "markdown",
   "metadata": {},
   "source": [
    "### 2) 회귀식 추정하기(by sklearn)\n",
    "\n",
    "모델 파라미터를 계산하여 출력하고, test 데이터에 대해서 회귀 결과를 얻습니다."
   ]
  },
  {
   "cell_type": "code",
   "execution_count": 51,
   "metadata": {},
   "outputs": [
    {
     "name": "stdout",
     "output_type": "stream",
     "text": [
      "Model parameters: \n",
      "\n",
      "b2: -0.43260338342709304\n",
      "b1: -0.1420920218110332\n",
      "b0: 0.5676358043650112\n",
      "\n",
      "y= 0.5676358043650112 + -0.1420920218110332 *x1 +  -0.43260338342709304 *x2\n"
     ]
    }
   ],
   "source": [
    "# 선형회귀 추정기 생성\n",
    "lrt2 = linear_model.LinearRegression() \n",
    "\n",
    "# input 대해 선형 회귀(모델 파라미터 추정)\n",
    "lrt2.fit(dfx_multi, dfy_multi)\n",
    "\n",
    "# 모델 파라미터 출력\n",
    "print('Model parameters: \\n')\n",
    "print('b2:', lrt2.coef_[0,0])\n",
    "print('b1:', lrt2.coef_[0,1])\n",
    "print('b0:', lrt2.intercept_[0])\n",
    "print()\n",
    "print('y=',lrt2.intercept_[0],'+',lrt2.coef_[0,1],'*x1 + ', lrt2.coef_[0,0], '*x2')\n",
    "\n",
    "# 회귀식으로 데이터의 결과 추정\n",
    "dfy_pred = lrt2.predict(dfx_multi)"
   ]
  },
  {
   "cell_type": "markdown",
   "metadata": {},
   "source": [
    "### 3) 결과 살펴보기\n",
    "결과를 그래프로 나타냅니다."
   ]
  },
  {
   "cell_type": "code",
   "execution_count": 52,
   "metadata": {
    "scrolled": true
   },
   "outputs": [
    {
     "data": {
      "image/png": "[encoded data removed]",
      "text/plain": [
       "<Figure size 432x288 with 1 Axes>"
      ]
     },
     "metadata": {
      "needs_background": "light"
     },
     "output_type": "display_data"
    }
   ],
   "source": [
    "# Plot\n",
    "\n",
    "# 회귀식으로 데이터의 결과 추정위한 샘플 데이터(test)\n",
    "age = dfx_multi[['Age']]\n",
    "km = dfx_multi[['KM']]\n",
    "xxt1, xxt2 = np.meshgrid(np.linspace(dfx_multi.Age.min(),\n",
    "                                   dfx_multi.Age.max(), 100), \n",
    "                       np.linspace(dfx_multi.KM.min(), \n",
    "                                   dfx_multi.KM.max(), 100))\n",
    "# matplotlib 3d plot\n",
    "fig = plt.figure()\n",
    "ax = Axes3D(fig, azim= -100, elev=50) #azim : 방위각도, azim : 고도 \n",
    "ax.scatter(age, km, dfy_multi, color='red')\n",
    "\n",
    "# 회귀식으로 결과 추정\n",
    "Z =lrt2.intercept_[0] +lrt2.coef_[0,0] * xxt1 + lrt2.coef_[0,1] * xxt2\n",
    "\n",
    "# plot hyperplane\n",
    "ax.plot_surface(xxt1,xxt2,Z)\n",
    "ax.set_xlabel('Age')\n",
    "ax.set_ylabel('KM')\n",
    "ax.set_zlabel('Price')\n",
    "\n",
    "plt.show()"
   ]
  },
  {
   "cell_type": "markdown",
   "metadata": {},
   "source": [
    "### 4) 평가하기\n",
    "R2를 이용하여 테스트 결과를 평가합니다."
   ]
  },
  {
   "cell_type": "code",
   "execution_count": 53,
   "metadata": {},
   "outputs": [
    {
     "name": "stdout",
     "output_type": "stream",
     "text": [
      "R2 score: 0.79\n"
     ]
    }
   ],
   "source": [
    "# R2 scroe\n",
    "R2 = r2_score(dfy_multi, dfy_pred)\n",
    "print('R2 score: %.2f' % R2)"
   ]
  },
  {
   "cell_type": "code",
   "execution_count": 54,
   "metadata": {
    "scrolled": false
   },
   "outputs": [
    {
     "name": "stdout",
     "output_type": "stream",
     "text": [
      "Adj R2 score: 0.79\n"
     ]
    }
   ],
   "source": [
    "# adj R2 score\n",
    "n = len(dfy_multi)\n",
    "p = len(labelt2)\n",
    "\n",
    "Adj_r2 = 1-(1-R2)*(n-1)/(n-p-1)\n",
    "print('Adj R2 score: %.2f' % Adj_r2)"
   ]
  },
  {
   "cell_type": "markdown",
   "metadata": {},
   "source": [
    "(표본의 크기와 독립변수의 수를 고려하는 $Adj \\ R^2$와 $R^2$는 표본이 큰 경우 거의 동일해짐을 확인할 수 있습니다.)"
   ]
  },
  {
   "cell_type": "markdown",
   "metadata": {},
   "source": [
    "---"
   ]
  },
  {
   "cell_type": "markdown",
   "metadata": {},
   "source": [
    "## 번외1\n",
    "scikit-learn 패키지가 아닌  numpy 또는  statsmodels의 OLS 명령을 통해서도 회귀분석이 가능합니다."
   ]
  },
  {
   "cell_type": "markdown",
   "metadata": {},
   "source": [
    "### 단순선형회귀의 경우 결과값 (feat. statsmodels)\n",
    "![RegrResults](./Images/regression_results.png)\n",
    "  \n",
    "  ***\n",
    "###  다변량 선형회귀의 경우 결과값 (feat. statsmodels)\n",
    "![RegrResults2](./Images/regression_results2.png)"
   ]
  },
  {
   "cell_type": "markdown",
   "metadata": {},
   "source": [
    "***"
   ]
  },
  {
   "cell_type": "markdown",
   "metadata": {},
   "source": [
    "## 번외2\n",
    "\n",
    "### 다중공선성과 변수 선택\n",
    "  \n",
    "  \n",
    "  - 다중공선성(multicollinearity)란 독립 변수의 일부가 다른 독립 변수의 조합으로 표현될 수 있는 경우입니다. 독립 변수들이 서로 독립이 아니라 상호상관관계가 강한 경우에 발생하며 이는 독립 변수의 공분산 행렬이 full rank 이어야 한다는 조건을 침해합니다.\n",
    "  > 독립변수가 서로 의존하게 되면 이렇게 과최적화(over-fitting) 문제가 발생하여 회귀 결과의 안정성을 해칠 가능성이 높아집니다. 이를 방지하는 방법들은 다음과 같습니다.\n",
    ">\n",
    ">* 변수 선택법으로 의존적인 변수 삭제\n",
    ">* PCA(principal component analysis) 방법으로 의존적인 성분 삭제\n",
    ">* 정규화(regularized) 방법 사용"
   ]
  },
  {
   "cell_type": "markdown",
   "metadata": {
    "collapsed": true,
    "school_cell_uuid": "cbd44b9f96144badb2574c2d88d0a78e"
   },
   "source": [
    "## VIF"
   ]
  },
  {
   "cell_type": "markdown",
   "metadata": {
    "school_cell_uuid": "fe2e0779c04846c3b396e185f0cfa95b"
   },
   "source": [
    "다중 공선성을 없애는 가장 기본적인 방법은 다른 독립변수에 의존하는 변수를 없애는 것이다. 가장 의존적인 독립변수를 선택하는 방법으로는 VIF(Variance Inflation Factor)를 사용할 수 있습니다. VIF는 독립변수를 다른 독립변수로 선형회귀한 성능을 나타낸 것으로. $i$번째 변수의 VIF는 다음과 같이 계산하게됩니다.\n",
    "\n",
    "$$ \\text{VIF}_i = \\frac{\\sigma^2}{(n-1)\\text{Var}[X_i]}\\cdot \\frac{1}{1-R_i^2} $$\n",
    "\n",
    "여기에서 $R^2_i$는 다른 변수로 $i$번째 변수를 선형회귀한 성능(결정 계수)이다. 다른 변수에 의존적일 수록 VIF가 커지게 됩니다.  \n",
    "\n",
    "일반적으로  VIF가 5 이상인 경우 다중공선성이 존재한다고 생각할 수 있으며, 10이 넘으면 문제가 심각한 것으로 보고 이에 따른 핸들링이 필요합니다."
   ]
  },
  {
   "cell_type": "markdown",
   "metadata": {
    "school_cell_uuid": "f0a8e450d7864ea99e96c66500c80bd6"
   },
   "source": [
    "StatsModels에서는 `variance_inflation_factor` 명령으로 VIF를 계산할 수 있습니다."
   ]
  },
  {
   "cell_type": "markdown",
   "metadata": {},
   "source": [
    "![vif](./Images/vif.png)"
   ]
  },
  {
   "cell_type": "markdown",
   "metadata": {},
   "source": [
    "***"
   ]
  },
  {
   "cell_type": "markdown",
   "metadata": {},
   "source": [
    "# ** 설명력을 높여보자 **"
   ]
  },
  {
   "cell_type": "markdown",
   "metadata": {},
   "source": [
    "## 2) 연습문제"
   ]
  },
  {
   "cell_type": "markdown",
   "metadata": {},
   "source": [
    "### \\- sklearn을 활용하여 설명력이 높은 회귀식을 찾아보세요."
   ]
  },
  {
   "cell_type": "code",
   "execution_count": 55,
   "metadata": {
    "scrolled": true
   },
   "outputs": [],
   "source": [
    "df2 = pd.read_csv(join('data', 'ToyotaDataset.csv'))"
   ]
  },
  {
   "cell_type": "code",
   "execution_count": 56,
   "metadata": {},
   "outputs": [
    {
     "data": {
      "text/html": [
       "<div>\n",
       "<style scoped>\n",
       "    .dataframe tbody tr th:only-of-type {\n",
       "        vertical-align: middle;\n",
       "    }\n",
       "\n",
       "    .dataframe tbody tr th {\n",
       "        vertical-align: top;\n",
       "    }\n",
       "\n",
       "    .dataframe thead th {\n",
       "        text-align: right;\n",
       "    }\n",
       "</style>\n",
       "<table border=\"1\" class=\"dataframe\">\n",
       "  <thead>\n",
       "    <tr style=\"text-align: right;\">\n",
       "      <th></th>\n",
       "      <th>Price</th>\n",
       "      <th>Age</th>\n",
       "      <th>KM</th>\n",
       "      <th>Weight</th>\n",
       "    </tr>\n",
       "  </thead>\n",
       "  <tbody>\n",
       "    <tr>\n",
       "      <th>0</th>\n",
       "      <td>13500</td>\n",
       "      <td>0.278481</td>\n",
       "      <td>0.193355</td>\n",
       "      <td>0.268293</td>\n",
       "    </tr>\n",
       "    <tr>\n",
       "      <th>1</th>\n",
       "      <td>13750</td>\n",
       "      <td>0.278481</td>\n",
       "      <td>0.300149</td>\n",
       "      <td>0.268293</td>\n",
       "    </tr>\n",
       "    <tr>\n",
       "      <th>2</th>\n",
       "      <td>13950</td>\n",
       "      <td>0.291139</td>\n",
       "      <td>0.171647</td>\n",
       "      <td>0.268293</td>\n",
       "    </tr>\n",
       "    <tr>\n",
       "      <th>3</th>\n",
       "      <td>14950</td>\n",
       "      <td>0.316456</td>\n",
       "      <td>0.197528</td>\n",
       "      <td>0.268293</td>\n",
       "    </tr>\n",
       "    <tr>\n",
       "      <th>4</th>\n",
       "      <td>13750</td>\n",
       "      <td>0.367089</td>\n",
       "      <td>0.158433</td>\n",
       "      <td>0.276423</td>\n",
       "    </tr>\n",
       "  </tbody>\n",
       "</table>\n",
       "</div>"
      ],
      "text/plain": [
       "   Price       Age        KM    Weight\n",
       "0  13500  0.278481  0.193355  0.268293\n",
       "1  13750  0.278481  0.300149  0.268293\n",
       "2  13950  0.291139  0.171647  0.268293\n",
       "3  14950  0.316456  0.197528  0.268293\n",
       "4  13750  0.367089  0.158433  0.276423"
      ]
     },
     "execution_count": 56,
     "metadata": {},
     "output_type": "execute_result"
    }
   ],
   "source": [
    "df2.head()"
   ]
  },
  {
   "cell_type": "code",
   "execution_count": 57,
   "metadata": {},
   "outputs": [
    {
     "data": {
      "text/plain": [
       "Index(['Price', 'Age', 'KM', 'Weight'], dtype='object')"
      ]
     },
     "execution_count": 57,
     "metadata": {},
     "output_type": "execute_result"
    }
   ],
   "source": [
    "df2.columns"
   ]
  },
  {
   "cell_type": "code",
   "execution_count": 58,
   "metadata": {},
   "outputs": [
    {
     "name": "stdout",
     "output_type": "stream",
     "text": [
      "(1436, 1)\n"
     ]
    }
   ],
   "source": [
    "newlabel = ['Age']\n",
    "\n",
    "dfx = df2[newlabel]\n",
    "dfy = df2[['Price']]\n",
    "\n",
    "print(dfx.shape)"
   ]
  },
  {
   "cell_type": "markdown",
   "metadata": {},
   "source": [
    "### regression"
   ]
  },
  {
   "cell_type": "code",
   "execution_count": 60,
   "metadata": {},
   "outputs": [
    {
     "name": "stdout",
     "output_type": "stream",
     "text": [
      "Model parameters: \n",
      "\n",
      "b1 :  -13503.753217\n",
      "b0: 20123.125064210995\n",
      "\n",
      "y =  20123.125064210995 + -13503.753216552286*x1\n"
     ]
    }
   ],
   "source": [
    "# 해설용 sample code \n",
    "\n",
    "## 선형회귀 추정기 생성\n",
    "lr3 = linear_model.LinearRegression()\n",
    "\n",
    "## input 대해 선형 회귀(모델 파라미터 추정)\n",
    "lr3.fit(dfx, dfy)\n",
    "\n",
    "## 모델 파라미터 출력\n",
    "print('Model parameters: \\n')\n",
    "\n",
    "rgstr = ''\n",
    "for i in range(len(lr3.coef_[0])):\n",
    "    print(\"b%d\" %(len(lr3.coef_[0])-i),\": \", \"%f\" %lr3.coef_[0,i])\n",
    "    rgstr = ' + '+repr(lr3.coef_[0,i]) + '*x'+repr(len(lr3.coef_[0])-i) + rgstr\n",
    "\n",
    "print('b0:', lr3.intercept_[0])\n",
    "print()\n",
    "rgstr = repr(lr3.intercept_[0]) + rgstr\n",
    "print('y = ', rgstr)"
   ]
  },
  {
   "cell_type": "markdown",
   "metadata": {},
   "source": [
    "### evaluation"
   ]
  },
  {
   "cell_type": "code",
   "execution_count": null,
   "metadata": {},
   "outputs": [],
   "source": [
    "# 해설용 sample code \n",
    "#y_pred = lr3.predict(X_test)\n",
    "# n = len(X_test)\n",
    "# p = len(label2)\n",
    "\n",
    "# R2 = r2_score(y_test, y_pred)\n",
    "# Adj_r2 = 1-(1-R2)*(n-1)/(n-p-1)\n",
    "\n",
    "# print('Adj R2 score: %.2f' %  Adj_r2)"
   ]
  },
  {
   "cell_type": "code",
   "execution_count": 61,
   "metadata": {
    "scrolled": true
   },
   "outputs": [
    {
     "name": "stdout",
     "output_type": "stream",
     "text": [
      "label ['Age']\n",
      "(1436, 1)\n",
      "Model parameters: \n",
      "\n",
      "b1 :  -13503.753217\n",
      "b0: 20123.125064210995\n",
      "\n",
      "y =  20123.125064210995 + -13503.753216552286*x1\n",
      "Adj R2 score: 0.77\n",
      "**************************************************************\n",
      "label ['KM']\n",
      "(1436, 1)\n",
      "Model parameters: \n",
      "\n",
      "b1 :  -13393.261784\n",
      "b0: 14508.084893944997\n",
      "\n",
      "y =  14508.084893944997 + -13393.261784167173*x1\n",
      "Adj R2 score: 0.32\n",
      "**************************************************************\n",
      "label ['Weight']\n",
      "(1436, 1)\n",
      "Model parameters: \n",
      "\n",
      "b1 :  24627.317537\n",
      "b0: 7829.221543426506\n",
      "\n",
      "y =  7829.221543426506 + 24627.317537270323*x1\n",
      "Adj R2 score: 0.34\n",
      "**************************************************************\n",
      "label ['Age', 'KM']\n",
      "(1436, 2)\n",
      "Model parameters: \n",
      "\n",
      "b2 :  -12177.785243\n",
      "b1 :  -3999.890414\n",
      "b0: 20328.947892875065\n",
      "\n",
      "y =  20328.947892875065 + -3999.8904139805886*x1 + -12177.78524347267*x2\n",
      "Adj R2 score: 0.79\n",
      "**************************************************************\n",
      "label ['Age', 'Weight']\n",
      "(1436, 2)\n",
      "Model parameters: \n",
      "\n",
      "b2 :  -11932.090104\n",
      "b1 :  9193.127570\n",
      "b0: 17946.84321168357\n",
      "\n",
      "y =  17946.84321168357 + 9193.127569599805*x1 + -11932.090103991943*x2\n",
      "Adj R2 score: 0.80\n",
      "**************************************************************\n",
      "label ['KM', 'Weight']\n",
      "(1436, 2)\n",
      "Model parameters: \n",
      "\n",
      "b2 :  -13013.326578\n",
      "b1 :  23956.225035\n",
      "b0: 11578.39842550318\n",
      "\n",
      "y =  11578.39842550318 + 23956.225035025633*x1 + -13013.3265780682*x2\n",
      "Adj R2 score: 0.64\n",
      "**************************************************************\n",
      "label ['Age', 'KM', 'Weight']\n",
      "(1436, 3)\n",
      "Model parameters: \n",
      "\n",
      "b3 :  -9497.472709\n",
      "b2 :  -5876.420088\n",
      "b1 :  12039.266742\n",
      "b0: 17575.462561457694\n",
      "\n",
      "y =  17575.462561457694 + 12039.26674193247*x1 + -5876.420088238448*x2 + -9497.472708505771*x3\n",
      "Adj R2 score: 0.85\n",
      "**************************************************************\n"
     ]
    }
   ],
   "source": [
    "import itertools\n",
    "\n",
    "f2 = pd.read_csv(join('data', 'ToyotaDataset.csv'))\n",
    "\n",
    "newlabel = ['Age', 'KM', 'Weight']\n",
    "combs = []\n",
    "\n",
    "for i in range(1, len(newlabel)+1):\n",
    "    els = [list(x) for x in itertools.combinations(newlabel, i)]\n",
    "    combs.extend(els) # list 원소만을 append(일반적인 append는 list 자체를 추가한다.)\n",
    "for i in range(len(combs)):\n",
    "    print('label', combs[i])\n",
    "\n",
    "    dfx = df2[combs[i]]\n",
    "    dfy = df2[['Price']]\n",
    "    print(dfx.shape)\n",
    "\n",
    "    # 선형회귀 추정기 생성\n",
    "    lr3 = linear_model.LinearRegression()\n",
    "\n",
    "    # input 대해 선형 회귀(모델 파라미터 추정)\n",
    "    lr3.fit(dfx, dfy)\n",
    "\n",
    "    # 모델 파라미터 출력\n",
    "    print('Model parameters: \\n')\n",
    "    rgstr = ''\n",
    "    for i in range(len(lr3.coef_[0])):\n",
    "        print(\"b%d\" %(len(lr3.coef_[0])-i),\": \", \"%f\" %lr3.coef_[0,i])\n",
    "        rgstr = ' + '+repr(lr3.coef_[0,i]) + '*x'+repr(len(lr3.coef_[0])-i) + rgstr\n",
    "\n",
    "    print('b0:', lr3.intercept_[0])\n",
    "    print()\n",
    "    rgstr = repr(lr3.intercept_[0]) + rgstr\n",
    "    print('y = ', rgstr)\n",
    "\n",
    "    y_pred = lr3.predict(dfx)\n",
    "    n = len(dfx)\n",
    "    p = len(combs[i])\n",
    "\n",
    "    R2 = r2_score(dfy, y_pred)\n",
    "    Adj_r2 = 1-(1-R2)*(n-1)/(n-p-1)\n",
    "\n",
    "    print('Adj R2 score: %.2f' %  Adj_r2)\n",
    "    print('**************************************************************')"
   ]
  },
  {
   "cell_type": "markdown",
   "metadata": {},
   "source": [
    "---"
   ]
  },
  {
   "cell_type": "markdown",
   "metadata": {},
   "source": [
    "### Reference\n",
    "\n",
    "+ Dataset \n",
    "#### < diabetesDataset >\n",
    "Source URL:\n",
    "http://www4.stat.ncsu.edu/~boos/var.select/diabetes.html\n",
    "\n",
    "For more information see:\n",
    "Bradley Efron, Trevor Hastie, Iain Johnstone and Robert Tibshirani (2004) \"Least Angle Regression,\" Annals of Statistics (with discussion), 407-499.\n",
    "(http://web.stanford.edu/~hastie/Papers/LARS/LeastAngle_2002.pdf)\n",
    "\n",
    "#### 데이터 사이언스 스쿨 강의 자료\n",
    "- 선형 회귀분석의 기초\n",
    "- 다중공선성과 변수 선택\n",
    "\n",
    "#### 다중공선성 출력 자료 출처:\n",
    "- kaggle kernel- Explore Data & Linear Regression  \n",
    "https://www.kaggle.com/fkstepz/explore-data-linear-regression"
   ]
  }
 ],
 "metadata": {
  "kernelspec": {
   "display_name": "samsung",
   "language": "python",
   "name": "samsung"
  },
  "language_info": {
   "codemirror_mode": {
    "name": "ipython",
    "version": 3
   },
   "file_extension": ".py",
   "mimetype": "text/x-python",
   "name": "python",
   "nbconvert_exporter": "python",
   "pygments_lexer": "ipython3",
   "version": "3.6.7"
  }
 },
 "nbformat": 4,
 "nbformat_minor": 2
}
