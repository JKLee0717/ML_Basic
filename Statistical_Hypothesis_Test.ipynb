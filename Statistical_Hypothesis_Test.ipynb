{
 "cells": [
  {
   "cell_type": "markdown",
   "metadata": {},
   "source": [
    "Lab02-0\n",
    "======"
   ]
  },
  {
   "cell_type": "markdown",
   "metadata": {},
   "source": [
    "## Data 분석\n",
    "\n",
    "- 어떤 변수들이 서로 상관이 있을까?\n",
    "- 두 개의 집단으로 나누는 것이 효과가 있을까?\n",
    "- 주량에 따른 피부나이에 차이가 있을까?\n",
    "\n",
    "이와같은 질문들에 대한 답은 어떻게 구할 수 있을까??\n",
    "\n",
    "> - Data 분석은 의사결정에 있어서 중요한 근거가 될 수 있으며 Insight 를 발견하여 새로운 가치를 창출할 수 있습니다.\n",
    ">\n",
    "> - 이러한 분석의 의사결정에 정량적인 판단근거를 내릴 수 있는 도구가 통계라고 할 수 있습니다."
   ]
  },
  {
   "cell_type": "markdown",
   "metadata": {},
   "source": [
    "<script type=\"text/javascript\" src=\"http://cdn.mathjax.org/mathjax/latest/MathJax.js?config=TeX-AMS-MML_HTMLorMML\"></script>\n",
    "### Context\n",
    "#### Statistical Hypothesis Test\n",
    "+ T-Test\n",
    "+ ANOVA"
   ]
  },
  {
   "cell_type": "markdown",
   "metadata": {},
   "source": [
    "## 정규분포\n",
    "정규 분포는 평균과 표준편차로 데이터의 특성을 설명하 분포입니다.<br>\n",
    "정규 분포의 특수한 형태로서 평균이 0이고 표준편차가 1인 정규분포를 표준정규분포라 합니다.<br>\n",
    "정규 분포의 평균과 표준편차를 알고 있다면 다음 공식을 통해 정규분포를 표준정규분포로 바꿔줄 수 있습니다.\n",
    "![Normal](./Images/Normal.png)"
   ]
  },
  {
   "cell_type": "markdown",
   "metadata": {},
   "source": [
    "## 스튜던트 T 분포\n",
    "스튜던트 t-분포는 정규 분포(Normal Distribution)의 평균을 측정할 때 많이 사용하는 분포입니다. <br> \n",
    "일반적으로 우리는 모평균, 모분산을 알 수 없으므로 정규 분포를 사용할 수 없습니다.<br>\n",
    "스튜던트 t-분포는 모분산을 모를 때 표본 분산으로 대체하여 모 평균을 구할 때 사용합니다. 즉, 모 평균 검정에 사용됩니다. <br>\n",
    "z-분포와 t-분포에서 귀무 가설 H<sub>0</sub>는 μ=0이나 μ1=μ2 등이고, 대립 가설 H<sub>1</sub>은 μ≠0나 μ1≠μ2같은 것이 있습니다.<br>\n",
    "추가적으로 T 분포는 CLT를 만족하지 않는 데이터에 대해 자유도(Degree of Freedom)를 부여하여 정규분포에 가깝게 추론할 수 있도록 해줍니다.<br> \n",
    "일반적으로 데이터의 개수가 많아질 수록 T 분포는 정규분포에 가까워지게 됩니다. <br><br>\n"
   ]
  },
  {
   "cell_type": "markdown",
   "metadata": {},
   "source": [
    "## 중심극한정리(CLT)\n",
    "중심극한정리란, 모집단이 정규분포를 따르지 않더라도 뽑은 표본의 평균이 표본의 크기가 커질수록 정규분포에 가까워진다는 이론입니다.<br>\n",
    "중심극한정리를 만족하기 위해서는 2가지 가정이 필요합니다.<br>\n",
    "1. i.i.d(independent and identically distributed) - 데이터 샘플이 서로 독립적이고 동일한 확률 분포에서 추출되어야한다.\n",
    "2. 샘플의 수가 충분히 많을 것\n",
    "\n",
    "![CLT](./Images/CLT.png)"
   ]
  },
  {
   "cell_type": "markdown",
   "metadata": {},
   "source": [
    "## 유의 수준(Confidence level)\n",
    "유의 수준이란, 가설을 세우고 검증하는 과정에서 사용되는 기준 값입니다.<br>\n",
    "α(Alpha)로 표시하고 95%의 신뢰도를 기준으로 한다면 (1-0.95)인 0.05 값이 유의 수준 값이 됩니다.<br>\n",
    "간단히 말해서, 데이터를 보고 귀무가설을 채택할 하한이라고 생각하면 쉽습니다.<br>\n",
    "유의수준보다 낮은 p-value를 가진 귀무가설은 기각됩니다."
   ]
  },
  {
   "cell_type": "markdown",
   "metadata": {},
   "source": [
    "## 신뢰구간(Confidence interval)\n",
    "신뢰구간이란, 모수가 어느 범위 안에 있는지를 확률적으로 보여주는 방법입니다.<br>\n",
    "간단히 말해서, 우리가 실제 모집단을 가지고 있지 않기 때문에 표본으로 모집단을 추정할 수 밖에 없으며, 모집단을 추정할 때 추정한 모집단이 이정도 신뢰 구간에 대해 들어갈 것이라고 가정합니다.<br><br>\n",
    "예를들어 선거의 경우 전체 국민의 투표 데이터를 가지고 있을 수 없기 때문에 출구조사를 통해 표본을 수집합니다.<br>\n",
    "수집한 출구조사 데이터를 가지고 각 후보자들의 투표율을 추정했을 때 95% 신뢰구간으로 어떤 후보자가 몇%의 투표율을 얻었다고 말합니다."
   ]
  },
  {
   "cell_type": "markdown",
   "metadata": {},
   "source": [
    "## 유의 확률(Probability-value, p-value) \n",
    "가설을 검증할 때 항상 나오는 것이 있는데, p-value 입니다.<br>\n",
    "귀무가설 H<sub>0</sub>를 기각(reject)할 수 있는 최소한의 유의수준 이라고 합니다.<br>\n",
    "간단히 말해서, 주어진 데이터를 보고 귀무가설이 얼마나 말이 되느냐(likelihood)를 나타냈다고 생각하면 쉽습니다.<br>\n",
    "일반적으로 유의수준이 0.05일 때, p-value가 0.05 이하라면 귀무가설을 기각하게 되는데 이는 현재 가지고 있는 데이터 샘플을 살펴보았을 때 '귀무가설이 말이 되지 않는다(unlikely) -> 틀렸다' 라고 판단하여 귀무가설을 기각(reject)하게 되는 것입니다.<br><br>\n",
    "예를들어 재판에서는 무죄추정의 원칙에 의해 귀무가설(H<sub>0</sub>) '피고인은 무죄이다' 를 전제로 검사가 제시한 증거에 따라 판결을 내리게 되는데요.<br>\n",
    "여기에서 검사가 제시한 증거(데이터 샘플)가 피고인이 무죄라고하기에 말이 되지 않는다(p-value가 0.05 이하)라면, 귀무가설(H<sub>0</sub>) '피고인은 무죄이다'를 기각하게 됩니다."
   ]
  },
  {
   "cell_type": "code",
   "execution_count": 1,
   "metadata": {},
   "outputs": [],
   "source": [
    "import os\n",
    "from os.path import join\n",
    "\n",
    "import pandas as pd\n",
    "import numpy as np\n",
    "from scipy import stats\n",
    "\n",
    "import matplotlib.pyplot as plt\n",
    "\n",
    "\n",
    "datapath = join('data','wine.txt')\n",
    "labelpath = join('data','wine_attributes.txt')\n",
    "\n",
    "columns = list()\n",
    "with open(labelpath, 'r') as f:\n",
    "    columns = f.read().split('\\n')"
   ]
  },
  {
   "cell_type": "markdown",
   "metadata": {},
   "source": [
    "## 1. 데이터 살펴보기\n",
    "\n",
    "실습 조교 한진은 지난 9월 대전 컨벤션 센터에서 열린 세계 와인 페어에 다녀왔다. 우리나라를 포함한 세계 여러나라의 회사들이 참가했고, 자유롭게 시음을 해볼 수 있었다. 평소에 와인을 즐겨마시지 않아 와인 맛을 모르는 한진군에게 와인은 너무 쓰고 떫고 그냥 맛이 없었다. 그래서 와인의 어떤 성분이 와인의 등급을 정하는지, 좋은 와인의 성분은 어떤 분포를 따르는지 궁금증이 생겼고 삼성 레스토랑에 와인 납품을 하는 친구를 찾아가보기로 하였다. <br>"
   ]
  },
  {
   "cell_type": "code",
   "execution_count": 2,
   "metadata": {},
   "outputs": [],
   "source": [
    "data = pd.read_csv(datapath, names = columns)"
   ]
  },
  {
   "cell_type": "markdown",
   "metadata": {},
   "source": [
    "클래스는 1,2,3 세 등급이 있습니다.<br>\n",
    "pandas의 DataFrame은 특정 컬럼에 대해 논리 조건으로 행을 추출할 수 있습니다.<br>\n",
    "DataFrame.loc[논리조건] 을 이용해 와인 데이터를 클래스 별로 나누어 보겠습니다.<br>"
   ]
  },
  {
   "cell_type": "code",
   "execution_count": 3,
   "metadata": {},
   "outputs": [],
   "source": [
    "class_1 = data.loc[data['Class']==1]\n",
    "class_2 = data.loc[data['Class']==2]\n",
    "class_3 = data.loc[data['Class']==3]"
   ]
  },
  {
   "cell_type": "markdown",
   "metadata": {},
   "source": [
    "클래스별로 데이터를 나누었으니 실제 데이터에서는 클래스 컬럼을 제거해주도록 합니다.\n",
    "데이터를 분류하고자 한다면, 클래스 컬럼을 따로 저장해두어야 합니다.\n",
    "DataFrame으로 부터 컬럼을 제거하는 방법은 del DataFrame[컬럼이름] 으로 제거할 수 있습니다."
   ]
  },
  {
   "cell_type": "code",
   "execution_count": 4,
   "metadata": {},
   "outputs": [],
   "source": [
    "del class_1['Class']\n",
    "del class_2['Class']\n",
    "del class_3['Class']\n",
    "del data['Class']"
   ]
  },
  {
   "cell_type": "markdown",
   "metadata": {},
   "source": [
    "## 2_1. 가설 세우기 - 단일 표본 T-Test\n",
    "실습 조교 한진군은 1등급 와인의 평균 도수가 14도 라는 말을 들었다. <br>\n",
    "그래서 친구가 납품하는 와인의 목록(표본집단)을 참고하여 검증해보기로 하였다.<br>\n",
    "귀무가설 H<sub>0</sub>=1등급 와인의 평균 도수는 14도 일것이다.\n",
    "\n",
    "$$ T = {\\hat x - \\mu_0 \\over {s \\over \\sqrt n}} $$<br>\n",
    "$$ {\\hat x}=표본\\ 평균$$\n",
    "$$ {\\mu_0}=검증하고자\\ 하는\\ 평균$$\n",
    "$$ { s=표본\\ 표준\\ 편차\\ (Standard Error,SE\\ 라고\\ 표현하기도\\ 함) }$$\n",
    "$$ { n=샘플의\\ 수 }$$<br>"
   ]
  },
  {
   "cell_type": "markdown",
   "metadata": {},
   "source": [
    "### 2_1_1. Scipy로 T-Test 해보기\n",
    "먼저 1등급 와인의 기본적인 통계치를 확인해 봅시다."
   ]
  },
  {
   "cell_type": "code",
   "execution_count": 5,
   "metadata": {},
   "outputs": [
    {
     "data": {
      "image/png": "[encoded data removed]",
      "text/plain": [
       "<Figure size 432x288 with 1 Axes>"
      ]
     },
     "metadata": {
      "needs_background": "light"
     },
     "output_type": "display_data"
    }
   ],
   "source": [
    "plt.hist([class_1['Alcohol']], density=True)\n",
    "plt.title('Class_1 Alcohol Histogram')\n",
    "plt.legend(['Class_1'])\n",
    "plt.show()"
   ]
  },
  {
   "cell_type": "code",
   "execution_count": 6,
   "metadata": {},
   "outputs": [
    {
     "data": {
      "image/png": "[encoded data removed]",
      "text/plain": [
       "<Figure size 432x288 with 1 Axes>"
      ]
     },
     "metadata": {
      "needs_background": "light"
     },
     "output_type": "display_data"
    }
   ],
   "source": [
    "plt.boxplot([class_1['Alcohol']], \n",
    "            labels=['Class_1'],\n",
    "           meanline=True,\n",
    "           showmeans=True)\n",
    "plt.title('Class_1 Alcohol Boxplot')\n",
    "plt.show()"
   ]
  },
  {
   "cell_type": "code",
   "execution_count": 7,
   "metadata": {},
   "outputs": [
    {
     "name": "stdout",
     "output_type": "stream",
     "text": [
      "1등급 와인의 표본 평균 : 13.74, 표본 표준편차 : 0.46, 샘플 수 : 59\n"
     ]
    }
   ],
   "source": [
    "class_1_mean = np.mean(class_1['Alcohol'])\n",
    "class_1_std  = np.std(class_1['Alcohol'])\n",
    "class_1_n = len(class_1)\n",
    "\n",
    "print('1등급 와인의 표본 평균 : {0:.2f}, 표본 표준편차 : {1:.2f}, 샘플 수 : {2}'.format(class_1_mean,\n",
    "                                                                    class_1_std,\n",
    "                                                                    class_1_n))"
   ]
  },
  {
   "cell_type": "markdown",
   "metadata": {},
   "source": [
    "Scipy의 stats.ttest_1samp() 함수를 통해 H<sub>0</sub>를 검증해 보겠습니다.<br>\n",
    "매개변수 a 에 데이터 샘플, popmean에 검증하고자 하는 모평균을 대입해 ttest를 진행합니다.<br>\n",
    "해당 함수는 t-value와 p-value를 반환하는데 t-value를 통해 대립가설을 결정하고, p-value를 통해 귀무가설 기각 유무를 판단합니다."
   ]
  },
  {
   "cell_type": "code",
   "execution_count": 8,
   "metadata": {},
   "outputs": [
    {
     "name": "stdout",
     "output_type": "stream",
     "text": [
      "t-value -4.242669133778369, p-value 8.054291701518571e-05\n"
     ]
    }
   ],
   "source": [
    "t,p = stats.ttest_1samp(a = class_1['Alcohol'], popmean = 14)\n",
    "print('t-value {}, p-value {}'.format(t,p))"
   ]
  },
  {
   "cell_type": "code",
   "execution_count": 9,
   "metadata": {},
   "outputs": [
    {
     "name": "stdout",
     "output_type": "stream",
     "text": [
      "p-value가 0.05 이하 이므로 귀무가설을 기각합니다. \n",
      "1등급 와인의 평균도수는 14도가 아니다. 를 채택합니다.\n",
      "\n",
      "t-value가 음수 값으로 나왔으므로, T-분포의 왼쪽 꼬리에 해당합니다. \n",
      "따라서 대립가설은 1등급 와인의 평균도수는 14도 미만으로 결정됩니다.\n"
     ]
    }
   ],
   "source": [
    "if p > 0.05 : \n",
    "    print('p-value가 0.05 이상 이므로 귀무가설 1등급 와인의 평균도수는 14도이다. 를 채택합니다.')\n",
    "else :\n",
    "    print('p-value가 0.05 이하 이므로 귀무가설을 기각합니다. \\n1등급 와인의 평균도수는 14도가 아니다. 를 채택합니다.\\n')\n",
    "    if t > 0 : \n",
    "        print('t-value가 양수 값으로 나왔으므로, T-분포의 오른쪽 꼬리에 해당합니다. \\n따라서 대립가설은 1등급 와인의 평균도수는 14도 이상으로 결정됩니다.')\n",
    "        \n",
    "    else :\n",
    "        print('t-value가 음수 값으로 나왔으므로, T-분포의 왼쪽 꼬리에 해당합니다. \\n따라서 대립가설은 1등급 와인의 평균도수는 14도 미만으로 결정됩니다.')"
   ]
  },
  {
   "cell_type": "markdown",
   "metadata": {},
   "source": [
    "## 2_2. 가설 세우기 - 독립 표본 T-Test\n",
    "술을 못하는 실습 조교 한진군은 1등급 와인과 2등급 와인의 맛을 비교하였을 때 알콜의 도수가 같다는 생각이 들었다. <br>\n",
    "그래서 친구가 납품하는 와인의 목록(표본집단)을 참고하여 검증해보기로 하였다.<br>\n",
    "귀무가설 H<sub>0</sub>=1등급 와인과 2등급 와인의 평균 알콜 도수는 같을 것이다.\n",
    "\n",
    "$$ T = {\\hat x_1 - \\hat x_2 \\over {s \\sqrt{ {1 \\over N_1} + {1 \\over N_2} }}} $$<br>\n",
    "$$ {\\hat x_1 }=첫\\ 번째\\ 표본\\ 평균$$\n",
    "$$ {\\hat x_2 }=두\\ 번째\\ 표본\\ 평균$$\n",
    "$$ { n=샘플의\\ 수 }$$\n",
    "$$ { s=표본\\ 표준\\ 편차\\ (각각의\\ 표본\\ 분산\\ s^2_1, s^2_2 로부터\\ 다음과\\ 같이\\ 계산할\\ 수\\ 있다.) }$$<br>\n",
    "$$ { s = {\\sqrt{(N_1 - 1)s^2_1 + (N_2 - 1)s^2_1} \\over {N_1 + N_2 - 2}}}$$"
   ]
  },
  {
   "cell_type": "markdown",
   "metadata": {},
   "source": [
    "### 2_2_1. Scipy로 T-Test 해보기\n",
    "먼저 이전 챕터에서 사용했던 1등급 와인과 2등급 와인의 기본적인 통계치를 확인해 봅시다."
   ]
  },
  {
   "cell_type": "code",
   "execution_count": 10,
   "metadata": {},
   "outputs": [
    {
     "data": {
      "image/png": "[encoded data removed]",
      "text/plain": [
       "<Figure size 432x288 with 1 Axes>"
      ]
     },
     "metadata": {
      "needs_background": "light"
     },
     "output_type": "display_data"
    }
   ],
   "source": [
    "plt.hist([class_1['Alcohol'],class_2['Alcohol']], density=True)\n",
    "plt.title('Class 1 & 2 Alcohol Histogram')\n",
    "plt.legend(['Class_1', 'Class_2'])\n",
    "plt.show()"
   ]
  },
  {
   "cell_type": "code",
   "execution_count": 11,
   "metadata": {},
   "outputs": [
    {
     "data": {
      "image/png": "[encoded data removed]",
      "text/plain": [
       "<Figure size 432x288 with 1 Axes>"
      ]
     },
     "metadata": {
      "needs_background": "light"
     },
     "output_type": "display_data"
    }
   ],
   "source": [
    "plt.boxplot([class_1['Alcohol'],class_2['Alcohol']], \n",
    "            labels=['Class_1', 'Class_2'],\n",
    "           meanline=True,\n",
    "           showmeans=True)\n",
    "plt.title('Class_1 & 2 Alcohol Boxplot')\n",
    "plt.show()"
   ]
  },
  {
   "cell_type": "markdown",
   "metadata": {},
   "source": [
    "1등급 와인과 2등급 와인의 Histogram 및 Boxplot을 살펴보았을 때, 이미 알콜 도수의 큰 차이를 확인할 수 있습니다.<br>\n",
    "하지만 가설을 세우고 검증하는 과정을 통해 통계적으로 확인해 보도록 하겠습니다."
   ]
  },
  {
   "cell_type": "code",
   "execution_count": 12,
   "metadata": {},
   "outputs": [
    {
     "name": "stdout",
     "output_type": "stream",
     "text": [
      "1등급 와인의 표본 평균 : 13.74, 표본 분산 : 0.21, 표본 표준편차 : 0.46, 샘플 수 : 59\n"
     ]
    }
   ],
   "source": [
    "class_1_var  = np.var(class_1['Alcohol'])\n",
    "class_1_std  = np.std(class_1['Alcohol'])\n",
    "class_1_n = len(class_1)\n",
    "\n",
    "print('1등급 와인의 표본 평균 : {0:.2f}, 표본 분산 : {1:.2f}, 표본 표준편차 : {2:.2f}, 샘플 수 : {3}'.format(\n",
    "                                                                    class_1_mean,\n",
    "                                                                    class_1_var,\n",
    "                                                                    class_1_std,\n",
    "                                                                    class_1_n))"
   ]
  },
  {
   "cell_type": "code",
   "execution_count": 13,
   "metadata": {},
   "outputs": [
    {
     "name": "stdout",
     "output_type": "stream",
     "text": [
      "2등급 와인의 표본 평균 : 12.28, 표본 분산 : 0.29, 표본 표준편차 : 0.53, 샘플 수 : 71\n"
     ]
    }
   ],
   "source": [
    "class_2_mean = np.mean(class_2['Alcohol'])\n",
    "class_2_var  = np.var(class_2['Alcohol'])\n",
    "class_2_std  = np.std(class_2['Alcohol'])\n",
    "class_2_n = len(class_2)\n",
    "\n",
    "print('2등급 와인의 표본 평균 : {0:.2f}, 표본 분산 : {1:.2f}, 표본 표준편차 : {2:.2f}, 샘플 수 : {3}'.format(\n",
    "                                                                    class_2_mean,\n",
    "                                                                    class_2_var,\n",
    "                                                                    class_2_std,\n",
    "                                                                    class_2_n))"
   ]
  },
  {
   "cell_type": "markdown",
   "metadata": {},
   "source": [
    "Scipy의 stats.ttest_ind() 함수를 통해 귀무가설 H<sub>0</sub>을 검증해보겠습니다.<br>\n",
    "매개변수 a 에 데이터 샘플 1, b에 데이터 샘플 2를 대입해 ttest를 진행합니다.<br>\n",
    "해당 함수는 t-value와 p-value를 반환하는데 t-value를 통해 대립가설을 결정하고, p-value를 통해 귀무가설 기각 유무를 판단합니다."
   ]
  },
  {
   "cell_type": "code",
   "execution_count": 14,
   "metadata": {},
   "outputs": [
    {
     "name": "stdout",
     "output_type": "stream",
     "text": [
      "t-value 16.478551495156523, p-value 1.9551698789379755e-33\n"
     ]
    }
   ],
   "source": [
    "t,p = stats.ttest_ind(class_1['Alcohol'], class_2['Alcohol'])\n",
    "print('t-value {}, p-value {}'.format(t,p))"
   ]
  },
  {
   "cell_type": "code",
   "execution_count": 15,
   "metadata": {},
   "outputs": [
    {
     "name": "stdout",
     "output_type": "stream",
     "text": [
      "p-value가 0.05 이하 이므로 귀무가설을 기각합니다. \n",
      "1등급 와인과 2등급 와인의 평균 도수는 다르다.\n",
      "\n",
      "t-value가 양수 값으로 나왔으므로, T-분포의 오른쪽 꼬리에 해당합니다. \n",
      "따라서 대립 가설은 1등급 와인의 평균도수는 2등급 와인의 평균도수보다 높다. 로 결정됩니다.\n"
     ]
    }
   ],
   "source": [
    "if p > 0.05 : \n",
    "    print('p-value가 0.05 이상 이므로 귀무가설 1등급 와인과 2등급 와인의 평균 도수는 같다를 채택합니다.')\n",
    "else :\n",
    "    print('p-value가 0.05 이하 이므로 귀무가설을 기각합니다. \\n1등급 와인과 2등급 와인의 평균 도수는 다르다.\\n')\n",
    "    if t > 0 : \n",
    "        print('t-value가 양수 값으로 나왔으므로, T-분포의 오른쪽 꼬리에 해당합니다. \\n따라서 대립 가설은 1등급 와인의 평균도수는 2등급 와인의 평균도수보다 높다. 로 결정됩니다.')\n",
    "        \n",
    "    else :\n",
    "        print('t-value가 음수 값으로 나왔으므로, T-분포의 왼쪽 꼬리에 해당합니다. \\n따라서 대립 가설은 1등급 와인의 평균도수는 2등급 와인의 평균도수보다 낮다. 로 결정됩니다.')"
   ]
  },
  {
   "cell_type": "markdown",
   "metadata": {},
   "source": [
    "## 2_3. 가설 세우기 - 대응 표본 T-Test\n",
    "술에 취한 실습 조교 한진군은 1등급 와인에 정체모를 어떤 술을 섞어 마셔보았다.<br> \n",
    "이미 많이 술에 취한 한진군은 술을 섞은 후에도 기존의 1등급 와인과 같은 알콜 도수라고 생각하였다.<br>\n",
    "그래서 친구가 납품하는 와인의 목록(표본집단)을 참고하여 검증해보기로 하였다.<br>\n",
    "귀무가설 H<sub>0</sub>=1등급 와인에 섞은 정체 모를 술이 1등급 와인의 알콜 도수를 변화시키지 않았다.\n",
    "\n",
    "$$ T = {\\hat x_d - \\mu_0 \\over {s_d \\over \\sqrt n}} $$<br>\n",
    "$$ {\\hat x_d}=표본\\ 평균$$\n",
    "$$ {\\hat x_d = x_{i,1} - x_{i,2}}$$\n",
    "$$ {\\mu_0}=검증하고자\\ 하는\\ 평균$$\n",
    "$$ { s_d=표본\\ 표준\\ 편차\\ (Standard Error,SE\\ 라고\\ 표현하기도\\ 함) }$$\n",
    "$$ { n=샘플의\\ 수 }$$<br>"
   ]
  },
  {
   "cell_type": "markdown",
   "metadata": {},
   "source": [
    "### 2_3_1. Scipy로 T-Test 해보기\n",
    "먼저 1등급 와인과 정체모를 어떤 술이 섞인 1등급 와인의 기본적인 통계치를 확인해 봅시다."
   ]
  },
  {
   "cell_type": "code",
   "execution_count": 16,
   "metadata": {},
   "outputs": [],
   "source": [
    "x2 = class_1['Alcohol'] + stats.norm(0.01, 0.2).rvs(class_1_n)"
   ]
  },
  {
   "cell_type": "code",
   "execution_count": 17,
   "metadata": {},
   "outputs": [
    {
     "data": {
      "image/png": "[encoded data removed]",
      "text/plain": [
       "<Figure size 432x288 with 1 Axes>"
      ]
     },
     "metadata": {
      "needs_background": "light"
     },
     "output_type": "display_data"
    }
   ],
   "source": [
    "plt.hist([class_1['Alcohol'], x2], density=True)\n",
    "plt.title('Class_1 & Unkown Alcohol Histogram')\n",
    "plt.legend([ 'Class_1','Unknown'])\n",
    "plt.show()"
   ]
  },
  {
   "cell_type": "code",
   "execution_count": 18,
   "metadata": {},
   "outputs": [
    {
     "data": {
      "image/png": "[encoded data removed]",
      "text/plain": [
       "<Figure size 432x288 with 1 Axes>"
      ]
     },
     "metadata": {
      "needs_background": "light"
     },
     "output_type": "display_data"
    }
   ],
   "source": [
    "plt.boxplot([class_1['Alcohol'], x2], \n",
    "            labels=['Class_1', 'Unknown'],\n",
    "           meanline=True,\n",
    "           showmeans=True)\n",
    "plt.title('Class_1 & Unknown Alcohol Boxplot')\n",
    "plt.show()"
   ]
  },
  {
   "cell_type": "markdown",
   "metadata": {},
   "source": [
    "1등급 와인과 정체모를 술이 섞인 1등급 와인의 Histogram 및 Boxplot을 살펴보았을 때, 알콜 도수의 약간의 차이를 확인할 수 있었습니다.<br>\n",
    "하지만 가설을 세우고 검증하는 과정을 통해 통계적으로 확인해 보도록 하겠습니다."
   ]
  },
  {
   "cell_type": "code",
   "execution_count": 19,
   "metadata": {},
   "outputs": [
    {
     "name": "stdout",
     "output_type": "stream",
     "text": [
      "1등급 와인의 표본 평균 : 13.74, 표본 분산 : 0.21, 표본 표준편차 : 0.46, 샘플 수 : 59\n"
     ]
    }
   ],
   "source": [
    "class_1_mean = np.mean(class_1['Alcohol'])\n",
    "class_1_var  = np.var(class_1['Alcohol'])\n",
    "class_1_std  = np.std(class_1['Alcohol'])\n",
    "class_1_n = len(class_1)\n",
    "\n",
    "print('1등급 와인의 표본 평균 : {0:.2f}, 표본 분산 : {1:.2f}, 표본 표준편차 : {2:.2f}, 샘플 수 : {3}'.format(\n",
    "                                                                    class_1_mean,\n",
    "                                                                    class_1_var,\n",
    "                                                                    class_1_std,\n",
    "                                                                    class_1_n))"
   ]
  },
  {
   "cell_type": "markdown",
   "metadata": {},
   "source": [
    "Scipy의 stats.ttest_rel() 함수를 통해 귀무가설 H<sub>0</sub>을 검증해보겠습니다.<br>\n",
    "매개변수 a 에 데이터 샘플 1, b에 추가적인 처리가 된 데이터 샘플 1를 대입해 ttest를 진행합니다.<br>\n",
    "해당 함수는 t-value와 p-value를 반환하는데 t-value를 통해 대립가설을 결정하고, p-value를 통해 귀무가설 기각 유무를 판단합니다."
   ]
  },
  {
   "cell_type": "code",
   "execution_count": 20,
   "metadata": {},
   "outputs": [
    {
     "name": "stdout",
     "output_type": "stream",
     "text": [
      "t-value -1.768725826573801, p-value 0.0821978176975281\n"
     ]
    }
   ],
   "source": [
    "t,p = stats.ttest_rel(class_1['Alcohol'], x2)\n",
    "print('t-value {}, p-value {}'.format(t,p))"
   ]
  },
  {
   "cell_type": "code",
   "execution_count": 21,
   "metadata": {},
   "outputs": [
    {
     "name": "stdout",
     "output_type": "stream",
     "text": [
      "p-value가 0.05 이상 이므로 귀무가설 1등급 와인에 섞은 정체 모를 술이 1등급 와인의 알콜 도수를 변화시키지 않았다를 채택합니다.\n"
     ]
    }
   ],
   "source": [
    "if p > 0.05 : \n",
    "    print('p-value가 0.05 이상 이므로 귀무가설 1등급 와인에 섞은 정체 모를 술이 1등급 와인의 알콜 도수를 변화시키지 않았다를 채택합니다.')\n",
    "else :\n",
    "    print('p-value가 0.05 이하 이므로 귀무가설을 기각합니다. \\n1등급 와인에 섞은 정체 모를 술이 1등급 와인의 알콜 도수를 변화시켰다.\\n')\n",
    "    if t > 0 : \n",
    "        print('t-value가 양수 값으로 나왔으므로, T-분포의 오른쪽 꼬리에 해당합니다. \\n따라서 대립 가설은 1등급 와인에 섞은 정체 모를 술이 1등급 와인의 알콜 도수를 높혔다로 결정됩니다.')\n",
    "    else :\n",
    "        print('t-value가 음수 값으로 나왔으므로, T-분포의 왼쪽 꼬리에 해당합니다. \\n따라서 대립 가설은 1등급 와인에 섞은 정체 모를 술이 1등급 와인의 알콜 도수를 낮췄다로 결정됩니다.')"
   ]
  },
  {
   "cell_type": "markdown",
   "metadata": {},
   "source": [
    "## 3. ANOVA \n",
    "분산 분석 (Analysis of Variance, ANOVA)은 통계학에서 두 개 이상 다수 집단을 비교하고자 할 때 집단 내의 분산, 총평균과 각 집단의 평균 차이에 의해 생긴 집단간 분산의 비교를 통해 만들어진 F분포를 이용하여 가설검정을 하는 방법입니다.<br>\n",
    "ANOVA에 대해서는 간단하게 짚고 넘어가겠습니다."
   ]
  },
  {
   "cell_type": "markdown",
   "metadata": {},
   "source": [
    "### 3_1 가설 세우기 - 일원분산분석(one-way ANOVA)\n",
    "종속변인은 1개이고, 독립변인의 집단도 1개인 경우입니다.<br>\n",
    "와인 데이터를 예를 들어, 알콜 도수가 2등급과 3등급을 나누는 것에 영향을 미치는가? 입니다.<br>\n",
    "종속변인 : 와인 등급<br>\n",
    "독립변인 : 알콜 도수<br>\n",
    "귀무가설H<sub>0</sub>=2등급과 3등급의 알콜 도수가 같을 것이다. (등급을 나누는 것에 영향을 미치지 않을 것이다.)"
   ]
  },
  {
   "cell_type": "markdown",
   "metadata": {},
   "source": [
    "### 3_1_1  Scipy로 ANOVA 해보기 - 일원 분산 분석 \n",
    "먼저 이전 챕터에서 사용했던 2등급 와인과 3등급 와인의 기본적인 통계치를 확인해 봅시다."
   ]
  },
  {
   "cell_type": "code",
   "execution_count": 22,
   "metadata": {},
   "outputs": [
    {
     "data": {
      "image/png": "[encoded data removed]",
      "text/plain": [
       "<Figure size 432x288 with 1 Axes>"
      ]
     },
     "metadata": {
      "needs_background": "light"
     },
     "output_type": "display_data"
    }
   ],
   "source": [
    "plt.hist([class_2['Alcohol'], class_3['Alcohol']], density=True)\n",
    "plt.title('Class_2 & 3 Alcohol Histogram')\n",
    "plt.legend(['Class_2', 'Class_3'])\n",
    "plt.show()"
   ]
  },
  {
   "cell_type": "code",
   "execution_count": 23,
   "metadata": {},
   "outputs": [
    {
     "data": {
      "image/png": "[encoded data removed]",
      "text/plain": [
       "<Figure size 432x288 with 1 Axes>"
      ]
     },
     "metadata": {
      "needs_background": "light"
     },
     "output_type": "display_data"
    }
   ],
   "source": [
    "plt.boxplot([class_2['Alcohol'], class_3['Alcohol']], \n",
    "            labels=['Class_2', 'Class_3'],\n",
    "           meanline=True,\n",
    "           showmeans=True)\n",
    "plt.title('Class_2 & 3 Alcohol Boxplot')\n",
    "plt.show()"
   ]
  },
  {
   "cell_type": "markdown",
   "metadata": {},
   "source": [
    "2등급 와인과 3등급 와인의 Histogram 및 Boxplot을 살펴보았을 때, 이미 알콜 도수의 차이를 확인할 수 있습니다.<br>\n",
    "하지만 가설을 세우고 검증하는 과정을 통해 통계적으로 확인해 보도록 하겠습니다."
   ]
  },
  {
   "cell_type": "code",
   "execution_count": 24,
   "metadata": {},
   "outputs": [
    {
     "name": "stdout",
     "output_type": "stream",
     "text": [
      "2등급 와인의 표본 평균 : 12.28, 표본 분산 : 0.29, 표본 표준편차 : 0.53, 샘플 수 : 71\n"
     ]
    }
   ],
   "source": [
    "class_2_mean = np.mean(class_2['Alcohol'])\n",
    "class_2_var  = np.var(class_2['Alcohol'])\n",
    "class_2_std  = np.std(class_2['Alcohol'])\n",
    "class_2_n = len(class_2)\n",
    "\n",
    "print('2등급 와인의 표본 평균 : {0:.2f}, 표본 분산 : {1:.2f}, 표본 표준편차 : {2:.2f}, 샘플 수 : {3}'.format(\n",
    "                                                                    class_2_mean,\n",
    "                                                                    class_2_var,\n",
    "                                                                    class_2_std,\n",
    "                                                                    class_2_n))"
   ]
  },
  {
   "cell_type": "code",
   "execution_count": 25,
   "metadata": {},
   "outputs": [
    {
     "name": "stdout",
     "output_type": "stream",
     "text": [
      "3등급 와인의 표본 평균 : 13.15, 표본 분산 : 0.28, 표본 표준편차 : 0.52, 샘플 수 : 48\n"
     ]
    }
   ],
   "source": [
    "class_3_mean = np.mean(class_3['Alcohol'])\n",
    "class_3_var  = np.var(class_3['Alcohol'])\n",
    "class_3_std  = np.std(class_3['Alcohol'])\n",
    "class_3_n = len(class_3)\n",
    "\n",
    "print('3등급 와인의 표본 평균 : {0:.2f}, 표본 분산 : {1:.2f}, 표본 표준편차 : {2:.2f}, 샘플 수 : {3}'.format(\n",
    "                                                                    class_3_mean,\n",
    "                                                                    class_3_var,\n",
    "                                                                    class_3_std,\n",
    "                                                                    class_3_n))"
   ]
  },
  {
   "cell_type": "code",
   "execution_count": 26,
   "metadata": {},
   "outputs": [
    {
     "name": "stdout",
     "output_type": "stream",
     "text": [
      "f-value -1.768725826573801, p-value 1.8274340185934202e-14\n"
     ]
    }
   ],
   "source": [
    "f, p = stats.f_oneway(class_2['Alcohol'], class_3['Alcohol'])\n",
    "print('f-value {}, p-value {}'.format(t,p))"
   ]
  },
  {
   "cell_type": "code",
   "execution_count": 27,
   "metadata": {},
   "outputs": [
    {
     "name": "stdout",
     "output_type": "stream",
     "text": [
      "p-value가 0.05 이하 이므로 귀무가설을 기각합니다. \n",
      "알콜 도수는 2등급과 3등급을 나누는 것에 영향을 준다.\n"
     ]
    }
   ],
   "source": [
    "if p > 0.05 : \n",
    "    print('p-value가 0.05 이상 이므로 귀무가설 2등급과 3등급의 알콜 도수가 같을 것이다. 를 채택합니다.')\n",
    "else :\n",
    "    print('p-value가 0.05 이하 이므로 귀무가설을 기각합니다. \\n알콜 도수는 2등급과 3등급을 나누는 것에 영향을 준다.')\n",
    "    "
   ]
  },
  {
   "cell_type": "markdown",
   "metadata": {},
   "source": [
    "Histogram과 Botplot을 통해 알콜 도수에 따라 등급 차이가 난다는것을 확인했고, 실제로 ANOVA 분석을 통해서도 확인할 수 있었습니다.<br>\n",
    "하지만, 여기에서 주의할 점은 와인의 등급은 알콜 도수 하나로 정해지는 것이 아니라 여러가지 성분들의 조합으로 정해진다는 점을 유의하시면 좋겠습니다."
   ]
  },
  {
   "cell_type": "markdown",
   "metadata": {},
   "source": [
    "### Reference \n",
    "- 스튜던트 t 분포 - https://ko.wikipedia.org/wiki/%EC%8A%A4%ED%8A%9C%EB%8D%98%ED%8A%B8_t_%EB%B6%84%ED%8F%AC<br>\n",
    "- 중심극한정리 - https://ko.wikipedia.org/wiki/%EC%A4%91%EC%8B%AC_%EA%B7%B9%ED%95%9C_%EC%A0%95%EB%A6%AC<br>\n",
    "- 신뢰구간 - https://en.wikipedia.org/wiki/Confidence_interval, \n",
    "https://ko.wikipedia.org/wiki/%EC%8B%A0%EB%A2%B0_%EA%B5%AC%EA%B0%84<br>\n",
    "- 유의수준 - https://ko.wikipedia.org/wiki/%EC%9C%A0%EC%9D%98_%EC%88%98%EC%A4%80<br>\n",
    "- 유의확률(p-value) - https://ko.wikipedia.org/wiki/%EC%9C%A0%EC%9D%98_%ED%99%95%EB%A5%A0<br>\n",
    "- T-Test https://datascienceschool.net/view-notebook/14bde0cc05514b2cae2088805ef9ed52/<br>\n",
    "- ANOVA https://en.wikipedia.org/wiki/Analysis_of_variance"
   ]
  }
 ],
 "metadata": {
  "kernelspec": {
   "display_name": "samsung",
   "language": "python",
   "name": "samsung"
  },
  "language_info": {
   "codemirror_mode": {
    "name": "ipython",
    "version": 3
   },
   "file_extension": ".py",
   "mimetype": "text/x-python",
   "name": "python",
   "nbconvert_exporter": "python",
   "pygments_lexer": "ipython3",
   "version": "3.6.7"
  }
 },
 "nbformat": 4,
 "nbformat_minor": 2
}
