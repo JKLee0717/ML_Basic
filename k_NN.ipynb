{
 "cells": [
  {
   "cell_type": "markdown",
   "metadata": {},
   "source": [
    "Lab02\n",
    "============"
   ]
  },
  {
   "cell_type": "markdown",
   "metadata": {},
   "source": [
    "# Objective\n",
    "\n",
    "분류기법 중 하나인 거리기반 모델 k-Nearest Neighbors를 이해하고 사용하는 것 입니다"
   ]
  },
  {
   "cell_type": "markdown",
   "metadata": {},
   "source": [
    "\n",
    "\n",
    "# k-Nearest Neighbors\n",
    "\n",
    "k-Nearest Neighbors(k-NN) 알고리즘은 분류 문제를 해결하기 위해 사용되는 것으로,\n",
    "\n",
    "분류를 시도할 데이터로부터 k개의 **가장 근접한 데이터**를 확인하여 분류하는 알고리즘입니다.\n",
    "\n",
    "![title](Images/K-NN.png)\n",
    "\n",
    "따라서 거리를 구해야 하며, 거리는 일반적으로 차이의 제곱을 더한후 제곱근을 취한 값을 사용합니다\n",
    "\n",
    "이것을 Euclidean distance라고 부릅니다\n",
    "\n",
    "\n",
    "### 알고리즘 특징\n",
    "1. 별도의 학습이 필요 없습니다\n",
    "\n",
    "    * 분류할 데이터가 주어지면 그 때부터, 가장 가까운 k를 선택하기위하여 계산을 시작하기 때문에 Lazy Learner라고 불립니다\n",
    "    \n",
    "    * 또한 train용 데이터를 메모리에 올려둬야 하기 때문에, 공간을 많이 차지합니다\n",
    "<br><br>\n",
    "\n",
    "2. 결과가 나오기 까지 시간이 오래걸립니다\n",
    "\n",
    "    * 위에서 말한 바와 같이 분류할 데이터가 주어진 순간부터 계산을 시작하기 때문에, training에는 시간이 들지 않지만 test를 하는 동안에는 시간이 많이 소요됩니다\n",
    "    \n",
    "    \n",
    "3. k의 값에 따른 성능 변화\n",
    "\n",
    "    * k값에 따라 같은 테스트 데이터라도 분류된 클래스가 다를 수 있습니다\n",
    "    * 거리를 구하는 방법이 바뀌어도 분류되는 클래스가 다를 수 있습니다\n",
    "    \n",
    "    \n",
    "### 알고리즘 순서\n",
    "\n",
    "1. 학습 데이터의 특징 값(벡터)과 항목 분류명(클래스명)을 저장합니다\n",
    "\n",
    "2. 입력 데이터의 특징 값과 거리가 가장 가까운 k개의 데이터를 학습데이터로부터 수집합니다\n",
    "\n",
    "3. 수집된 데이터 중 가장 큰 비율을 가진 항목으로 입력 데이터의 항목 분류명을 반환합니다"
   ]
  },
  {
   "cell_type": "code",
   "execution_count": 1,
   "metadata": {},
   "outputs": [],
   "source": [
    "import numpy as np\n",
    "import pandas as pd\n",
    "import scipy as stats\n",
    "import matplotlib.pyplot as plt\n",
    "import random\n",
    "from os.path import join\n",
    "from matplotlib.colors import ListedColormap\n",
    "from sklearn import neighbors, datasets\n",
    "from sklearn.model_selection import train_test_split"
   ]
  },
  {
   "cell_type": "markdown",
   "metadata": {},
   "source": [
    "# 1. 데이터 살펴보기\n",
    "이번 실습에서 우리가 사용할 데이터는 붓꽃 데이터입니다\n",
    "\n",
    "각 붓꽃마다 꽃받침 길이, 꽃받침 너비, 꽃잎의 길이, 꽃잎의 너비 정보, 그리고 어떤 붓꽃인지 저장되어있으며, 150여개의 sample이 존재합니다\n",
    "\n"
   ]
  },
  {
   "cell_type": "code",
   "execution_count": 2,
   "metadata": {},
   "outputs": [
    {
     "name": "stdout",
     "output_type": "stream",
     "text": [
      "sample 갯수 : 150\n"
     ]
    },
    {
     "data": {
      "text/html": [
       "<div>\n",
       "<style scoped>\n",
       "    .dataframe tbody tr th:only-of-type {\n",
       "        vertical-align: middle;\n",
       "    }\n",
       "\n",
       "    .dataframe tbody tr th {\n",
       "        vertical-align: top;\n",
       "    }\n",
       "\n",
       "    .dataframe thead th {\n",
       "        text-align: right;\n",
       "    }\n",
       "</style>\n",
       "<table border=\"1\" class=\"dataframe\">\n",
       "  <thead>\n",
       "    <tr style=\"text-align: right;\">\n",
       "      <th></th>\n",
       "      <th>Id</th>\n",
       "      <th>SepalLengthCm</th>\n",
       "      <th>SepalWidthCm</th>\n",
       "      <th>PetalLengthCm</th>\n",
       "      <th>PetalWidthCm</th>\n",
       "      <th>Species</th>\n",
       "    </tr>\n",
       "  </thead>\n",
       "  <tbody>\n",
       "    <tr>\n",
       "      <th>0</th>\n",
       "      <td>1</td>\n",
       "      <td>5.1</td>\n",
       "      <td>3.5</td>\n",
       "      <td>1.4</td>\n",
       "      <td>0.2</td>\n",
       "      <td>Iris-setosa</td>\n",
       "    </tr>\n",
       "    <tr>\n",
       "      <th>1</th>\n",
       "      <td>2</td>\n",
       "      <td>4.9</td>\n",
       "      <td>3.0</td>\n",
       "      <td>1.4</td>\n",
       "      <td>0.2</td>\n",
       "      <td>Iris-setosa</td>\n",
       "    </tr>\n",
       "    <tr>\n",
       "      <th>2</th>\n",
       "      <td>3</td>\n",
       "      <td>4.7</td>\n",
       "      <td>3.2</td>\n",
       "      <td>1.3</td>\n",
       "      <td>0.2</td>\n",
       "      <td>Iris-setosa</td>\n",
       "    </tr>\n",
       "    <tr>\n",
       "      <th>3</th>\n",
       "      <td>4</td>\n",
       "      <td>4.6</td>\n",
       "      <td>3.1</td>\n",
       "      <td>1.5</td>\n",
       "      <td>0.2</td>\n",
       "      <td>Iris-setosa</td>\n",
       "    </tr>\n",
       "    <tr>\n",
       "      <th>4</th>\n",
       "      <td>5</td>\n",
       "      <td>5.0</td>\n",
       "      <td>3.6</td>\n",
       "      <td>1.4</td>\n",
       "      <td>0.2</td>\n",
       "      <td>Iris-setosa</td>\n",
       "    </tr>\n",
       "  </tbody>\n",
       "</table>\n",
       "</div>"
      ],
      "text/plain": [
       "   Id  SepalLengthCm  SepalWidthCm  PetalLengthCm  PetalWidthCm      Species\n",
       "0   1            5.1           3.5            1.4           0.2  Iris-setosa\n",
       "1   2            4.9           3.0            1.4           0.2  Iris-setosa\n",
       "2   3            4.7           3.2            1.3           0.2  Iris-setosa\n",
       "3   4            4.6           3.1            1.5           0.2  Iris-setosa\n",
       "4   5            5.0           3.6            1.4           0.2  Iris-setosa"
      ]
     },
     "execution_count": 2,
     "metadata": {},
     "output_type": "execute_result"
    }
   ],
   "source": [
    "iris_analysis = pd.read_csv(join('data', 'Iris.csv'))\n",
    "print('sample 갯수 : {}'.format(iris_analysis.shape[0]))\n",
    "iris_analysis.head()"
   ]
  },
  {
   "cell_type": "markdown",
   "metadata": {},
   "source": [
    "각 클래스 별 데이터의 차이를 알아보기 위해 클래스로 분류하겠습니다.\n",
    "이 데이터에는 setosa, versicolor, virginica 3 종의 붓꽃 종류가 있습니다."
   ]
  },
  {
   "cell_type": "code",
   "execution_count": 3,
   "metadata": {},
   "outputs": [],
   "source": [
    "iris_setosa = iris_analysis.loc[iris_analysis['Species'] == 'Iris-setosa']\n",
    "iris_versicolor = iris_analysis.loc[iris_analysis['Species'] == 'Iris-versicolor']\n",
    "iris_virginica = iris_analysis.loc[iris_analysis['Species'] == 'Iris-virginica']"
   ]
  },
  {
   "cell_type": "markdown",
   "metadata": {},
   "source": [
    "각 데이터에 대해 종류별로 Boxplot을 통해 비교해봅시다."
   ]
  },
  {
   "cell_type": "code",
   "execution_count": 4,
   "metadata": {},
   "outputs": [
    {
     "data": {
      "image/png": "[encoded data removed]",
      "text/plain": [
       "<Figure size 432x288 with 4 Axes>"
      ]
     },
     "metadata": {
      "needs_background": "light"
     },
     "output_type": "display_data"
    }
   ],
   "source": [
    "### 주황색은 median, 초록색은 mean\n",
    "\n",
    "fig, axs = plt.subplots(2,2)\n",
    "\n",
    "#꽃받침의 길이\n",
    "axs[0, 0].boxplot([iris_setosa['SepalLengthCm'], iris_versicolor['SepalLengthCm'], iris_virginica['SepalLengthCm']],\n",
    "           labels = ['seotosa', 'versicolor', 'virginica'],\n",
    "           meanline = True,\n",
    "           showmeans = True)\n",
    "axs[0, 0].set_title('Sepal length Boxplot')\n",
    "\n",
    "#꽃받침의 너비\n",
    "axs[0, 1].boxplot([iris_setosa['SepalWidthCm'], iris_versicolor['SepalWidthCm'], iris_virginica['SepalWidthCm']],\n",
    "           labels = ['seotosa', 'versicolor', 'virginica'],\n",
    "           meanline = True,\n",
    "           showmeans = True)\n",
    "axs[0, 1].set_title('Sepal width Boxplot')\n",
    "\n",
    "#꽃잎의 길이\n",
    "axs[1, 0].boxplot([iris_setosa['PetalLengthCm'], iris_versicolor['PetalLengthCm'], iris_virginica['PetalLengthCm']],\n",
    "           labels = ['seotosa', 'versicolor', 'virginica'],\n",
    "           meanline = True,\n",
    "           showmeans = True)\n",
    "axs[1, 0].set_title('Petal length Boxplot')\n",
    "\n",
    "#꽃잎의 너비\n",
    "axs[1, 1].boxplot([iris_setosa['PetalWidthCm'], iris_versicolor['PetalWidthCm'], iris_virginica['PetalWidthCm']],\n",
    "           labels = ['seotosa', 'versicolor', 'virginica'],\n",
    "           meanline = True,\n",
    "           showmeans = True)\n",
    "axs[1, 1].set_title('Petal width Boxplot')\n",
    "\n",
    "fig.subplots_adjust(left = 0.01, right = 2, bottom = 0.05, top = 2, hspace = 0.3, wspace = 0.3)\n",
    "\n",
    "plt.show()"
   ]
  },
  {
   "cell_type": "code",
   "execution_count": 5,
   "metadata": {},
   "outputs": [
    {
     "data": {
      "text/html": [
       "<div>\n",
       "<style scoped>\n",
       "    .dataframe tbody tr th:only-of-type {\n",
       "        vertical-align: middle;\n",
       "    }\n",
       "\n",
       "    .dataframe tbody tr th {\n",
       "        vertical-align: top;\n",
       "    }\n",
       "\n",
       "    .dataframe thead th {\n",
       "        text-align: right;\n",
       "    }\n",
       "</style>\n",
       "<table border=\"1\" class=\"dataframe\">\n",
       "  <thead>\n",
       "    <tr style=\"text-align: right;\">\n",
       "      <th></th>\n",
       "      <th>sepal.length</th>\n",
       "      <th>sepal.width</th>\n",
       "      <th>petal.length</th>\n",
       "      <th>petal.width</th>\n",
       "    </tr>\n",
       "  </thead>\n",
       "  <tbody>\n",
       "    <tr>\n",
       "      <th>0</th>\n",
       "      <td>5.1</td>\n",
       "      <td>3.5</td>\n",
       "      <td>1.4</td>\n",
       "      <td>0.2</td>\n",
       "    </tr>\n",
       "    <tr>\n",
       "      <th>1</th>\n",
       "      <td>4.9</td>\n",
       "      <td>3.0</td>\n",
       "      <td>1.4</td>\n",
       "      <td>0.2</td>\n",
       "    </tr>\n",
       "    <tr>\n",
       "      <th>2</th>\n",
       "      <td>4.7</td>\n",
       "      <td>3.2</td>\n",
       "      <td>1.3</td>\n",
       "      <td>0.2</td>\n",
       "    </tr>\n",
       "    <tr>\n",
       "      <th>3</th>\n",
       "      <td>4.6</td>\n",
       "      <td>3.1</td>\n",
       "      <td>1.5</td>\n",
       "      <td>0.2</td>\n",
       "    </tr>\n",
       "    <tr>\n",
       "      <th>4</th>\n",
       "      <td>5.0</td>\n",
       "      <td>3.6</td>\n",
       "      <td>1.4</td>\n",
       "      <td>0.2</td>\n",
       "    </tr>\n",
       "  </tbody>\n",
       "</table>\n",
       "</div>"
      ],
      "text/plain": [
       "   sepal.length  sepal.width  petal.length  petal.width\n",
       "0           5.1          3.5           1.4          0.2\n",
       "1           4.9          3.0           1.4          0.2\n",
       "2           4.7          3.2           1.3          0.2\n",
       "3           4.6          3.1           1.5          0.2\n",
       "4           5.0          3.6           1.4          0.2"
      ]
     },
     "execution_count": 5,
     "metadata": {},
     "output_type": "execute_result"
    }
   ],
   "source": [
    "iris = datasets.load_iris()\n",
    "\n",
    "pd.DataFrame(iris.data, columns=[\"sepal.length\", \"sepal.width\", \"petal.length\", \"petal.width\"]).head()"
   ]
  },
  {
   "cell_type": "markdown",
   "metadata": {},
   "source": [
    "# 2. 간단한 전처리\n",
    "시각화의 편리함을 위해 우리는 꽃잎의 길이, 꽃잎의 너비 2가지의 데이터를 활용하여 붓꽃의 종을 분류할 계획입니다.\n",
    "\n",
    "별도의 학습이라는 것이 필요 없지만 정확도를 살펴보기 위해 학습용 데이터와 테스트용 데이터를 7:3의 비율로 나누었습니다.\n",
    "\n",
    "그래프의 각 점은 데이터를 의미 하며 붉은색 점이 저희가 분류할 데이터입니다."
   ]
  },
  {
   "cell_type": "code",
   "execution_count": 6,
   "metadata": {
    "scrolled": true
   },
   "outputs": [
    {
     "data": {
      "image/png": "[encoded data removed]",
      "text/plain": [
       "<Figure size 432x288 with 1 Axes>"
      ]
     },
     "metadata": {
      "needs_background": "light"
     },
     "output_type": "display_data"
    }
   ],
   "source": [
    "X, prediction_X, y, prediction_y = train_test_split(iris.data[:,2:4], iris.target, test_size=0.3, random_state = 1)\n",
    "plt.scatter(X[:,0],X[:,1],marker='o', c = y)\n",
    "plt.scatter(prediction_X[:,0], prediction_X[:,1],marker='o',c='r')\n",
    "plt.show()"
   ]
  },
  {
   "cell_type": "markdown",
   "metadata": {},
   "source": [
    "# 3. Scratch로 분류 해보기"
   ]
  },
  {
   "cell_type": "markdown",
   "metadata": {},
   "source": [
    "### Function get_k_points\n",
    "임의의 feature와 학습 데이터들 사이의 유클리드 거리를 구하고 이를 정렬한 후 오름차순으로 정렬된 k개의 거리를 반환하는 함수입니다."
   ]
  },
  {
   "cell_type": "code",
   "execution_count": 27,
   "metadata": {},
   "outputs": [],
   "source": [
    "def get_k_points(point, k):\n",
    "    euclidean_distances = np.sqrt(np.sum((X - point) ** 2, axis = 1))\n",
    "    return np.argsort(euclidean_distances)[:k]"
   ]
  },
  {
   "cell_type": "markdown",
   "metadata": {},
   "source": [
    "### Function predict\n",
    "먼저 추정할 샘플의 feature들을 입력받은 후 get_k_points를 수행하여 다른 데이터들보다 가까운 k개의 데이터를 선별합니다<br> \n",
    "이후 어떤 Species에 선별된 데이터들이 가장 많이 속하는지 찾아보고 그 중 가장 많이 속한 Species를 예측결과로 사용하는 함수입니다"
   ]
  },
  {
   "cell_type": "code",
   "execution_count": 8,
   "metadata": {},
   "outputs": [],
   "source": [
    "def predict(predict_point, k):\n",
    "    results = []\n",
    "    for point in predict_point:\n",
    "        min_distances = get_k_points(point, k)\n",
    "        \n",
    "        Species= []\n",
    "        Species_num = [0, 0, 0]\n",
    "        for close_point in min_distances:\n",
    "            Species.append(y[close_point])\n",
    "            \n",
    "        for temp in Species:\n",
    "            Species_num[temp] += 1\n",
    "        results.append([Species_num.index(max(Species_num))])\n",
    "    return results"
   ]
  },
  {
   "cell_type": "markdown",
   "metadata": {},
   "source": [
    "### Predict"
   ]
  },
  {
   "cell_type": "markdown",
   "metadata": {},
   "source": [
    "추정할 점들에 대한 Species결과를 확인해봅니다.<br>\n",
    "Scratch로 구현한 kNN Algorithm에서는 15개의 보다 가까운 이웃을 찾아 예측해보려합니다"
   ]
  },
  {
   "cell_type": "code",
   "execution_count": 9,
   "metadata": {},
   "outputs": [
    {
     "name": "stdout",
     "output_type": "stream",
     "text": [
      "[[0], [1], [1], [0], [2], [1], [2], [0], [0], [2], [1], [0], [2], [1], [1], [0], [1], [1], [0], [0], [1], [1], [2], [0], [2], [1], [0], [0], [1], [2], [1], [2], [1], [2], [2], [0], [1], [0], [1], [2], [2], [0], [1], [2], [1]]\n"
     ]
    }
   ],
   "source": [
    "print(predict(prediction_X, 15))"
   ]
  },
  {
   "cell_type": "markdown",
   "metadata": {},
   "source": [
    "추정한 결과와 실제 데이터가 일치하는지 출력해봅니다."
   ]
  },
  {
   "cell_type": "code",
   "execution_count": 33,
   "metadata": {},
   "outputs": [
    {
     "name": "stdout",
     "output_type": "stream",
     "text": [
      "[ True  True  True  True  True  True  True  True  True  True  True  True\n",
      "  True  True  True  True  True  True  True  True  True  True False  True\n",
      "  True  True  True  True  True  True  True  True  True  True  True  True\n",
      "  True  True  True  True  True  True  True  True  True]\n",
      "\n",
      "Accuracy = 97.78%\n"
     ]
    }
   ],
   "source": [
    "result = predict(prediction_X, 15)\n",
    "pred=np.array([result[i] == prediction_y[i] for i in range(0,prediction_y.size)]).reshape(-1,)\n",
    "print(pred)\n",
    "\n",
    "print('\\nAccuracy = %.2f%%'%(sum(pred)/len(pred)*100))"
   ]
  },
  {
   "cell_type": "markdown",
   "metadata": {},
   "source": [
    "# 4. sklearn으로 분류해보기"
   ]
  },
  {
   "cell_type": "code",
   "execution_count": 13,
   "metadata": {},
   "outputs": [],
   "source": [
    "# k 값을 의미하는 변수\n",
    "n_neighbors = 15"
   ]
  },
  {
   "cell_type": "markdown",
   "metadata": {},
   "source": [
    "## 4-1. 정확도 출력"
   ]
  },
  {
   "cell_type": "markdown",
   "metadata": {},
   "source": [
    "Scratch로 작성한 것과 마찬가지로 별도의 voting weight없이 수행하는 코드입니다."
   ]
  },
  {
   "cell_type": "code",
   "execution_count": 14,
   "metadata": {},
   "outputs": [
    {
     "name": "stdout",
     "output_type": "stream",
     "text": [
      "uniform  학습 세트 정확도  : 97.143%\n",
      "uniform  테스트 세트 정확도: 95.556%\n"
     ]
    }
   ],
   "source": [
    "clf = neighbors.KNeighborsClassifier(n_neighbors, weights='uniform')\n",
    "clf.fit(X, y)\n",
    "\n",
    "print(\"uniform  학습 세트 정확도  : {:.3f}%\".format(clf.score(X, y) * 100))\n",
    "print(\"uniform  테스트 세트 정확도: {:.3f}%\".format(clf.score(prediction_X, prediction_y) * 100))"
   ]
  },
  {
   "cell_type": "markdown",
   "metadata": {},
   "source": [
    "### Weighted Vote\n",
    "K-NN은 **가장 닮은 데이터**의 클래스가 테스트 데이터의 클래스로 추정합니다. 그렇다면 가장 가까운 데이터와 k번째 가까운 데이터 둘 중 어느 데이터의 클래스가 더 테스트 데이터의 클래스에 가까울까요?"
   ]
  },
  {
   "cell_type": "markdown",
   "metadata": {},
   "source": [
    "아래는 sklearn에서 제공하는 **거리**를 voting weight로 설정하여 수행하는 코드입니다."
   ]
  },
  {
   "cell_type": "code",
   "execution_count": 15,
   "metadata": {},
   "outputs": [
    {
     "name": "stdout",
     "output_type": "stream",
     "text": [
      "distance 학습 세트 정확도  : 99.048%\n",
      "distance 테스트 세트 정확도: 95.556%\n"
     ]
    }
   ],
   "source": [
    "clf2 = neighbors.KNeighborsClassifier(n_neighbors, weights='distance')\n",
    "clf2.fit(X, y)\n",
    "\n",
    "print(\"distance 학습 세트 정확도  : {:.3f}%\".format(clf2.score(X, y) * 100))\n",
    "print(\"distance 테스트 세트 정확도: {:.3f}%\".format(clf2.score(prediction_X, prediction_y) * 100))"
   ]
  },
  {
   "cell_type": "markdown",
   "metadata": {},
   "source": [
    "## 4-2. 그래프 출력\n",
    "그래프 시각화를 위한 변수들입니다."
   ]
  },
  {
   "cell_type": "code",
   "execution_count": 16,
   "metadata": {},
   "outputs": [],
   "source": [
    "#Mash를 그릴 때 간격을 결정하는 변수\n",
    "h = .02\n",
    "\n",
    "#cmap_light = Mash에 표시될 3가지 색상\n",
    "cmap_light = ListedColormap(['#FFAAAA', '#AAFFAA', '#AAAAFF'])\n",
    "#cmap_bold = 학습 데이터를 표시할 3가지 색상\n",
    "cmap_bold = ListedColormap(['#FF0000', '#00FF00', '#0000FF'])\n",
    "\n",
    "#그래프 범위 설정을 위한 변수\n",
    "x_min, x_max = X[:, 0].min() - .5, X[:, 0].max() + .5\n",
    "y_min, y_max = X[:, 1].min() - .5, X[:, 1].max() + .5\n",
    "xx, yy = np.meshgrid(np.arange(x_min, x_max, h),\n",
    "                     np.arange(y_min, y_max, h))"
   ]
  },
  {
   "cell_type": "code",
   "execution_count": 17,
   "metadata": {},
   "outputs": [
    {
     "data": {
      "image/png": "[encoded data removed]",
      "text/plain": [
       "<Figure size 432x288 with 1 Axes>"
      ]
     },
     "metadata": {
      "needs_background": "light"
     },
     "output_type": "display_data"
    },
    {
     "data": {
      "image/png": "[encoded data removed]",
      "text/plain": [
       "<Figure size 432x288 with 1 Axes>"
      ]
     },
     "metadata": {
      "needs_background": "light"
     },
     "output_type": "display_data"
    }
   ],
   "source": [
    "Z = clf.predict(np.c_[xx.ravel(), yy.ravel()])\n",
    "\n",
    "Z = Z.reshape(xx.shape)\n",
    "plt.figure()\n",
    "plt.pcolormesh(xx, yy, Z, cmap=cmap_light)\n",
    "\n",
    "plt.scatter(X[:, 0], X[:, 1], c=y, cmap=cmap_bold,\n",
    "            edgecolor='k', s=15)\n",
    "plt.xlim(xx.min(), xx.max())\n",
    "plt.ylim(yy.min(), yy.max())\n",
    "plt.title(\"3-Class classification (k = %i, weights = 'uniform')\"\n",
    "          % (n_neighbors))\n",
    "Z = clf2.predict(np.c_[xx.ravel(), yy.ravel()])\n",
    "\n",
    "Z = Z.reshape(xx.shape)\n",
    "plt.figure()\n",
    "plt.pcolormesh(xx, yy, Z, cmap=cmap_light)\n",
    "\n",
    "plt.scatter(X[:, 0], X[:, 1], c=y, cmap=cmap_bold,\n",
    "            edgecolor='k', s=15)\n",
    "plt.xlim(xx.min(), xx.max())\n",
    "plt.ylim(yy.min(), yy.max())\n",
    "plt.title(\"3-Class classification (k = %i, weights = 'distance')\"\n",
    "          % (n_neighbors))\n",
    "plt.show()"
   ]
  },
  {
   "cell_type": "markdown",
   "metadata": {},
   "source": [
    "# 5. 실습\n",
    "위의 예제는 꽃잎의 길이, 꽃잎의 너비만 사용하여 분류를 수행하였습니다\n",
    "\n",
    "이제, 사용하지 않은 다른 특징(꽃받침의 길이, 너비)들도 사용하여 위에서 수행한 k-NN분류를 해보시고 결과를 확인해보세요."
   ]
  },
  {
   "cell_type": "code",
   "execution_count": 36,
   "metadata": {},
   "outputs": [],
   "source": [
    "X, prediction_X, y, prediction_y = train_test_split(iris.data[:,0:4], iris.target, test_size=0.3, random_state = 1)"
   ]
  },
  {
   "cell_type": "markdown",
   "metadata": {},
   "source": [
    "## 5-1 Find neighbors \n",
    "kNN Classification은 선택하는 이웃의 갯수와 거리에 민감한 모델이라고 소개해드렸습니다\n",
    "\n",
    "따라서 두가지가 변할 때, 결과의 변화를 보려합니다\n",
    "\n",
    "먼저, 이웃의 갯수를 바꿔가며 결과를 살펴보도록 하겠습니다"
   ]
  },
  {
   "cell_type": "code",
   "execution_count": 42,
   "metadata": {},
   "outputs": [
    {
     "name": "stdout",
     "output_type": "stream",
     "text": [
      "선택된 이웃의 갯수 : 1\n",
      "학습 세트 정확도  : 100.000%\n",
      "테스트 세트 정확도: 97.778%\n",
      "\n",
      "선택된 이웃의 갯수 : 2\n",
      "학습 세트 정확도  : 100.000%\n",
      "테스트 세트 정확도: 97.778%\n",
      "\n",
      "선택된 이웃의 갯수 : 3\n",
      "학습 세트 정확도  : 100.000%\n",
      "테스트 세트 정확도: 97.778%\n",
      "\n",
      "선택된 이웃의 갯수 : 4\n",
      "학습 세트 정확도  : 100.000%\n",
      "테스트 세트 정확도: 97.778%\n",
      "\n",
      "선택된 이웃의 갯수 : 5\n",
      "학습 세트 정확도  : 100.000%\n",
      "테스트 세트 정확도: 97.778%\n",
      "\n",
      "선택된 이웃의 갯수 : 6\n",
      "학습 세트 정확도  : 100.000%\n",
      "테스트 세트 정확도: 97.778%\n",
      "\n",
      "선택된 이웃의 갯수 : 7\n",
      "학습 세트 정확도  : 100.000%\n",
      "테스트 세트 정확도: 95.556%\n",
      "\n",
      "선택된 이웃의 갯수 : 8\n",
      "학습 세트 정확도  : 100.000%\n",
      "테스트 세트 정확도: 97.778%\n",
      "\n",
      "선택된 이웃의 갯수 : 9\n",
      "학습 세트 정확도  : 100.000%\n",
      "테스트 세트 정확도: 95.556%\n",
      "\n",
      "선택된 이웃의 갯수 : 10\n",
      "학습 세트 정확도  : 100.000%\n",
      "테스트 세트 정확도: 97.778%\n",
      "\n",
      "선택된 이웃의 갯수 : 11\n",
      "학습 세트 정확도  : 100.000%\n",
      "테스트 세트 정확도: 97.778%\n",
      "\n",
      "선택된 이웃의 갯수 : 12\n",
      "학습 세트 정확도  : 100.000%\n",
      "테스트 세트 정확도: 97.778%\n",
      "\n",
      "선택된 이웃의 갯수 : 13\n",
      "학습 세트 정확도  : 100.000%\n",
      "테스트 세트 정확도: 97.778%\n",
      "\n",
      "선택된 이웃의 갯수 : 14\n",
      "학습 세트 정확도  : 100.000%\n",
      "테스트 세트 정확도: 97.778%\n",
      "\n",
      "선택된 이웃의 갯수 : 15\n",
      "학습 세트 정확도  : 100.000%\n",
      "테스트 세트 정확도: 97.778%\n",
      "\n",
      "선택된 이웃의 갯수 : 16\n",
      "학습 세트 정확도  : 100.000%\n",
      "테스트 세트 정확도: 97.778%\n",
      "\n",
      "선택된 이웃의 갯수 : 17\n",
      "학습 세트 정확도  : 100.000%\n",
      "테스트 세트 정확도: 97.778%\n",
      "\n",
      "선택된 이웃의 갯수 : 18\n",
      "학습 세트 정확도  : 100.000%\n",
      "테스트 세트 정확도: 97.778%\n",
      "\n",
      "선택된 이웃의 갯수 : 19\n",
      "학습 세트 정확도  : 100.000%\n",
      "테스트 세트 정확도: 97.778%\n",
      "\n"
     ]
    }
   ],
   "source": [
    "for i in range(1,20):\n",
    "\n",
    "    clf3=neighbors.KNeighborsClassifier(n_neighbors=i,weights='distance')\n",
    "\n",
    "    clf3.fit(X, y)\n",
    "    print('선택된 이웃의 갯수 : %d'%i)\n",
    "    print(\"학습 세트 정확도  : {:.3f}%\".format(clf3.score(X, y) * 100))\n",
    "    print(\"테스트 세트 정확도: {:.3f}%\\n\".format(clf3.score(prediction_X, prediction_y) * 100))"
   ]
  },
  {
   "cell_type": "markdown",
   "metadata": {},
   "source": [
    "모든 데이터를 사용하여  이웃의 갯수에 따라 학습 세트의 정확도는 변하였지만, 테스트 세트에 대한 정확도도 높습니다\n",
    "\n",
    "하지만 모든 데이터에 대해 선택되는 이웃의 갯수가 적을수록 결과가 좋아지는 것은 아니기에 각 데이터마다 적절한 이웃의 갯수를 찾아주셔야 합니다\n"
   ]
  },
  {
   "cell_type": "markdown",
   "metadata": {},
   "source": [
    "## 5-2 Feature scaling"
   ]
  },
  {
   "cell_type": "markdown",
   "metadata": {},
   "source": [
    "연속적인 값을 갖고 있는 Feature들은 값의 단위가 의미를 가질 때가 있습니다\n",
    "\n",
    "하지만 값의 단위가 크게 차이난다면 보다 큰 단위의 값이 작은 단위의 값을 무의미하게 만드는 일이 발생하게 됩니다\n",
    "\n",
    "따라서, 이러한 문제점을 제거하기 위해 거리를 재조정하는 과정이 필요합니다\n",
    "\n",
    "붓꽃 데이터의 값을 조정해보고 결과를 살펴보겠습니다\n",
    "\n",
    "scikit-learn의 StandardScaler는 데이터의 feature들을 각각 평균은 0으로, 분산은 1로 바꿔줍니다\n",
    "\n",
    "그리고, 거리가 비슷해졌기 때문에, weights는 거리가 반영된 것으로 계산하겠습니다"
   ]
  },
  {
   "cell_type": "code",
   "execution_count": 41,
   "metadata": {},
   "outputs": [
    {
     "name": "stdout",
     "output_type": "stream",
     "text": [
      "선택된 이웃의 갯수 : 1\n",
      "학습 세트 정확도  : 100.000%\n",
      "테스트 세트 정확도: 95.556%\n",
      "\n",
      "선택된 이웃의 갯수 : 2\n",
      "학습 세트 정확도  : 100.000%\n",
      "테스트 세트 정확도: 95.556%\n",
      "\n",
      "선택된 이웃의 갯수 : 3\n",
      "학습 세트 정확도  : 100.000%\n",
      "테스트 세트 정확도: 97.778%\n",
      "\n",
      "선택된 이웃의 갯수 : 4\n",
      "학습 세트 정확도  : 100.000%\n",
      "테스트 세트 정확도: 97.778%\n",
      "\n",
      "선택된 이웃의 갯수 : 5\n",
      "학습 세트 정확도  : 100.000%\n",
      "테스트 세트 정확도: 95.556%\n",
      "\n",
      "선택된 이웃의 갯수 : 6\n",
      "학습 세트 정확도  : 100.000%\n",
      "테스트 세트 정확도: 97.778%\n",
      "\n",
      "선택된 이웃의 갯수 : 7\n",
      "학습 세트 정확도  : 100.000%\n",
      "테스트 세트 정확도: 97.778%\n",
      "\n",
      "선택된 이웃의 갯수 : 8\n",
      "학습 세트 정확도  : 100.000%\n",
      "테스트 세트 정확도: 97.778%\n",
      "\n",
      "선택된 이웃의 갯수 : 9\n",
      "학습 세트 정확도  : 100.000%\n",
      "테스트 세트 정확도: 95.556%\n",
      "\n",
      "선택된 이웃의 갯수 : 10\n",
      "학습 세트 정확도  : 100.000%\n",
      "테스트 세트 정확도: 95.556%\n",
      "\n",
      "선택된 이웃의 갯수 : 11\n",
      "학습 세트 정확도  : 100.000%\n",
      "테스트 세트 정확도: 95.556%\n",
      "\n",
      "선택된 이웃의 갯수 : 12\n",
      "학습 세트 정확도  : 100.000%\n",
      "테스트 세트 정확도: 95.556%\n",
      "\n",
      "선택된 이웃의 갯수 : 13\n",
      "학습 세트 정확도  : 100.000%\n",
      "테스트 세트 정확도: 95.556%\n",
      "\n",
      "선택된 이웃의 갯수 : 14\n",
      "학습 세트 정확도  : 100.000%\n",
      "테스트 세트 정확도: 95.556%\n",
      "\n",
      "선택된 이웃의 갯수 : 15\n",
      "학습 세트 정확도  : 100.000%\n",
      "테스트 세트 정확도: 95.556%\n",
      "\n",
      "선택된 이웃의 갯수 : 16\n",
      "학습 세트 정확도  : 100.000%\n",
      "테스트 세트 정확도: 93.333%\n",
      "\n",
      "선택된 이웃의 갯수 : 17\n",
      "학습 세트 정확도  : 100.000%\n",
      "테스트 세트 정확도: 93.333%\n",
      "\n",
      "선택된 이웃의 갯수 : 18\n",
      "학습 세트 정확도  : 100.000%\n",
      "테스트 세트 정확도: 93.333%\n",
      "\n",
      "선택된 이웃의 갯수 : 19\n",
      "학습 세트 정확도  : 100.000%\n",
      "테스트 세트 정확도: 95.556%\n",
      "\n"
     ]
    }
   ],
   "source": [
    "from sklearn.preprocessing import StandardScaler\n",
    "\n",
    "scl1=StandardScaler()\n",
    "scl_train=scl1.fit_transform(X)\n",
    "scl_test=scl1.transform(prediction_X)\n",
    "\n",
    "\n",
    "for i in range(1,20):\n",
    "\n",
    "    clf3=neighbors.KNeighborsClassifier(n_neighbors=i,weights='distance')\n",
    "\n",
    "    clf3.fit(scl_train, y)\n",
    "    print('선택된 이웃의 갯수 : %d'%i)\n",
    "    print(\"학습 세트 정확도  : {:.3f}%\".format(clf3.score(scl_train, y) * 100))\n",
    "    print(\"테스트 세트 정확도: {:.3f}%\\n\".format(clf3.score(scl_test, prediction_y) * 100))"
   ]
  }
 ],
 "metadata": {
  "kernelspec": {
   "display_name": "samsung",
   "language": "python",
   "name": "samsung"
  },
  "language_info": {
   "codemirror_mode": {
    "name": "ipython",
    "version": 3
   },
   "file_extension": ".py",
   "mimetype": "text/x-python",
   "name": "python",
   "nbconvert_exporter": "python",
   "pygments_lexer": "ipython3",
   "version": "3.6.7"
  }
 },
 "nbformat": 4,
 "nbformat_minor": 2
}
